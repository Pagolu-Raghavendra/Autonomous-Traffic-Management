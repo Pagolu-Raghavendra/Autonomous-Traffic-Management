{
 "cells": [
  {
   "cell_type": "code",
   "execution_count": 1,
   "id": "9ce17437",
   "metadata": {},
   "outputs": [
    {
     "name": "stdout",
     "output_type": "stream",
     "text": [
      "Defaulting to user installation because normal site-packages is not writeable\n",
      "Requirement already satisfied: roboflow in c:\\users\\ragha\\appdata\\roaming\\python\\python310\\site-packages (1.1.51)\n",
      "Requirement already satisfied: cycler in c:\\programdata\\anaconda3\\lib\\site-packages (from roboflow) (0.11.0)\n",
      "Collecting opencv-python-headless==4.10.0.84\n",
      "  Using cached opencv_python_headless-4.10.0.84-cp37-abi3-win_amd64.whl (38.8 MB)\n",
      "Requirement already satisfied: python-dateutil in c:\\programdata\\anaconda3\\lib\\site-packages (from roboflow) (2.8.2)\n",
      "Requirement already satisfied: certifi in c:\\programdata\\anaconda3\\lib\\site-packages (from roboflow) (2022.12.7)\n",
      "Requirement already satisfied: python-dotenv in c:\\users\\ragha\\appdata\\roaming\\python\\python310\\site-packages (from roboflow) (1.0.1)\n",
      "Requirement already satisfied: kiwisolver>=1.3.1 in c:\\programdata\\anaconda3\\lib\\site-packages (from roboflow) (1.4.4)\n",
      "Requirement already satisfied: six in c:\\programdata\\anaconda3\\lib\\site-packages (from roboflow) (1.16.0)\n",
      "Requirement already satisfied: matplotlib in c:\\programdata\\anaconda3\\lib\\site-packages (from roboflow) (3.7.0)\n",
      "Requirement already satisfied: idna==3.7 in c:\\users\\ragha\\appdata\\roaming\\python\\python310\\site-packages (from roboflow) (3.7)\n",
      "Requirement already satisfied: numpy>=1.18.5 in c:\\users\\ragha\\appdata\\roaming\\python\\python310\\site-packages (from roboflow) (1.26.4)\n",
      "Requirement already satisfied: requests in c:\\programdata\\anaconda3\\lib\\site-packages (from roboflow) (2.28.1)\n",
      "Requirement already satisfied: urllib3>=1.26.6 in c:\\programdata\\anaconda3\\lib\\site-packages (from roboflow) (1.26.14)\n",
      "Requirement already satisfied: tqdm>=4.41.0 in c:\\programdata\\anaconda3\\lib\\site-packages (from roboflow) (4.64.1)\n",
      "Requirement already satisfied: requests-toolbelt in c:\\users\\ragha\\appdata\\roaming\\python\\python310\\site-packages (from roboflow) (1.0.0)\n",
      "Requirement already satisfied: filetype in c:\\users\\ragha\\appdata\\roaming\\python\\python310\\site-packages (from roboflow) (1.2.0)\n",
      "Requirement already satisfied: Pillow>=7.1.2 in c:\\programdata\\anaconda3\\lib\\site-packages (from roboflow) (9.4.0)\n",
      "Requirement already satisfied: PyYAML>=5.3.1 in c:\\programdata\\anaconda3\\lib\\site-packages (from roboflow) (6.0)\n",
      "Requirement already satisfied: colorama in c:\\programdata\\anaconda3\\lib\\site-packages (from tqdm>=4.41.0->roboflow) (0.4.6)\n",
      "Requirement already satisfied: packaging>=20.0 in c:\\programdata\\anaconda3\\lib\\site-packages (from matplotlib->roboflow) (22.0)\n",
      "Requirement already satisfied: pyparsing>=2.3.1 in c:\\programdata\\anaconda3\\lib\\site-packages (from matplotlib->roboflow) (3.0.9)\n",
      "Requirement already satisfied: fonttools>=4.22.0 in c:\\programdata\\anaconda3\\lib\\site-packages (from matplotlib->roboflow) (4.25.0)\n",
      "Requirement already satisfied: contourpy>=1.0.1 in c:\\programdata\\anaconda3\\lib\\site-packages (from matplotlib->roboflow) (1.0.5)\n",
      "Requirement already satisfied: charset-normalizer<3,>=2 in c:\\programdata\\anaconda3\\lib\\site-packages (from requests->roboflow) (2.0.4)\n",
      "Installing collected packages: opencv-python-headless\n",
      "Successfully installed opencv-python-headless-4.10.0.84\n",
      "loading Roboflow workspace...\n",
      "loading Roboflow project...\n"
     ]
    },
    {
     "name": "stderr",
     "output_type": "stream",
     "text": [
      "Downloading Dataset Version Zip in Ambulance-3 to yolov8:: 100%|██████████| 44661/44661 [00:05<00:00, 8471.89it/s] "
     ]
    },
    {
     "name": "stdout",
     "output_type": "stream",
     "text": [
      "\n"
     ]
    },
    {
     "name": "stderr",
     "output_type": "stream",
     "text": [
      "\n",
      "Extracting Dataset Version Zip to Ambulance-3 in yolov8:: 100%|██████████| 1626/1626 [00:02<00:00, 725.02it/s]\n"
     ]
    }
   ],
   "source": [
    "!pip install roboflow\n",
    "\n",
    "from roboflow import Roboflow\n",
    "rf = Roboflow(api_key=\"IxpmXEdTb0yDhuxk2fcy\")\n",
    "project = rf.workspace(\"ambulance-oxmvh\").project(\"ambulance-2ks9z\")\n",
    "version = project.version(3)\n",
    "dataset = version.download(\"yolov8\")"
   ]
  },
  {
   "cell_type": "code",
   "execution_count": 3,
   "id": "0a06b49d",
   "metadata": {},
   "outputs": [
    {
     "name": "stdout",
     "output_type": "stream",
     "text": [
      "New https://pypi.org/project/ultralytics/8.3.89 available  Update with 'pip install -U ultralytics'\n",
      "Ultralytics 8.3.40  Python-3.10.9 torch-2.5.1+cpu CPU (11th Gen Intel Core(TM) i5-1135G7 2.40GHz)\n",
      "\u001b[34m\u001b[1mengine\\trainer: \u001b[0mtask=detect, mode=train, model=yolov8n.pt, data=Ambulance-3/data.yaml, epochs=50, time=None, patience=100, batch=16, imgsz=640, save=True, save_period=-1, cache=False, device=None, workers=8, project=None, name=train7, exist_ok=False, pretrained=True, optimizer=auto, verbose=True, seed=0, deterministic=True, single_cls=False, rect=False, cos_lr=False, close_mosaic=10, resume=False, amp=True, fraction=1.0, profile=False, freeze=None, multi_scale=False, overlap_mask=True, mask_ratio=4, dropout=0.0, val=True, split=val, save_json=False, save_hybrid=False, conf=None, iou=0.7, max_det=300, half=False, dnn=False, plots=True, source=None, vid_stride=1, stream_buffer=False, visualize=False, augment=False, agnostic_nms=False, classes=None, retina_masks=False, embed=None, show=False, save_frames=False, save_txt=False, save_conf=False, save_crop=False, show_labels=True, show_conf=True, show_boxes=True, line_width=None, format=torchscript, keras=False, optimize=False, int8=False, dynamic=False, simplify=True, opset=None, workspace=None, nms=False, lr0=0.01, lrf=0.01, momentum=0.937, weight_decay=0.0005, warmup_epochs=3.0, warmup_momentum=0.8, warmup_bias_lr=0.1, box=7.5, cls=0.5, dfl=1.5, pose=12.0, kobj=1.0, nbs=64, hsv_h=0.015, hsv_s=0.7, hsv_v=0.4, degrees=0.0, translate=0.1, scale=0.5, shear=0.0, perspective=0.0, flipud=0.0, fliplr=0.5, bgr=0.0, mosaic=1.0, mixup=0.0, copy_paste=0.0, copy_paste_mode=flip, auto_augment=randaugment, erasing=0.4, crop_fraction=1.0, cfg=None, tracker=botsort.yaml, save_dir=runs\\detect\\train7\n",
      "Overriding model.yaml nc=80 with nc=1\n",
      "\n",
      "                   from  n    params  module                                       arguments                     \n",
      "  0                  -1  1       464  ultralytics.nn.modules.conv.Conv             [3, 16, 3, 2]                 \n",
      "  1                  -1  1      4672  ultralytics.nn.modules.conv.Conv             [16, 32, 3, 2]                \n",
      "  2                  -1  1      7360  ultralytics.nn.modules.block.C2f             [32, 32, 1, True]             \n",
      "  3                  -1  1     18560  ultralytics.nn.modules.conv.Conv             [32, 64, 3, 2]                \n",
      "  4                  -1  2     49664  ultralytics.nn.modules.block.C2f             [64, 64, 2, True]             \n",
      "  5                  -1  1     73984  ultralytics.nn.modules.conv.Conv             [64, 128, 3, 2]               \n",
      "  6                  -1  2    197632  ultralytics.nn.modules.block.C2f             [128, 128, 2, True]           \n",
      "  7                  -1  1    295424  ultralytics.nn.modules.conv.Conv             [128, 256, 3, 2]              \n",
      "  8                  -1  1    460288  ultralytics.nn.modules.block.C2f             [256, 256, 1, True]           \n",
      "  9                  -1  1    164608  ultralytics.nn.modules.block.SPPF            [256, 256, 5]                 \n",
      " 10                  -1  1         0  torch.nn.modules.upsampling.Upsample         [None, 2, 'nearest']          \n",
      " 11             [-1, 6]  1         0  ultralytics.nn.modules.conv.Concat           [1]                           \n",
      " 12                  -1  1    148224  ultralytics.nn.modules.block.C2f             [384, 128, 1]                 \n",
      " 13                  -1  1         0  torch.nn.modules.upsampling.Upsample         [None, 2, 'nearest']          \n",
      " 14             [-1, 4]  1         0  ultralytics.nn.modules.conv.Concat           [1]                           \n",
      " 15                  -1  1     37248  ultralytics.nn.modules.block.C2f             [192, 64, 1]                  \n",
      " 16                  -1  1     36992  ultralytics.nn.modules.conv.Conv             [64, 64, 3, 2]                \n",
      " 17            [-1, 12]  1         0  ultralytics.nn.modules.conv.Concat           [1]                           \n",
      " 18                  -1  1    123648  ultralytics.nn.modules.block.C2f             [192, 128, 1]                 \n",
      " 19                  -1  1    147712  ultralytics.nn.modules.conv.Conv             [128, 128, 3, 2]              \n",
      " 20             [-1, 9]  1         0  ultralytics.nn.modules.conv.Concat           [1]                           \n",
      " 21                  -1  1    493056  ultralytics.nn.modules.block.C2f             [384, 256, 1]                 \n",
      " 22        [15, 18, 21]  1    751507  ultralytics.nn.modules.head.Detect           [1, [64, 128, 256]]           \n",
      "Model summary: 225 layers, 3,011,043 parameters, 3,011,027 gradients, 8.2 GFLOPs\n",
      "\n",
      "Transferred 319/355 items from pretrained weights\n",
      "\u001b[34m\u001b[1mTensorBoard: \u001b[0mStart with 'tensorboard --logdir runs\\detect\\train7', view at http://localhost:6006/\n",
      "Freezing layer 'model.22.dfl.conv.weight'\n"
     ]
    },
    {
     "name": "stderr",
     "output_type": "stream",
     "text": [
      "\u001b[34m\u001b[1mtrain: \u001b[0mScanning C:\\Users\\ragha\\Ambulance-3\\train\\labels... 600 images, 0 backgrounds, 0 corrupt: 100%|██████████| 600/600 [00:02<00:00, 207.16it/s]"
     ]
    },
    {
     "name": "stdout",
     "output_type": "stream",
     "text": [
      "\u001b[34m\u001b[1mtrain: \u001b[0mNew cache created: C:\\Users\\ragha\\Ambulance-3\\train\\labels.cache\n"
     ]
    },
    {
     "name": "stderr",
     "output_type": "stream",
     "text": [
      "\n",
      "\u001b[34m\u001b[1mval: \u001b[0mScanning C:\\Users\\ragha\\Ambulance-3\\valid\\labels... 137 images, 0 backgrounds, 0 corrupt: 100%|██████████| 137/137 [00:00<00:00, 215.01it/s]"
     ]
    },
    {
     "name": "stdout",
     "output_type": "stream",
     "text": [
      "\u001b[34m\u001b[1mval: \u001b[0mNew cache created: C:\\Users\\ragha\\Ambulance-3\\valid\\labels.cache\n"
     ]
    },
    {
     "name": "stderr",
     "output_type": "stream",
     "text": [
      "\n"
     ]
    },
    {
     "name": "stdout",
     "output_type": "stream",
     "text": [
      "Plotting labels to runs\\detect\\train7\\labels.jpg... \n",
      "\u001b[34m\u001b[1moptimizer:\u001b[0m 'optimizer=auto' found, ignoring 'lr0=0.01' and 'momentum=0.937' and determining best 'optimizer', 'lr0' and 'momentum' automatically... \n",
      "\u001b[34m\u001b[1moptimizer:\u001b[0m AdamW(lr=0.002, momentum=0.9) with parameter groups 57 weight(decay=0.0), 64 weight(decay=0.0005), 63 bias(decay=0.0)\n",
      "\u001b[34m\u001b[1mTensorBoard: \u001b[0mmodel graph visualization added \n",
      "Image sizes 640 train, 640 val\n",
      "Using 0 dataloader workers\n",
      "Logging results to \u001b[1mruns\\detect\\train7\u001b[0m\n",
      "Starting training for 50 epochs...\n",
      "\n",
      "      Epoch    GPU_mem   box_loss   cls_loss   dfl_loss  Instances       Size\n"
     ]
    },
    {
     "name": "stderr",
     "output_type": "stream",
     "text": [
      "       1/50         0G      1.294       1.99      1.588         18        640: 100%|██████████| 38/38 [06:01<00:00,  9.51s/it]\n",
      "                 Class     Images  Instances      Box(P          R      mAP50  mAP50-95): 100%|██████████| 5/5 [00:28<00:00,  5.62s/it]"
     ]
    },
    {
     "name": "stdout",
     "output_type": "stream",
     "text": [
      "                   all        137        155      0.925      0.558      0.661      0.388\n"
     ]
    },
    {
     "name": "stderr",
     "output_type": "stream",
     "text": [
      "\n"
     ]
    },
    {
     "name": "stdout",
     "output_type": "stream",
     "text": [
      "\n",
      "      Epoch    GPU_mem   box_loss   cls_loss   dfl_loss  Instances       Size\n"
     ]
    },
    {
     "name": "stderr",
     "output_type": "stream",
     "text": [
      "       2/50         0G       1.34      1.678      1.609         29        640: 100%|██████████| 38/38 [05:07<00:00,  8.10s/it]\n",
      "                 Class     Images  Instances      Box(P          R      mAP50  mAP50-95): 100%|██████████| 5/5 [00:25<00:00,  5.08s/it]"
     ]
    },
    {
     "name": "stdout",
     "output_type": "stream",
     "text": [
      "                   all        137        155      0.695      0.555      0.622      0.326\n"
     ]
    },
    {
     "name": "stderr",
     "output_type": "stream",
     "text": [
      "\n"
     ]
    },
    {
     "name": "stdout",
     "output_type": "stream",
     "text": [
      "\n",
      "      Epoch    GPU_mem   box_loss   cls_loss   dfl_loss  Instances       Size\n"
     ]
    },
    {
     "name": "stderr",
     "output_type": "stream",
     "text": [
      "       3/50         0G      1.359      1.508      1.645         17        640: 100%|██████████| 38/38 [05:12<00:00,  8.21s/it]\n",
      "                 Class     Images  Instances      Box(P          R      mAP50  mAP50-95): 100%|██████████| 5/5 [00:23<00:00,  4.70s/it]"
     ]
    },
    {
     "name": "stdout",
     "output_type": "stream",
     "text": [
      "                   all        137        155      0.843      0.652      0.738      0.414\n"
     ]
    },
    {
     "name": "stderr",
     "output_type": "stream",
     "text": [
      "\n"
     ]
    },
    {
     "name": "stdout",
     "output_type": "stream",
     "text": [
      "\n",
      "      Epoch    GPU_mem   box_loss   cls_loss   dfl_loss  Instances       Size\n"
     ]
    },
    {
     "name": "stderr",
     "output_type": "stream",
     "text": [
      "       4/50         0G        1.4      1.527      1.658         25        640: 100%|██████████| 38/38 [05:05<00:00,  8.03s/it]\n",
      "                 Class     Images  Instances      Box(P          R      mAP50  mAP50-95): 100%|██████████| 5/5 [00:23<00:00,  4.77s/it]"
     ]
    },
    {
     "name": "stdout",
     "output_type": "stream",
     "text": [
      "                   all        137        155      0.112      0.284     0.0941     0.0387\n"
     ]
    },
    {
     "name": "stderr",
     "output_type": "stream",
     "text": [
      "\n"
     ]
    },
    {
     "name": "stdout",
     "output_type": "stream",
     "text": [
      "\n",
      "      Epoch    GPU_mem   box_loss   cls_loss   dfl_loss  Instances       Size\n"
     ]
    },
    {
     "name": "stderr",
     "output_type": "stream",
     "text": [
      "       5/50         0G      1.369      1.368      1.641         19        640: 100%|██████████| 38/38 [05:16<00:00,  8.32s/it]\n",
      "                 Class     Images  Instances      Box(P          R      mAP50  mAP50-95): 100%|██████████| 5/5 [00:22<00:00,  4.59s/it]"
     ]
    },
    {
     "name": "stdout",
     "output_type": "stream",
     "text": [
      "                   all        137        155      0.579      0.657      0.573      0.267\n"
     ]
    },
    {
     "name": "stderr",
     "output_type": "stream",
     "text": [
      "\n"
     ]
    },
    {
     "name": "stdout",
     "output_type": "stream",
     "text": [
      "\n",
      "      Epoch    GPU_mem   box_loss   cls_loss   dfl_loss  Instances       Size\n"
     ]
    },
    {
     "name": "stderr",
     "output_type": "stream",
     "text": [
      "       6/50         0G      1.365      1.277       1.63         15        640: 100%|██████████| 38/38 [05:06<00:00,  8.07s/it]\n",
      "                 Class     Images  Instances      Box(P          R      mAP50  mAP50-95): 100%|██████████| 5/5 [00:23<00:00,  4.69s/it]"
     ]
    },
    {
     "name": "stdout",
     "output_type": "stream",
     "text": [
      "                   all        137        155      0.742        0.6      0.707      0.382\n"
     ]
    },
    {
     "name": "stderr",
     "output_type": "stream",
     "text": [
      "\n"
     ]
    },
    {
     "name": "stdout",
     "output_type": "stream",
     "text": [
      "\n",
      "      Epoch    GPU_mem   box_loss   cls_loss   dfl_loss  Instances       Size\n"
     ]
    },
    {
     "name": "stderr",
     "output_type": "stream",
     "text": [
      "       7/50         0G      1.297      1.201      1.577         26        640: 100%|██████████| 38/38 [05:09<00:00,  8.14s/it]\n",
      "                 Class     Images  Instances      Box(P          R      mAP50  mAP50-95): 100%|██████████| 5/5 [00:24<00:00,  4.88s/it]"
     ]
    },
    {
     "name": "stdout",
     "output_type": "stream",
     "text": [
      "                   all        137        155       0.73       0.61      0.695        0.3\n"
     ]
    },
    {
     "name": "stderr",
     "output_type": "stream",
     "text": [
      "\n"
     ]
    },
    {
     "name": "stdout",
     "output_type": "stream",
     "text": [
      "\n",
      "      Epoch    GPU_mem   box_loss   cls_loss   dfl_loss  Instances       Size\n"
     ]
    },
    {
     "name": "stderr",
     "output_type": "stream",
     "text": [
      "       8/50         0G      1.272      1.114      1.546         24        640: 100%|██████████| 38/38 [05:16<00:00,  8.32s/it]\n",
      "                 Class     Images  Instances      Box(P          R      mAP50  mAP50-95): 100%|██████████| 5/5 [00:23<00:00,  4.60s/it]"
     ]
    },
    {
     "name": "stdout",
     "output_type": "stream",
     "text": [
      "                   all        137        155      0.911      0.729      0.838      0.443\n"
     ]
    },
    {
     "name": "stderr",
     "output_type": "stream",
     "text": [
      "\n"
     ]
    },
    {
     "name": "stdout",
     "output_type": "stream",
     "text": [
      "\n",
      "      Epoch    GPU_mem   box_loss   cls_loss   dfl_loss  Instances       Size\n"
     ]
    },
    {
     "name": "stderr",
     "output_type": "stream",
     "text": [
      "       9/50         0G      1.287      1.146      1.587         14        640: 100%|██████████| 38/38 [05:06<00:00,  8.06s/it]\n",
      "                 Class     Images  Instances      Box(P          R      mAP50  mAP50-95): 100%|██████████| 5/5 [00:25<00:00,  5.11s/it]"
     ]
    },
    {
     "name": "stdout",
     "output_type": "stream",
     "text": [
      "                   all        137        155      0.855      0.759      0.844      0.478\n"
     ]
    },
    {
     "name": "stderr",
     "output_type": "stream",
     "text": [
      "\n"
     ]
    },
    {
     "name": "stdout",
     "output_type": "stream",
     "text": [
      "\n",
      "      Epoch    GPU_mem   box_loss   cls_loss   dfl_loss  Instances       Size\n"
     ]
    },
    {
     "name": "stderr",
     "output_type": "stream",
     "text": [
      "      10/50         0G      1.262      1.022      1.556         27        640: 100%|██████████| 38/38 [05:08<00:00,  8.11s/it]\n",
      "                 Class     Images  Instances      Box(P          R      mAP50  mAP50-95): 100%|██████████| 5/5 [00:23<00:00,  4.79s/it]"
     ]
    },
    {
     "name": "stdout",
     "output_type": "stream",
     "text": [
      "                   all        137        155      0.882      0.839      0.878      0.573\n"
     ]
    },
    {
     "name": "stderr",
     "output_type": "stream",
     "text": [
      "\n"
     ]
    },
    {
     "name": "stdout",
     "output_type": "stream",
     "text": [
      "\n",
      "      Epoch    GPU_mem   box_loss   cls_loss   dfl_loss  Instances       Size\n"
     ]
    },
    {
     "name": "stderr",
     "output_type": "stream",
     "text": [
      "      11/50         0G      1.295       1.04      1.567         23        640: 100%|██████████| 38/38 [05:03<00:00,  8.00s/it]\n",
      "                 Class     Images  Instances      Box(P          R      mAP50  mAP50-95): 100%|██████████| 5/5 [00:21<00:00,  4.39s/it]"
     ]
    },
    {
     "name": "stdout",
     "output_type": "stream",
     "text": [
      "                   all        137        155      0.739      0.711      0.723      0.458\n"
     ]
    },
    {
     "name": "stderr",
     "output_type": "stream",
     "text": [
      "\n"
     ]
    },
    {
     "name": "stdout",
     "output_type": "stream",
     "text": [
      "\n",
      "      Epoch    GPU_mem   box_loss   cls_loss   dfl_loss  Instances       Size\n"
     ]
    },
    {
     "name": "stderr",
     "output_type": "stream",
     "text": [
      "      12/50         0G      1.191     0.9169      1.498         13        640: 100%|██████████| 38/38 [05:05<00:00,  8.05s/it]\n",
      "                 Class     Images  Instances      Box(P          R      mAP50  mAP50-95): 100%|██████████| 5/5 [00:23<00:00,  4.61s/it]"
     ]
    },
    {
     "name": "stdout",
     "output_type": "stream",
     "text": [
      "                   all        137        155      0.956      0.858      0.908      0.594\n"
     ]
    },
    {
     "name": "stderr",
     "output_type": "stream",
     "text": [
      "\n"
     ]
    },
    {
     "name": "stdout",
     "output_type": "stream",
     "text": [
      "\n",
      "      Epoch    GPU_mem   box_loss   cls_loss   dfl_loss  Instances       Size\n"
     ]
    },
    {
     "name": "stderr",
     "output_type": "stream",
     "text": [
      "      13/50         0G       1.21     0.9241      1.502         22        640: 100%|██████████| 38/38 [05:21<00:00,  8.47s/it]\n",
      "                 Class     Images  Instances      Box(P          R      mAP50  mAP50-95): 100%|██████████| 5/5 [00:25<00:00,  5.10s/it]"
     ]
    },
    {
     "name": "stdout",
     "output_type": "stream",
     "text": [
      "                   all        137        155      0.898       0.85      0.904      0.585\n"
     ]
    },
    {
     "name": "stderr",
     "output_type": "stream",
     "text": [
      "\n"
     ]
    },
    {
     "name": "stdout",
     "output_type": "stream",
     "text": [
      "\n",
      "      Epoch    GPU_mem   box_loss   cls_loss   dfl_loss  Instances       Size\n"
     ]
    },
    {
     "name": "stderr",
     "output_type": "stream",
     "text": [
      "      14/50         0G      1.178     0.8653      1.488         26        640: 100%|██████████| 38/38 [05:03<00:00,  8.00s/it]\n",
      "                 Class     Images  Instances      Box(P          R      mAP50  mAP50-95): 100%|██████████| 5/5 [00:22<00:00,  4.41s/it]"
     ]
    },
    {
     "name": "stdout",
     "output_type": "stream",
     "text": [
      "                   all        137        155      0.877      0.873       0.92      0.594\n"
     ]
    },
    {
     "name": "stderr",
     "output_type": "stream",
     "text": [
      "\n"
     ]
    },
    {
     "name": "stdout",
     "output_type": "stream",
     "text": [
      "\n",
      "      Epoch    GPU_mem   box_loss   cls_loss   dfl_loss  Instances       Size\n"
     ]
    },
    {
     "name": "stderr",
     "output_type": "stream",
     "text": [
      "      15/50         0G      1.184      0.863      1.482         29        640: 100%|██████████| 38/38 [05:04<00:00,  8.01s/it]\n",
      "                 Class     Images  Instances      Box(P          R      mAP50  mAP50-95): 100%|██████████| 5/5 [00:23<00:00,  4.76s/it]"
     ]
    },
    {
     "name": "stdout",
     "output_type": "stream",
     "text": [
      "                   all        137        155      0.932      0.826      0.894      0.586\n"
     ]
    },
    {
     "name": "stderr",
     "output_type": "stream",
     "text": [
      "\n"
     ]
    },
    {
     "name": "stdout",
     "output_type": "stream",
     "text": [
      "\n",
      "      Epoch    GPU_mem   box_loss   cls_loss   dfl_loss  Instances       Size\n"
     ]
    },
    {
     "name": "stderr",
     "output_type": "stream",
     "text": [
      "      16/50         0G      1.203      0.857      1.519         18        640: 100%|██████████| 38/38 [05:26<00:00,  8.59s/it]\n",
      "                 Class     Images  Instances      Box(P          R      mAP50  mAP50-95): 100%|██████████| 5/5 [00:24<00:00,  4.86s/it]"
     ]
    },
    {
     "name": "stdout",
     "output_type": "stream",
     "text": [
      "                   all        137        155      0.925       0.88      0.926      0.631\n"
     ]
    },
    {
     "name": "stderr",
     "output_type": "stream",
     "text": [
      "\n"
     ]
    },
    {
     "name": "stdout",
     "output_type": "stream",
     "text": [
      "\n",
      "      Epoch    GPU_mem   box_loss   cls_loss   dfl_loss  Instances       Size\n"
     ]
    },
    {
     "name": "stderr",
     "output_type": "stream",
     "text": [
      "      17/50         0G      1.175     0.8466      1.482         21        640: 100%|██████████| 38/38 [05:05<00:00,  8.03s/it]\n",
      "                 Class     Images  Instances      Box(P          R      mAP50  mAP50-95): 100%|██████████| 5/5 [00:23<00:00,  4.68s/it]"
     ]
    },
    {
     "name": "stdout",
     "output_type": "stream",
     "text": [
      "                   all        137        155      0.967      0.884      0.938      0.633\n"
     ]
    },
    {
     "name": "stderr",
     "output_type": "stream",
     "text": [
      "\n"
     ]
    },
    {
     "name": "stdout",
     "output_type": "stream",
     "text": [
      "\n",
      "      Epoch    GPU_mem   box_loss   cls_loss   dfl_loss  Instances       Size\n"
     ]
    },
    {
     "name": "stderr",
     "output_type": "stream",
     "text": [
      "      18/50         0G      1.132     0.8091      1.446         20        640: 100%|██████████| 38/38 [05:13<00:00,  8.25s/it]\n",
      "                 Class     Images  Instances      Box(P          R      mAP50  mAP50-95): 100%|██████████| 5/5 [00:25<00:00,  5.06s/it]"
     ]
    },
    {
     "name": "stdout",
     "output_type": "stream",
     "text": [
      "                   all        137        155      0.926      0.845      0.892      0.618\n"
     ]
    },
    {
     "name": "stderr",
     "output_type": "stream",
     "text": [
      "\n"
     ]
    },
    {
     "name": "stdout",
     "output_type": "stream",
     "text": [
      "\n",
      "      Epoch    GPU_mem   box_loss   cls_loss   dfl_loss  Instances       Size\n"
     ]
    },
    {
     "name": "stderr",
     "output_type": "stream",
     "text": [
      "      19/50         0G      1.119      0.782      1.442         17        640: 100%|██████████| 38/38 [05:01<00:00,  7.94s/it]\n",
      "                 Class     Images  Instances      Box(P          R      mAP50  mAP50-95): 100%|██████████| 5/5 [00:21<00:00,  4.40s/it]"
     ]
    },
    {
     "name": "stdout",
     "output_type": "stream",
     "text": [
      "                   all        137        155      0.978      0.879      0.931      0.634\n"
     ]
    },
    {
     "name": "stderr",
     "output_type": "stream",
     "text": [
      "\n"
     ]
    },
    {
     "name": "stdout",
     "output_type": "stream",
     "text": [
      "\n",
      "      Epoch    GPU_mem   box_loss   cls_loss   dfl_loss  Instances       Size\n"
     ]
    },
    {
     "name": "stderr",
     "output_type": "stream",
     "text": [
      "      20/50         0G       1.11     0.7443      1.421         34        640: 100%|██████████| 38/38 [05:05<00:00,  8.03s/it]\n",
      "                 Class     Images  Instances      Box(P          R      mAP50  mAP50-95): 100%|██████████| 5/5 [00:23<00:00,  4.76s/it]"
     ]
    },
    {
     "name": "stdout",
     "output_type": "stream",
     "text": [
      "                   all        137        155      0.894      0.865      0.918      0.612\n"
     ]
    },
    {
     "name": "stderr",
     "output_type": "stream",
     "text": [
      "\n"
     ]
    },
    {
     "name": "stdout",
     "output_type": "stream",
     "text": [
      "\n",
      "      Epoch    GPU_mem   box_loss   cls_loss   dfl_loss  Instances       Size\n"
     ]
    },
    {
     "name": "stderr",
     "output_type": "stream",
     "text": [
      "      21/50         0G      1.145     0.7736      1.455         16        640: 100%|██████████| 38/38 [05:03<00:00,  7.99s/it]\n",
      "                 Class     Images  Instances      Box(P          R      mAP50  mAP50-95): 100%|██████████| 5/5 [00:22<00:00,  4.53s/it]"
     ]
    },
    {
     "name": "stdout",
     "output_type": "stream",
     "text": [
      "                   all        137        155      0.952      0.889      0.939       0.63\n"
     ]
    },
    {
     "name": "stderr",
     "output_type": "stream",
     "text": [
      "\n"
     ]
    },
    {
     "name": "stdout",
     "output_type": "stream",
     "text": [
      "\n",
      "      Epoch    GPU_mem   box_loss   cls_loss   dfl_loss  Instances       Size\n"
     ]
    },
    {
     "name": "stderr",
     "output_type": "stream",
     "text": [
      "      22/50         0G      1.127     0.7784      1.446         25        640: 100%|██████████| 38/38 [04:59<00:00,  7.89s/it]\n",
      "                 Class     Images  Instances      Box(P          R      mAP50  mAP50-95): 100%|██████████| 5/5 [00:24<00:00,  4.83s/it]"
     ]
    },
    {
     "name": "stdout",
     "output_type": "stream",
     "text": [
      "                   all        137        155      0.951      0.883      0.944      0.653\n"
     ]
    },
    {
     "name": "stderr",
     "output_type": "stream",
     "text": [
      "\n"
     ]
    },
    {
     "name": "stdout",
     "output_type": "stream",
     "text": [
      "\n",
      "      Epoch    GPU_mem   box_loss   cls_loss   dfl_loss  Instances       Size\n"
     ]
    },
    {
     "name": "stderr",
     "output_type": "stream",
     "text": [
      "      23/50         0G      1.112     0.7675      1.429         20        640: 100%|██████████| 38/38 [05:08<00:00,  8.11s/it]\n",
      "                 Class     Images  Instances      Box(P          R      mAP50  mAP50-95): 100%|██████████| 5/5 [00:23<00:00,  4.64s/it]"
     ]
    },
    {
     "name": "stdout",
     "output_type": "stream",
     "text": [
      "                   all        137        155      0.962       0.91      0.961      0.667\n"
     ]
    },
    {
     "name": "stderr",
     "output_type": "stream",
     "text": [
      "\n"
     ]
    },
    {
     "name": "stdout",
     "output_type": "stream",
     "text": [
      "\n",
      "      Epoch    GPU_mem   box_loss   cls_loss   dfl_loss  Instances       Size\n"
     ]
    },
    {
     "name": "stderr",
     "output_type": "stream",
     "text": [
      "      24/50         0G      1.086     0.7259      1.424         24        640: 100%|██████████| 38/38 [06:07<00:00,  9.68s/it]\n",
      "                 Class     Images  Instances      Box(P          R      mAP50  mAP50-95): 100%|██████████| 5/5 [00:35<00:00,  7.02s/it]"
     ]
    },
    {
     "name": "stdout",
     "output_type": "stream",
     "text": [
      "                   all        137        155      0.952      0.923      0.949      0.673\n"
     ]
    },
    {
     "name": "stderr",
     "output_type": "stream",
     "text": [
      "\n"
     ]
    },
    {
     "name": "stdout",
     "output_type": "stream",
     "text": [
      "\n",
      "      Epoch    GPU_mem   box_loss   cls_loss   dfl_loss  Instances       Size\n"
     ]
    },
    {
     "name": "stderr",
     "output_type": "stream",
     "text": [
      "      25/50         0G        1.1      0.742      1.423         15        640: 100%|██████████| 38/38 [06:28<00:00, 10.23s/it]\n",
      "                 Class     Images  Instances      Box(P          R      mAP50  mAP50-95): 100%|██████████| 5/5 [00:34<00:00,  6.82s/it]"
     ]
    },
    {
     "name": "stdout",
     "output_type": "stream",
     "text": [
      "                   all        137        155      0.955       0.91      0.944      0.677\n"
     ]
    },
    {
     "name": "stderr",
     "output_type": "stream",
     "text": [
      "\n"
     ]
    },
    {
     "name": "stdout",
     "output_type": "stream",
     "text": [
      "\n",
      "      Epoch    GPU_mem   box_loss   cls_loss   dfl_loss  Instances       Size\n"
     ]
    },
    {
     "name": "stderr",
     "output_type": "stream",
     "text": [
      "      26/50         0G      1.065     0.7125      1.408         17        640: 100%|██████████| 38/38 [06:26<00:00, 10.16s/it]\n",
      "                 Class     Images  Instances      Box(P          R      mAP50  mAP50-95): 100%|██████████| 5/5 [00:33<00:00,  6.70s/it]"
     ]
    },
    {
     "name": "stdout",
     "output_type": "stream",
     "text": [
      "                   all        137        155      0.928      0.918      0.938      0.681\n"
     ]
    },
    {
     "name": "stderr",
     "output_type": "stream",
     "text": [
      "\n"
     ]
    },
    {
     "name": "stdout",
     "output_type": "stream",
     "text": [
      "\n",
      "      Epoch    GPU_mem   box_loss   cls_loss   dfl_loss  Instances       Size\n"
     ]
    },
    {
     "name": "stderr",
     "output_type": "stream",
     "text": [
      "      27/50         0G      1.075     0.7162      1.413         19        640: 100%|██████████| 38/38 [06:28<00:00, 10.23s/it]\n",
      "                 Class     Images  Instances      Box(P          R      mAP50  mAP50-95): 100%|██████████| 5/5 [00:34<00:00,  6.83s/it]"
     ]
    },
    {
     "name": "stdout",
     "output_type": "stream",
     "text": [
      "                   all        137        155      0.915      0.916      0.946      0.659\n"
     ]
    },
    {
     "name": "stderr",
     "output_type": "stream",
     "text": [
      "\n"
     ]
    },
    {
     "name": "stdout",
     "output_type": "stream",
     "text": [
      "\n",
      "      Epoch    GPU_mem   box_loss   cls_loss   dfl_loss  Instances       Size\n"
     ]
    },
    {
     "name": "stderr",
     "output_type": "stream",
     "text": [
      "      28/50         0G      1.064     0.6831      1.396         29        640: 100%|██████████| 38/38 [06:28<00:00, 10.23s/it]\n",
      "                 Class     Images  Instances      Box(P          R      mAP50  mAP50-95): 100%|██████████| 5/5 [00:33<00:00,  6.80s/it]"
     ]
    },
    {
     "name": "stdout",
     "output_type": "stream",
     "text": [
      "                   all        137        155      0.989       0.89      0.939       0.66\n"
     ]
    },
    {
     "name": "stderr",
     "output_type": "stream",
     "text": [
      "\n"
     ]
    },
    {
     "name": "stdout",
     "output_type": "stream",
     "text": [
      "\n",
      "      Epoch    GPU_mem   box_loss   cls_loss   dfl_loss  Instances       Size\n"
     ]
    },
    {
     "name": "stderr",
     "output_type": "stream",
     "text": [
      "      29/50         0G      1.023     0.6716      1.383         22        640: 100%|██████████| 38/38 [06:04<00:00,  9.58s/it]\n",
      "                 Class     Images  Instances      Box(P          R      mAP50  mAP50-95): 100%|██████████| 5/5 [00:22<00:00,  4.43s/it]"
     ]
    },
    {
     "name": "stdout",
     "output_type": "stream",
     "text": [
      "                   all        137        155       0.97      0.903      0.967      0.675\n"
     ]
    },
    {
     "name": "stderr",
     "output_type": "stream",
     "text": [
      "\n"
     ]
    },
    {
     "name": "stdout",
     "output_type": "stream",
     "text": [
      "\n",
      "      Epoch    GPU_mem   box_loss   cls_loss   dfl_loss  Instances       Size\n"
     ]
    },
    {
     "name": "stderr",
     "output_type": "stream",
     "text": [
      "      30/50         0G      1.047     0.6574      1.387         17        640: 100%|██████████| 38/38 [05:08<00:00,  8.13s/it]\n",
      "                 Class     Images  Instances      Box(P          R      mAP50  mAP50-95): 100%|██████████| 5/5 [00:22<00:00,  4.56s/it]"
     ]
    },
    {
     "name": "stdout",
     "output_type": "stream",
     "text": [
      "                   all        137        155      0.973      0.921      0.972      0.699\n"
     ]
    },
    {
     "name": "stderr",
     "output_type": "stream",
     "text": [
      "\n"
     ]
    },
    {
     "name": "stdout",
     "output_type": "stream",
     "text": [
      "\n",
      "      Epoch    GPU_mem   box_loss   cls_loss   dfl_loss  Instances       Size\n"
     ]
    },
    {
     "name": "stderr",
     "output_type": "stream",
     "text": [
      "      31/50         0G      1.047     0.6649      1.382         23        640: 100%|██████████| 38/38 [05:01<00:00,  7.93s/it]\n",
      "                 Class     Images  Instances      Box(P          R      mAP50  mAP50-95): 100%|██████████| 5/5 [00:23<00:00,  4.75s/it]"
     ]
    },
    {
     "name": "stdout",
     "output_type": "stream",
     "text": [
      "                   all        137        155      0.952      0.899      0.953      0.684\n"
     ]
    },
    {
     "name": "stderr",
     "output_type": "stream",
     "text": [
      "\n"
     ]
    },
    {
     "name": "stdout",
     "output_type": "stream",
     "text": [
      "\n",
      "      Epoch    GPU_mem   box_loss   cls_loss   dfl_loss  Instances       Size\n"
     ]
    },
    {
     "name": "stderr",
     "output_type": "stream",
     "text": [
      "      32/50         0G      1.033     0.6554      1.356         12        640: 100%|██████████| 38/38 [05:04<00:00,  8.01s/it]\n",
      "                 Class     Images  Instances      Box(P          R      mAP50  mAP50-95): 100%|██████████| 5/5 [00:22<00:00,  4.52s/it]"
     ]
    },
    {
     "name": "stdout",
     "output_type": "stream",
     "text": [
      "                   all        137        155      0.963       0.91      0.951      0.684\n"
     ]
    },
    {
     "name": "stderr",
     "output_type": "stream",
     "text": [
      "\n"
     ]
    },
    {
     "name": "stdout",
     "output_type": "stream",
     "text": [
      "\n",
      "      Epoch    GPU_mem   box_loss   cls_loss   dfl_loss  Instances       Size\n"
     ]
    },
    {
     "name": "stderr",
     "output_type": "stream",
     "text": [
      "      33/50         0G      1.042     0.6564      1.376         18        640: 100%|██████████| 38/38 [05:00<00:00,  7.91s/it]\n",
      "                 Class     Images  Instances      Box(P          R      mAP50  mAP50-95): 100%|██████████| 5/5 [00:23<00:00,  4.68s/it]"
     ]
    },
    {
     "name": "stdout",
     "output_type": "stream",
     "text": [
      "                   all        137        155      0.958      0.923      0.976      0.677\n"
     ]
    },
    {
     "name": "stderr",
     "output_type": "stream",
     "text": [
      "\n"
     ]
    },
    {
     "name": "stdout",
     "output_type": "stream",
     "text": [
      "\n",
      "      Epoch    GPU_mem   box_loss   cls_loss   dfl_loss  Instances       Size\n"
     ]
    },
    {
     "name": "stderr",
     "output_type": "stream",
     "text": [
      "      34/50         0G      1.006     0.6215      1.353         17        640: 100%|██████████| 38/38 [05:14<00:00,  8.28s/it]\n",
      "                 Class     Images  Instances      Box(P          R      mAP50  mAP50-95): 100%|██████████| 5/5 [00:24<00:00,  4.82s/it]"
     ]
    },
    {
     "name": "stdout",
     "output_type": "stream",
     "text": [
      "                   all        137        155       0.96       0.91      0.962       0.68\n"
     ]
    },
    {
     "name": "stderr",
     "output_type": "stream",
     "text": [
      "\n"
     ]
    },
    {
     "name": "stdout",
     "output_type": "stream",
     "text": [
      "\n",
      "      Epoch    GPU_mem   box_loss   cls_loss   dfl_loss  Instances       Size\n"
     ]
    },
    {
     "name": "stderr",
     "output_type": "stream",
     "text": [
      "      35/50         0G     0.9961      0.629       1.34         27        640: 100%|██████████| 38/38 [05:10<00:00,  8.17s/it]\n",
      "                 Class     Images  Instances      Box(P          R      mAP50  mAP50-95): 100%|██████████| 5/5 [00:23<00:00,  4.80s/it]"
     ]
    },
    {
     "name": "stdout",
     "output_type": "stream",
     "text": [
      "                   all        137        155      0.972      0.897      0.955      0.693\n"
     ]
    },
    {
     "name": "stderr",
     "output_type": "stream",
     "text": [
      "\n"
     ]
    },
    {
     "name": "stdout",
     "output_type": "stream",
     "text": [
      "\n",
      "      Epoch    GPU_mem   box_loss   cls_loss   dfl_loss  Instances       Size\n"
     ]
    },
    {
     "name": "stderr",
     "output_type": "stream",
     "text": [
      "      36/50         0G     0.9905     0.5997       1.36         28        640: 100%|██████████| 38/38 [05:02<00:00,  7.97s/it]\n",
      "                 Class     Images  Instances      Box(P          R      mAP50  mAP50-95): 100%|██████████| 5/5 [00:22<00:00,  4.56s/it]"
     ]
    },
    {
     "name": "stdout",
     "output_type": "stream",
     "text": [
      "                   all        137        155      0.954      0.941      0.966      0.693\n"
     ]
    },
    {
     "name": "stderr",
     "output_type": "stream",
     "text": [
      "\n"
     ]
    },
    {
     "name": "stdout",
     "output_type": "stream",
     "text": [
      "\n",
      "      Epoch    GPU_mem   box_loss   cls_loss   dfl_loss  Instances       Size\n"
     ]
    },
    {
     "name": "stderr",
     "output_type": "stream",
     "text": [
      "      37/50         0G     0.9826     0.6055      1.327         37        640: 100%|██████████| 38/38 [05:21<00:00,  8.46s/it]\n",
      "                 Class     Images  Instances      Box(P          R      mAP50  mAP50-95): 100%|██████████| 5/5 [00:34<00:00,  6.85s/it]"
     ]
    },
    {
     "name": "stdout",
     "output_type": "stream",
     "text": [
      "                   all        137        155      0.965      0.929      0.954      0.706\n"
     ]
    },
    {
     "name": "stderr",
     "output_type": "stream",
     "text": [
      "\n"
     ]
    },
    {
     "name": "stdout",
     "output_type": "stream",
     "text": [
      "\n",
      "      Epoch    GPU_mem   box_loss   cls_loss   dfl_loss  Instances       Size\n"
     ]
    },
    {
     "name": "stderr",
     "output_type": "stream",
     "text": [
      "      38/50         0G      1.001     0.6054       1.36         20        640: 100%|██████████| 38/38 [06:27<00:00, 10.21s/it]\n",
      "                 Class     Images  Instances      Box(P          R      mAP50  mAP50-95): 100%|██████████| 5/5 [00:33<00:00,  6.80s/it]"
     ]
    },
    {
     "name": "stdout",
     "output_type": "stream",
     "text": [
      "                   all        137        155      0.963      0.929      0.956      0.697\n"
     ]
    },
    {
     "name": "stderr",
     "output_type": "stream",
     "text": [
      "\n"
     ]
    },
    {
     "name": "stdout",
     "output_type": "stream",
     "text": [
      "\n",
      "      Epoch    GPU_mem   box_loss   cls_loss   dfl_loss  Instances       Size\n"
     ]
    },
    {
     "name": "stderr",
     "output_type": "stream",
     "text": [
      "      39/50         0G     0.9901     0.6096      1.327         16        640: 100%|██████████| 38/38 [06:25<00:00, 10.16s/it]\n",
      "                 Class     Images  Instances      Box(P          R      mAP50  mAP50-95): 100%|██████████| 5/5 [00:34<00:00,  6.91s/it]"
     ]
    },
    {
     "name": "stdout",
     "output_type": "stream",
     "text": [
      "                   all        137        155       0.98      0.928      0.962      0.695\n"
     ]
    },
    {
     "name": "stderr",
     "output_type": "stream",
     "text": [
      "\n"
     ]
    },
    {
     "name": "stdout",
     "output_type": "stream",
     "text": [
      "\n",
      "      Epoch    GPU_mem   box_loss   cls_loss   dfl_loss  Instances       Size\n"
     ]
    },
    {
     "name": "stderr",
     "output_type": "stream",
     "text": [
      "      40/50         0G     0.9952     0.6162      1.335         20        640: 100%|██████████| 38/38 [06:28<00:00, 10.23s/it]\n",
      "                 Class     Images  Instances      Box(P          R      mAP50  mAP50-95): 100%|██████████| 5/5 [00:35<00:00,  7.09s/it]"
     ]
    },
    {
     "name": "stdout",
     "output_type": "stream",
     "text": [
      "                   all        137        155      0.948      0.946      0.961      0.708\n"
     ]
    },
    {
     "name": "stderr",
     "output_type": "stream",
     "text": [
      "\n"
     ]
    },
    {
     "name": "stdout",
     "output_type": "stream",
     "text": [
      "Closing dataloader mosaic\n",
      "\n",
      "      Epoch    GPU_mem   box_loss   cls_loss   dfl_loss  Instances       Size\n"
     ]
    },
    {
     "name": "stderr",
     "output_type": "stream",
     "text": [
      "      41/50         0G     0.9108     0.5229      1.361          8        640: 100%|██████████| 38/38 [06:21<00:00, 10.04s/it]\n",
      "                 Class     Images  Instances      Box(P          R      mAP50  mAP50-95): 100%|██████████| 5/5 [00:23<00:00,  4.68s/it]"
     ]
    },
    {
     "name": "stdout",
     "output_type": "stream",
     "text": [
      "                   all        137        155      0.986      0.916      0.969      0.716\n"
     ]
    },
    {
     "name": "stderr",
     "output_type": "stream",
     "text": [
      "\n"
     ]
    },
    {
     "name": "stdout",
     "output_type": "stream",
     "text": [
      "\n",
      "      Epoch    GPU_mem   box_loss   cls_loss   dfl_loss  Instances       Size\n"
     ]
    },
    {
     "name": "stderr",
     "output_type": "stream",
     "text": [
      "      42/50         0G      0.901     0.4781      1.347          8        640: 100%|██████████| 38/38 [05:01<00:00,  7.92s/it]\n",
      "                 Class     Images  Instances      Box(P          R      mAP50  mAP50-95): 100%|██████████| 5/5 [00:22<00:00,  4.48s/it]"
     ]
    },
    {
     "name": "stdout",
     "output_type": "stream",
     "text": [
      "                   all        137        155      0.988      0.929      0.973      0.716\n"
     ]
    },
    {
     "name": "stderr",
     "output_type": "stream",
     "text": [
      "\n"
     ]
    },
    {
     "name": "stdout",
     "output_type": "stream",
     "text": [
      "\n",
      "      Epoch    GPU_mem   box_loss   cls_loss   dfl_loss  Instances       Size\n"
     ]
    },
    {
     "name": "stderr",
     "output_type": "stream",
     "text": [
      "      43/50         0G     0.8818     0.4728       1.33         14        640: 100%|██████████| 38/38 [04:59<00:00,  7.87s/it]\n",
      "                 Class     Images  Instances      Box(P          R      mAP50  mAP50-95): 100%|██████████| 5/5 [00:22<00:00,  4.51s/it]"
     ]
    },
    {
     "name": "stdout",
     "output_type": "stream",
     "text": [
      "                   all        137        155      0.971      0.942      0.972      0.721\n"
     ]
    },
    {
     "name": "stderr",
     "output_type": "stream",
     "text": [
      "\n"
     ]
    },
    {
     "name": "stdout",
     "output_type": "stream",
     "text": [
      "\n",
      "      Epoch    GPU_mem   box_loss   cls_loss   dfl_loss  Instances       Size\n"
     ]
    },
    {
     "name": "stderr",
     "output_type": "stream",
     "text": [
      "      44/50         0G     0.8586     0.4587      1.312          9        640: 100%|██████████| 38/38 [04:59<00:00,  7.89s/it]\n",
      "                 Class     Images  Instances      Box(P          R      mAP50  mAP50-95): 100%|██████████| 5/5 [00:24<00:00,  4.81s/it]"
     ]
    },
    {
     "name": "stdout",
     "output_type": "stream",
     "text": [
      "                   all        137        155      0.972      0.942      0.965      0.721\n"
     ]
    },
    {
     "name": "stderr",
     "output_type": "stream",
     "text": [
      "\n"
     ]
    },
    {
     "name": "stdout",
     "output_type": "stream",
     "text": [
      "\n",
      "      Epoch    GPU_mem   box_loss   cls_loss   dfl_loss  Instances       Size\n"
     ]
    },
    {
     "name": "stderr",
     "output_type": "stream",
     "text": [
      "      45/50         0G     0.8421     0.4373      1.305          8        640: 100%|██████████| 38/38 [05:04<00:00,  8.02s/it]\n",
      "                 Class     Images  Instances      Box(P          R      mAP50  mAP50-95): 100%|██████████| 5/5 [00:22<00:00,  4.51s/it]"
     ]
    },
    {
     "name": "stdout",
     "output_type": "stream",
     "text": [
      "                   all        137        155      0.967      0.955      0.974       0.71\n"
     ]
    },
    {
     "name": "stderr",
     "output_type": "stream",
     "text": [
      "\n"
     ]
    },
    {
     "name": "stdout",
     "output_type": "stream",
     "text": [
      "\n",
      "      Epoch    GPU_mem   box_loss   cls_loss   dfl_loss  Instances       Size\n"
     ]
    },
    {
     "name": "stderr",
     "output_type": "stream",
     "text": [
      "      46/50         0G      0.839     0.4359      1.296          8        640: 100%|██████████| 38/38 [05:01<00:00,  7.94s/it]\n",
      "                 Class     Images  Instances      Box(P          R      mAP50  mAP50-95): 100%|██████████| 5/5 [00:24<00:00,  4.86s/it]"
     ]
    },
    {
     "name": "stdout",
     "output_type": "stream",
     "text": [
      "                   all        137        155       0.98      0.928      0.966      0.712\n"
     ]
    },
    {
     "name": "stderr",
     "output_type": "stream",
     "text": [
      "\n"
     ]
    },
    {
     "name": "stdout",
     "output_type": "stream",
     "text": [
      "\n",
      "      Epoch    GPU_mem   box_loss   cls_loss   dfl_loss  Instances       Size\n"
     ]
    },
    {
     "name": "stderr",
     "output_type": "stream",
     "text": [
      "      47/50         0G     0.8371      0.429       1.29         20        640: 100%|██████████| 38/38 [04:56<00:00,  7.79s/it]\n",
      "                 Class     Images  Instances      Box(P          R      mAP50  mAP50-95): 100%|██████████| 5/5 [00:24<00:00,  4.83s/it]"
     ]
    },
    {
     "name": "stdout",
     "output_type": "stream",
     "text": [
      "                   all        137        155      0.972      0.929      0.962      0.723\n"
     ]
    },
    {
     "name": "stderr",
     "output_type": "stream",
     "text": [
      "\n"
     ]
    },
    {
     "name": "stdout",
     "output_type": "stream",
     "text": [
      "\n",
      "      Epoch    GPU_mem   box_loss   cls_loss   dfl_loss  Instances       Size\n"
     ]
    },
    {
     "name": "stderr",
     "output_type": "stream",
     "text": [
      "      48/50         0G     0.8226     0.4231      1.266          9        640: 100%|██████████| 38/38 [05:07<00:00,  8.08s/it]\n",
      "                 Class     Images  Instances      Box(P          R      mAP50  mAP50-95): 100%|██████████| 5/5 [00:23<00:00,  4.79s/it]"
     ]
    },
    {
     "name": "stdout",
     "output_type": "stream",
     "text": [
      "                   all        137        155      0.999      0.929      0.965      0.722\n"
     ]
    },
    {
     "name": "stderr",
     "output_type": "stream",
     "text": [
      "\n"
     ]
    },
    {
     "name": "stdout",
     "output_type": "stream",
     "text": [
      "\n",
      "      Epoch    GPU_mem   box_loss   cls_loss   dfl_loss  Instances       Size\n"
     ]
    },
    {
     "name": "stderr",
     "output_type": "stream",
     "text": [
      "      49/50         0G     0.8232     0.4171      1.263          8        640: 100%|██████████| 38/38 [04:58<00:00,  7.86s/it]\n",
      "                 Class     Images  Instances      Box(P          R      mAP50  mAP50-95): 100%|██████████| 5/5 [00:24<00:00,  4.81s/it]"
     ]
    },
    {
     "name": "stdout",
     "output_type": "stream",
     "text": [
      "                   all        137        155      0.993      0.935      0.977      0.723\n"
     ]
    },
    {
     "name": "stderr",
     "output_type": "stream",
     "text": [
      "\n"
     ]
    },
    {
     "name": "stdout",
     "output_type": "stream",
     "text": [
      "\n",
      "      Epoch    GPU_mem   box_loss   cls_loss   dfl_loss  Instances       Size\n"
     ]
    },
    {
     "name": "stderr",
     "output_type": "stream",
     "text": [
      "      50/50         0G     0.8174     0.4153      1.275         11        640: 100%|██████████| 38/38 [05:02<00:00,  7.95s/it]\n",
      "                 Class     Images  Instances      Box(P          R      mAP50  mAP50-95): 100%|██████████| 5/5 [00:22<00:00,  4.47s/it]"
     ]
    },
    {
     "name": "stdout",
     "output_type": "stream",
     "text": [
      "                   all        137        155      0.991      0.935      0.977      0.729\n"
     ]
    },
    {
     "name": "stderr",
     "output_type": "stream",
     "text": [
      "\n"
     ]
    },
    {
     "name": "stdout",
     "output_type": "stream",
     "text": [
      "\n",
      "50 epochs completed in 4.872 hours.\n",
      "Optimizer stripped from runs\\detect\\train7\\weights\\last.pt, 6.2MB\n",
      "Optimizer stripped from runs\\detect\\train7\\weights\\best.pt, 6.2MB\n",
      "\n",
      "Validating runs\\detect\\train7\\weights\\best.pt...\n",
      "Ultralytics 8.3.40  Python-3.10.9 torch-2.5.1+cpu CPU (11th Gen Intel Core(TM) i5-1135G7 2.40GHz)\n",
      "Model summary (fused): 168 layers, 3,005,843 parameters, 0 gradients, 8.1 GFLOPs\n"
     ]
    },
    {
     "name": "stderr",
     "output_type": "stream",
     "text": [
      "                 Class     Images  Instances      Box(P          R      mAP50  mAP50-95): 100%|██████████| 5/5 [00:23<00:00,  4.60s/it]\n"
     ]
    },
    {
     "name": "stdout",
     "output_type": "stream",
     "text": [
      "                   all        137        155      0.991      0.935      0.977      0.729\n",
      "Speed: 4.4ms preprocess, 144.2ms inference, 0.0ms loss, 0.6ms postprocess per image\n",
      "Results saved to \u001b[1mruns\\detect\\train7\u001b[0m\n"
     ]
    },
    {
     "data": {
      "text/plain": [
       "ultralytics.utils.metrics.DetMetrics object with attributes:\n",
       "\n",
       "ap_class_index: array([0])\n",
       "box: ultralytics.utils.metrics.Metric object\n",
       "confusion_matrix: <ultralytics.utils.metrics.ConfusionMatrix object at 0x000001EB3A6569E0>\n",
       "curves: ['Precision-Recall(B)', 'F1-Confidence(B)', 'Precision-Confidence(B)', 'Recall-Confidence(B)']\n",
       "curves_results: [[array([          0,    0.001001,    0.002002,    0.003003,    0.004004,    0.005005,    0.006006,    0.007007,    0.008008,    0.009009,     0.01001,    0.011011,    0.012012,    0.013013,    0.014014,    0.015015,    0.016016,    0.017017,    0.018018,    0.019019,     0.02002,    0.021021,    0.022022,    0.023023,\n",
       "          0.024024,    0.025025,    0.026026,    0.027027,    0.028028,    0.029029,     0.03003,    0.031031,    0.032032,    0.033033,    0.034034,    0.035035,    0.036036,    0.037037,    0.038038,    0.039039,     0.04004,    0.041041,    0.042042,    0.043043,    0.044044,    0.045045,    0.046046,    0.047047,\n",
       "          0.048048,    0.049049,     0.05005,    0.051051,    0.052052,    0.053053,    0.054054,    0.055055,    0.056056,    0.057057,    0.058058,    0.059059,     0.06006,    0.061061,    0.062062,    0.063063,    0.064064,    0.065065,    0.066066,    0.067067,    0.068068,    0.069069,     0.07007,    0.071071,\n",
       "          0.072072,    0.073073,    0.074074,    0.075075,    0.076076,    0.077077,    0.078078,    0.079079,     0.08008,    0.081081,    0.082082,    0.083083,    0.084084,    0.085085,    0.086086,    0.087087,    0.088088,    0.089089,     0.09009,    0.091091,    0.092092,    0.093093,    0.094094,    0.095095,\n",
       "          0.096096,    0.097097,    0.098098,    0.099099,      0.1001,      0.1011,      0.1021,      0.1031,      0.1041,     0.10511,     0.10611,     0.10711,     0.10811,     0.10911,     0.11011,     0.11111,     0.11211,     0.11311,     0.11411,     0.11512,     0.11612,     0.11712,     0.11812,     0.11912,\n",
       "           0.12012,     0.12112,     0.12212,     0.12312,     0.12412,     0.12513,     0.12613,     0.12713,     0.12813,     0.12913,     0.13013,     0.13113,     0.13213,     0.13313,     0.13413,     0.13514,     0.13614,     0.13714,     0.13814,     0.13914,     0.14014,     0.14114,     0.14214,     0.14314,\n",
       "           0.14414,     0.14515,     0.14615,     0.14715,     0.14815,     0.14915,     0.15015,     0.15115,     0.15215,     0.15315,     0.15415,     0.15516,     0.15616,     0.15716,     0.15816,     0.15916,     0.16016,     0.16116,     0.16216,     0.16316,     0.16416,     0.16517,     0.16617,     0.16717,\n",
       "           0.16817,     0.16917,     0.17017,     0.17117,     0.17217,     0.17317,     0.17417,     0.17518,     0.17618,     0.17718,     0.17818,     0.17918,     0.18018,     0.18118,     0.18218,     0.18318,     0.18418,     0.18519,     0.18619,     0.18719,     0.18819,     0.18919,     0.19019,     0.19119,\n",
       "           0.19219,     0.19319,     0.19419,      0.1952,      0.1962,      0.1972,      0.1982,      0.1992,      0.2002,      0.2012,      0.2022,      0.2032,      0.2042,     0.20521,     0.20621,     0.20721,     0.20821,     0.20921,     0.21021,     0.21121,     0.21221,     0.21321,     0.21421,     0.21522,\n",
       "           0.21622,     0.21722,     0.21822,     0.21922,     0.22022,     0.22122,     0.22222,     0.22322,     0.22422,     0.22523,     0.22623,     0.22723,     0.22823,     0.22923,     0.23023,     0.23123,     0.23223,     0.23323,     0.23423,     0.23524,     0.23624,     0.23724,     0.23824,     0.23924,\n",
       "           0.24024,     0.24124,     0.24224,     0.24324,     0.24424,     0.24525,     0.24625,     0.24725,     0.24825,     0.24925,     0.25025,     0.25125,     0.25225,     0.25325,     0.25425,     0.25526,     0.25626,     0.25726,     0.25826,     0.25926,     0.26026,     0.26126,     0.26226,     0.26326,\n",
       "           0.26426,     0.26527,     0.26627,     0.26727,     0.26827,     0.26927,     0.27027,     0.27127,     0.27227,     0.27327,     0.27427,     0.27528,     0.27628,     0.27728,     0.27828,     0.27928,     0.28028,     0.28128,     0.28228,     0.28328,     0.28428,     0.28529,     0.28629,     0.28729,\n",
       "           0.28829,     0.28929,     0.29029,     0.29129,     0.29229,     0.29329,     0.29429,      0.2953,      0.2963,      0.2973,      0.2983,      0.2993,      0.3003,      0.3013,      0.3023,      0.3033,      0.3043,     0.30531,     0.30631,     0.30731,     0.30831,     0.30931,     0.31031,     0.31131,\n",
       "           0.31231,     0.31331,     0.31431,     0.31532,     0.31632,     0.31732,     0.31832,     0.31932,     0.32032,     0.32132,     0.32232,     0.32332,     0.32432,     0.32533,     0.32633,     0.32733,     0.32833,     0.32933,     0.33033,     0.33133,     0.33233,     0.33333,     0.33433,     0.33534,\n",
       "           0.33634,     0.33734,     0.33834,     0.33934,     0.34034,     0.34134,     0.34234,     0.34334,     0.34434,     0.34535,     0.34635,     0.34735,     0.34835,     0.34935,     0.35035,     0.35135,     0.35235,     0.35335,     0.35435,     0.35536,     0.35636,     0.35736,     0.35836,     0.35936,\n",
       "           0.36036,     0.36136,     0.36236,     0.36336,     0.36436,     0.36537,     0.36637,     0.36737,     0.36837,     0.36937,     0.37037,     0.37137,     0.37237,     0.37337,     0.37437,     0.37538,     0.37638,     0.37738,     0.37838,     0.37938,     0.38038,     0.38138,     0.38238,     0.38338,\n",
       "           0.38438,     0.38539,     0.38639,     0.38739,     0.38839,     0.38939,     0.39039,     0.39139,     0.39239,     0.39339,     0.39439,      0.3954,      0.3964,      0.3974,      0.3984,      0.3994,      0.4004,      0.4014,      0.4024,      0.4034,      0.4044,     0.40541,     0.40641,     0.40741,\n",
       "           0.40841,     0.40941,     0.41041,     0.41141,     0.41241,     0.41341,     0.41441,     0.41542,     0.41642,     0.41742,     0.41842,     0.41942,     0.42042,     0.42142,     0.42242,     0.42342,     0.42442,     0.42543,     0.42643,     0.42743,     0.42843,     0.42943,     0.43043,     0.43143,\n",
       "           0.43243,     0.43343,     0.43443,     0.43544,     0.43644,     0.43744,     0.43844,     0.43944,     0.44044,     0.44144,     0.44244,     0.44344,     0.44444,     0.44545,     0.44645,     0.44745,     0.44845,     0.44945,     0.45045,     0.45145,     0.45245,     0.45345,     0.45445,     0.45546,\n",
       "           0.45646,     0.45746,     0.45846,     0.45946,     0.46046,     0.46146,     0.46246,     0.46346,     0.46446,     0.46547,     0.46647,     0.46747,     0.46847,     0.46947,     0.47047,     0.47147,     0.47247,     0.47347,     0.47447,     0.47548,     0.47648,     0.47748,     0.47848,     0.47948,\n",
       "           0.48048,     0.48148,     0.48248,     0.48348,     0.48448,     0.48549,     0.48649,     0.48749,     0.48849,     0.48949,     0.49049,     0.49149,     0.49249,     0.49349,     0.49449,      0.4955,      0.4965,      0.4975,      0.4985,      0.4995,      0.5005,      0.5015,      0.5025,      0.5035,\n",
       "            0.5045,     0.50551,     0.50651,     0.50751,     0.50851,     0.50951,     0.51051,     0.51151,     0.51251,     0.51351,     0.51451,     0.51552,     0.51652,     0.51752,     0.51852,     0.51952,     0.52052,     0.52152,     0.52252,     0.52352,     0.52452,     0.52553,     0.52653,     0.52753,\n",
       "           0.52853,     0.52953,     0.53053,     0.53153,     0.53253,     0.53353,     0.53453,     0.53554,     0.53654,     0.53754,     0.53854,     0.53954,     0.54054,     0.54154,     0.54254,     0.54354,     0.54454,     0.54555,     0.54655,     0.54755,     0.54855,     0.54955,     0.55055,     0.55155,\n",
       "           0.55255,     0.55355,     0.55455,     0.55556,     0.55656,     0.55756,     0.55856,     0.55956,     0.56056,     0.56156,     0.56256,     0.56356,     0.56456,     0.56557,     0.56657,     0.56757,     0.56857,     0.56957,     0.57057,     0.57157,     0.57257,     0.57357,     0.57457,     0.57558,\n",
       "           0.57658,     0.57758,     0.57858,     0.57958,     0.58058,     0.58158,     0.58258,     0.58358,     0.58458,     0.58559,     0.58659,     0.58759,     0.58859,     0.58959,     0.59059,     0.59159,     0.59259,     0.59359,     0.59459,      0.5956,      0.5966,      0.5976,      0.5986,      0.5996,\n",
       "            0.6006,      0.6016,      0.6026,      0.6036,      0.6046,     0.60561,     0.60661,     0.60761,     0.60861,     0.60961,     0.61061,     0.61161,     0.61261,     0.61361,     0.61461,     0.61562,     0.61662,     0.61762,     0.61862,     0.61962,     0.62062,     0.62162,     0.62262,     0.62362,\n",
       "           0.62462,     0.62563,     0.62663,     0.62763,     0.62863,     0.62963,     0.63063,     0.63163,     0.63263,     0.63363,     0.63463,     0.63564,     0.63664,     0.63764,     0.63864,     0.63964,     0.64064,     0.64164,     0.64264,     0.64364,     0.64464,     0.64565,     0.64665,     0.64765,\n",
       "           0.64865,     0.64965,     0.65065,     0.65165,     0.65265,     0.65365,     0.65465,     0.65566,     0.65666,     0.65766,     0.65866,     0.65966,     0.66066,     0.66166,     0.66266,     0.66366,     0.66466,     0.66567,     0.66667,     0.66767,     0.66867,     0.66967,     0.67067,     0.67167,\n",
       "           0.67267,     0.67367,     0.67467,     0.67568,     0.67668,     0.67768,     0.67868,     0.67968,     0.68068,     0.68168,     0.68268,     0.68368,     0.68468,     0.68569,     0.68669,     0.68769,     0.68869,     0.68969,     0.69069,     0.69169,     0.69269,     0.69369,     0.69469,      0.6957,\n",
       "            0.6967,      0.6977,      0.6987,      0.6997,      0.7007,      0.7017,      0.7027,      0.7037,      0.7047,     0.70571,     0.70671,     0.70771,     0.70871,     0.70971,     0.71071,     0.71171,     0.71271,     0.71371,     0.71471,     0.71572,     0.71672,     0.71772,     0.71872,     0.71972,\n",
       "           0.72072,     0.72172,     0.72272,     0.72372,     0.72472,     0.72573,     0.72673,     0.72773,     0.72873,     0.72973,     0.73073,     0.73173,     0.73273,     0.73373,     0.73473,     0.73574,     0.73674,     0.73774,     0.73874,     0.73974,     0.74074,     0.74174,     0.74274,     0.74374,\n",
       "           0.74474,     0.74575,     0.74675,     0.74775,     0.74875,     0.74975,     0.75075,     0.75175,     0.75275,     0.75375,     0.75475,     0.75576,     0.75676,     0.75776,     0.75876,     0.75976,     0.76076,     0.76176,     0.76276,     0.76376,     0.76476,     0.76577,     0.76677,     0.76777,\n",
       "           0.76877,     0.76977,     0.77077,     0.77177,     0.77277,     0.77377,     0.77477,     0.77578,     0.77678,     0.77778,     0.77878,     0.77978,     0.78078,     0.78178,     0.78278,     0.78378,     0.78478,     0.78579,     0.78679,     0.78779,     0.78879,     0.78979,     0.79079,     0.79179,\n",
       "           0.79279,     0.79379,     0.79479,      0.7958,      0.7968,      0.7978,      0.7988,      0.7998,      0.8008,      0.8018,      0.8028,      0.8038,      0.8048,     0.80581,     0.80681,     0.80781,     0.80881,     0.80981,     0.81081,     0.81181,     0.81281,     0.81381,     0.81481,     0.81582,\n",
       "           0.81682,     0.81782,     0.81882,     0.81982,     0.82082,     0.82182,     0.82282,     0.82382,     0.82482,     0.82583,     0.82683,     0.82783,     0.82883,     0.82983,     0.83083,     0.83183,     0.83283,     0.83383,     0.83483,     0.83584,     0.83684,     0.83784,     0.83884,     0.83984,\n",
       "           0.84084,     0.84184,     0.84284,     0.84384,     0.84484,     0.84585,     0.84685,     0.84785,     0.84885,     0.84985,     0.85085,     0.85185,     0.85285,     0.85385,     0.85485,     0.85586,     0.85686,     0.85786,     0.85886,     0.85986,     0.86086,     0.86186,     0.86286,     0.86386,\n",
       "           0.86486,     0.86587,     0.86687,     0.86787,     0.86887,     0.86987,     0.87087,     0.87187,     0.87287,     0.87387,     0.87487,     0.87588,     0.87688,     0.87788,     0.87888,     0.87988,     0.88088,     0.88188,     0.88288,     0.88388,     0.88488,     0.88589,     0.88689,     0.88789,\n",
       "           0.88889,     0.88989,     0.89089,     0.89189,     0.89289,     0.89389,     0.89489,      0.8959,      0.8969,      0.8979,      0.8989,      0.8999,      0.9009,      0.9019,      0.9029,      0.9039,      0.9049,     0.90591,     0.90691,     0.90791,     0.90891,     0.90991,     0.91091,     0.91191,\n",
       "           0.91291,     0.91391,     0.91491,     0.91592,     0.91692,     0.91792,     0.91892,     0.91992,     0.92092,     0.92192,     0.92292,     0.92392,     0.92492,     0.92593,     0.92693,     0.92793,     0.92893,     0.92993,     0.93093,     0.93193,     0.93293,     0.93393,     0.93493,     0.93594,\n",
       "           0.93694,     0.93794,     0.93894,     0.93994,     0.94094,     0.94194,     0.94294,     0.94394,     0.94494,     0.94595,     0.94695,     0.94795,     0.94895,     0.94995,     0.95095,     0.95195,     0.95295,     0.95395,     0.95495,     0.95596,     0.95696,     0.95796,     0.95896,     0.95996,\n",
       "           0.96096,     0.96196,     0.96296,     0.96396,     0.96496,     0.96597,     0.96697,     0.96797,     0.96897,     0.96997,     0.97097,     0.97197,     0.97297,     0.97397,     0.97497,     0.97598,     0.97698,     0.97798,     0.97898,     0.97998,     0.98098,     0.98198,     0.98298,     0.98398,\n",
       "           0.98498,     0.98599,     0.98699,     0.98799,     0.98899,     0.98999,     0.99099,     0.99199,     0.99299,     0.99399,     0.99499,       0.996,       0.997,       0.998,       0.999,           1]), array([[          1,           1,           1,           1,           1,           1,           1,           1,           1,           1,           1,           1,           1,           1,           1,           1,           1,           1,           1,           1,           1,           1,           1,\n",
       "                  1,           1,           1,           1,           1,           1,           1,           1,           1,           1,           1,           1,           1,           1,           1,           1,           1,           1,           1,           1,           1,           1,           1,\n",
       "                  1,           1,           1,           1,           1,           1,           1,           1,           1,           1,           1,           1,           1,           1,           1,           1,           1,           1,           1,           1,           1,           1,           1,\n",
       "                  1,           1,           1,           1,           1,           1,           1,           1,           1,           1,           1,           1,           1,           1,           1,           1,           1,           1,           1,           1,           1,           1,           1,\n",
       "                  1,           1,           1,           1,           1,           1,           1,           1,           1,           1,           1,           1,           1,           1,           1,           1,           1,           1,           1,           1,           1,           1,           1,\n",
       "                  1,           1,           1,           1,           1,           1,           1,           1,           1,           1,           1,           1,           1,           1,           1,           1,           1,           1,           1,           1,           1,           1,           1,\n",
       "                  1,           1,           1,           1,           1,           1,           1,           1,           1,           1,           1,           1,           1,           1,           1,           1,           1,           1,           1,           1,           1,           1,           1,\n",
       "                  1,           1,           1,           1,           1,           1,           1,           1,           1,           1,           1,           1,           1,           1,           1,           1,           1,           1,           1,           1,           1,           1,           1,\n",
       "                  1,           1,           1,           1,           1,           1,           1,           1,           1,           1,           1,           1,           1,           1,           1,           1,           1,           1,           1,           1,           1,           1,           1,\n",
       "                  1,           1,           1,           1,           1,           1,           1,           1,           1,           1,           1,           1,           1,           1,           1,           1,           1,           1,           1,           1,           1,           1,           1,\n",
       "                  1,           1,           1,           1,           1,           1,           1,           1,           1,           1,           1,           1,           1,           1,           1,           1,           1,           1,           1,           1,           1,           1,           1,\n",
       "                  1,           1,           1,           1,           1,           1,           1,           1,           1,           1,           1,           1,           1,           1,           1,           1,           1,           1,           1,           1,           1,           1,           1,\n",
       "                  1,           1,           1,           1,           1,           1,           1,           1,           1,           1,           1,           1,           1,           1,           1,           1,           1,           1,           1,           1,           1,           1,           1,\n",
       "                  1,           1,           1,           1,           1,           1,           1,           1,           1,           1,           1,           1,           1,           1,           1,           1,           1,           1,           1,           1,           1,           1,           1,\n",
       "                  1,           1,           1,           1,           1,           1,           1,           1,           1,           1,           1,           1,           1,           1,           1,           1,           1,           1,           1,           1,           1,           1,           1,\n",
       "                  1,           1,           1,           1,           1,           1,           1,           1,           1,           1,           1,           1,           1,           1,           1,           1,           1,           1,           1,           1,           1,           1,           1,\n",
       "                  1,           1,           1,           1,           1,           1,           1,           1,           1,           1,           1,           1,           1,           1,           1,           1,           1,           1,           1,           1,           1,           1,           1,\n",
       "                  1,           1,           1,           1,           1,           1,           1,           1,           1,           1,           1,           1,           1,           1,           1,           1,           1,           1,           1,           1,           1,           1,           1,\n",
       "                  1,           1,           1,           1,           1,           1,           1,           1,           1,           1,           1,           1,           1,           1,           1,           1,           1,           1,           1,           1,           1,           1,           1,\n",
       "                  1,           1,           1,           1,           1,           1,           1,           1,           1,           1,           1,           1,           1,           1,           1,           1,           1,           1,           1,           1,           1,           1,           1,\n",
       "                  1,           1,           1,           1,           1,           1,           1,           1,           1,           1,           1,           1,           1,           1,           1,           1,           1,           1,           1,           1,           1,           1,           1,\n",
       "                  1,           1,           1,           1,           1,           1,           1,           1,           1,           1,           1,           1,           1,           1,           1,           1,           1,           1,           1,           1,           1,           1,           1,\n",
       "                  1,           1,           1,           1,           1,           1,           1,           1,           1,           1,           1,           1,           1,           1,           1,           1,           1,           1,           1,           1,           1,           1,           1,\n",
       "                  1,           1,           1,           1,           1,           1,           1,           1,           1,           1,           1,           1,           1,           1,           1,           1,           1,           1,           1,           1,           1,           1,           1,\n",
       "                  1,           1,           1,           1,           1,           1,           1,           1,           1,           1,           1,           1,           1,           1,           1,           1,           1,           1,           1,           1,           1,           1,           1,\n",
       "                  1,           1,           1,           1,           1,           1,           1,           1,           1,           1,           1,           1,           1,           1,           1,           1,           1,           1,           1,           1,           1,           1,           1,\n",
       "                  1,           1,           1,           1,           1,           1,           1,           1,           1,           1,           1,           1,           1,           1,           1,           1,           1,           1,           1,           1,           1,           1,           1,\n",
       "                  1,           1,           1,           1,           1,           1,           1,           1,           1,           1,           1,           1,           1,           1,           1,           1,           1,           1,           1,           1,           1,           1,           1,\n",
       "                  1,           1,           1,           1,           1,           1,           1,           1,           1,           1,           1,           1,           1,           1,           1,           1,           1,           1,           1,           1,           1,           1,           1,\n",
       "                  1,           1,           1,           1,           1,           1,           1,           1,           1,           1,           1,           1,           1,           1,           1,           1,           1,           1,           1,           1,           1,           1,           1,\n",
       "                  1,           1,           1,           1,           1,           1,           1,           1,           1,           1,           1,           1,           1,           1,           1,           1,           1,           1,           1,           1,           1,           1,           1,\n",
       "                  1,           1,           1,           1,           1,           1,           1,           1,           1,           1,           1,           1,           1,           1,           1,           1,           1,           1,           1,           1,           1,           1,           1,\n",
       "                  1,           1,           1,           1,           1,           1,           1,           1,           1,           1,           1,           1,           1,           1,           1,           1,           1,           1,           1,           1,           1,           1,           1,\n",
       "                  1,           1,           1,           1,           1,           1,           1,           1,           1,           1,           1,           1,           1,           1,           1,           1,           1,           1,           1,           1,           1,           1,           1,\n",
       "                  1,           1,           1,           1,           1,           1,           1,           1,           1,           1,           1,           1,           1,           1,           1,           1,           1,           1,           1,           1,           1,           1,           1,\n",
       "                  1,           1,           1,           1,           1,           1,           1,           1,           1,           1,           1,           1,           1,           1,           1,           1,           1,           1,           1,           1,           1,           1,           1,\n",
       "                  1,           1,           1,           1,           1,           1,           1,           1,           1,           1,           1,           1,           1,           1,           1,           1,           1,     0.99315,     0.99315,     0.99315,     0.99315,     0.99315,     0.99315,\n",
       "            0.99315,     0.99315,     0.99315,     0.99315,     0.99315,     0.99315,     0.99315,     0.99315,     0.99315,     0.99315,     0.99315,     0.99315,     0.99315,     0.99315,     0.99315,     0.99315,     0.99315,     0.99315,     0.99315,     0.99315,     0.99315,     0.99315,     0.99315,\n",
       "            0.99315,     0.99315,     0.99315,     0.99315,     0.99315,     0.99315,     0.99315,     0.99315,     0.99315,     0.99315,     0.99315,     0.99315,     0.99315,     0.99315,     0.99315,     0.99315,     0.99315,     0.99315,     0.99315,     0.99315,     0.99315,     0.99315,     0.99315,\n",
       "            0.99315,     0.99315,     0.99315,     0.99315,     0.99315,     0.99315,     0.99315,     0.99315,     0.99315,     0.99315,     0.99315,     0.99315,     0.99315,     0.99315,     0.99315,     0.99315,     0.99315,     0.99315,     0.99315,     0.99315,     0.99315,     0.99315,     0.99315,\n",
       "            0.99315,     0.99315,     0.99315,     0.99315,     0.99315,     0.99315,     0.99315,     0.99315,     0.99315,     0.99315,     0.99315,     0.99315,     0.99315,     0.99315,     0.99315,     0.97333,     0.97333,     0.97333,     0.97333,     0.97333,     0.97333,     0.96711,     0.96711,\n",
       "            0.96711,     0.96711,     0.96711,     0.96711,     0.96711,      0.9375,      0.9375,      0.9375,      0.9375,      0.9375,      0.9375,      0.9375,      0.9375,      0.9375,      0.9375,      0.9375,      0.9375,      0.9375,      0.9375,      0.9375,      0.9375,      0.9375,      0.9375,\n",
       "             0.9375,     0.72947,     0.72947,     0.72947,     0.72947,     0.72947,     0.72947,     0.72947,     0.49673,     0.49673,     0.49673,     0.49673,     0.49673,     0.49673,     0.35581,     0.35581,     0.35581,     0.35581,     0.35581,     0.35581,     0.35581,     0.17961,     0.16464,\n",
       "            0.14968,     0.13471,     0.11974,     0.10477,    0.089806,    0.074838,    0.059871,    0.044903,    0.029935,    0.014968,           0]]), 'Recall', 'Precision'], [array([          0,    0.001001,    0.002002,    0.003003,    0.004004,    0.005005,    0.006006,    0.007007,    0.008008,    0.009009,     0.01001,    0.011011,    0.012012,    0.013013,    0.014014,    0.015015,    0.016016,    0.017017,    0.018018,    0.019019,     0.02002,    0.021021,    0.022022,    0.023023,\n",
       "          0.024024,    0.025025,    0.026026,    0.027027,    0.028028,    0.029029,     0.03003,    0.031031,    0.032032,    0.033033,    0.034034,    0.035035,    0.036036,    0.037037,    0.038038,    0.039039,     0.04004,    0.041041,    0.042042,    0.043043,    0.044044,    0.045045,    0.046046,    0.047047,\n",
       "          0.048048,    0.049049,     0.05005,    0.051051,    0.052052,    0.053053,    0.054054,    0.055055,    0.056056,    0.057057,    0.058058,    0.059059,     0.06006,    0.061061,    0.062062,    0.063063,    0.064064,    0.065065,    0.066066,    0.067067,    0.068068,    0.069069,     0.07007,    0.071071,\n",
       "          0.072072,    0.073073,    0.074074,    0.075075,    0.076076,    0.077077,    0.078078,    0.079079,     0.08008,    0.081081,    0.082082,    0.083083,    0.084084,    0.085085,    0.086086,    0.087087,    0.088088,    0.089089,     0.09009,    0.091091,    0.092092,    0.093093,    0.094094,    0.095095,\n",
       "          0.096096,    0.097097,    0.098098,    0.099099,      0.1001,      0.1011,      0.1021,      0.1031,      0.1041,     0.10511,     0.10611,     0.10711,     0.10811,     0.10911,     0.11011,     0.11111,     0.11211,     0.11311,     0.11411,     0.11512,     0.11612,     0.11712,     0.11812,     0.11912,\n",
       "           0.12012,     0.12112,     0.12212,     0.12312,     0.12412,     0.12513,     0.12613,     0.12713,     0.12813,     0.12913,     0.13013,     0.13113,     0.13213,     0.13313,     0.13413,     0.13514,     0.13614,     0.13714,     0.13814,     0.13914,     0.14014,     0.14114,     0.14214,     0.14314,\n",
       "           0.14414,     0.14515,     0.14615,     0.14715,     0.14815,     0.14915,     0.15015,     0.15115,     0.15215,     0.15315,     0.15415,     0.15516,     0.15616,     0.15716,     0.15816,     0.15916,     0.16016,     0.16116,     0.16216,     0.16316,     0.16416,     0.16517,     0.16617,     0.16717,\n",
       "           0.16817,     0.16917,     0.17017,     0.17117,     0.17217,     0.17317,     0.17417,     0.17518,     0.17618,     0.17718,     0.17818,     0.17918,     0.18018,     0.18118,     0.18218,     0.18318,     0.18418,     0.18519,     0.18619,     0.18719,     0.18819,     0.18919,     0.19019,     0.19119,\n",
       "           0.19219,     0.19319,     0.19419,      0.1952,      0.1962,      0.1972,      0.1982,      0.1992,      0.2002,      0.2012,      0.2022,      0.2032,      0.2042,     0.20521,     0.20621,     0.20721,     0.20821,     0.20921,     0.21021,     0.21121,     0.21221,     0.21321,     0.21421,     0.21522,\n",
       "           0.21622,     0.21722,     0.21822,     0.21922,     0.22022,     0.22122,     0.22222,     0.22322,     0.22422,     0.22523,     0.22623,     0.22723,     0.22823,     0.22923,     0.23023,     0.23123,     0.23223,     0.23323,     0.23423,     0.23524,     0.23624,     0.23724,     0.23824,     0.23924,\n",
       "           0.24024,     0.24124,     0.24224,     0.24324,     0.24424,     0.24525,     0.24625,     0.24725,     0.24825,     0.24925,     0.25025,     0.25125,     0.25225,     0.25325,     0.25425,     0.25526,     0.25626,     0.25726,     0.25826,     0.25926,     0.26026,     0.26126,     0.26226,     0.26326,\n",
       "           0.26426,     0.26527,     0.26627,     0.26727,     0.26827,     0.26927,     0.27027,     0.27127,     0.27227,     0.27327,     0.27427,     0.27528,     0.27628,     0.27728,     0.27828,     0.27928,     0.28028,     0.28128,     0.28228,     0.28328,     0.28428,     0.28529,     0.28629,     0.28729,\n",
       "           0.28829,     0.28929,     0.29029,     0.29129,     0.29229,     0.29329,     0.29429,      0.2953,      0.2963,      0.2973,      0.2983,      0.2993,      0.3003,      0.3013,      0.3023,      0.3033,      0.3043,     0.30531,     0.30631,     0.30731,     0.30831,     0.30931,     0.31031,     0.31131,\n",
       "           0.31231,     0.31331,     0.31431,     0.31532,     0.31632,     0.31732,     0.31832,     0.31932,     0.32032,     0.32132,     0.32232,     0.32332,     0.32432,     0.32533,     0.32633,     0.32733,     0.32833,     0.32933,     0.33033,     0.33133,     0.33233,     0.33333,     0.33433,     0.33534,\n",
       "           0.33634,     0.33734,     0.33834,     0.33934,     0.34034,     0.34134,     0.34234,     0.34334,     0.34434,     0.34535,     0.34635,     0.34735,     0.34835,     0.34935,     0.35035,     0.35135,     0.35235,     0.35335,     0.35435,     0.35536,     0.35636,     0.35736,     0.35836,     0.35936,\n",
       "           0.36036,     0.36136,     0.36236,     0.36336,     0.36436,     0.36537,     0.36637,     0.36737,     0.36837,     0.36937,     0.37037,     0.37137,     0.37237,     0.37337,     0.37437,     0.37538,     0.37638,     0.37738,     0.37838,     0.37938,     0.38038,     0.38138,     0.38238,     0.38338,\n",
       "           0.38438,     0.38539,     0.38639,     0.38739,     0.38839,     0.38939,     0.39039,     0.39139,     0.39239,     0.39339,     0.39439,      0.3954,      0.3964,      0.3974,      0.3984,      0.3994,      0.4004,      0.4014,      0.4024,      0.4034,      0.4044,     0.40541,     0.40641,     0.40741,\n",
       "           0.40841,     0.40941,     0.41041,     0.41141,     0.41241,     0.41341,     0.41441,     0.41542,     0.41642,     0.41742,     0.41842,     0.41942,     0.42042,     0.42142,     0.42242,     0.42342,     0.42442,     0.42543,     0.42643,     0.42743,     0.42843,     0.42943,     0.43043,     0.43143,\n",
       "           0.43243,     0.43343,     0.43443,     0.43544,     0.43644,     0.43744,     0.43844,     0.43944,     0.44044,     0.44144,     0.44244,     0.44344,     0.44444,     0.44545,     0.44645,     0.44745,     0.44845,     0.44945,     0.45045,     0.45145,     0.45245,     0.45345,     0.45445,     0.45546,\n",
       "           0.45646,     0.45746,     0.45846,     0.45946,     0.46046,     0.46146,     0.46246,     0.46346,     0.46446,     0.46547,     0.46647,     0.46747,     0.46847,     0.46947,     0.47047,     0.47147,     0.47247,     0.47347,     0.47447,     0.47548,     0.47648,     0.47748,     0.47848,     0.47948,\n",
       "           0.48048,     0.48148,     0.48248,     0.48348,     0.48448,     0.48549,     0.48649,     0.48749,     0.48849,     0.48949,     0.49049,     0.49149,     0.49249,     0.49349,     0.49449,      0.4955,      0.4965,      0.4975,      0.4985,      0.4995,      0.5005,      0.5015,      0.5025,      0.5035,\n",
       "            0.5045,     0.50551,     0.50651,     0.50751,     0.50851,     0.50951,     0.51051,     0.51151,     0.51251,     0.51351,     0.51451,     0.51552,     0.51652,     0.51752,     0.51852,     0.51952,     0.52052,     0.52152,     0.52252,     0.52352,     0.52452,     0.52553,     0.52653,     0.52753,\n",
       "           0.52853,     0.52953,     0.53053,     0.53153,     0.53253,     0.53353,     0.53453,     0.53554,     0.53654,     0.53754,     0.53854,     0.53954,     0.54054,     0.54154,     0.54254,     0.54354,     0.54454,     0.54555,     0.54655,     0.54755,     0.54855,     0.54955,     0.55055,     0.55155,\n",
       "           0.55255,     0.55355,     0.55455,     0.55556,     0.55656,     0.55756,     0.55856,     0.55956,     0.56056,     0.56156,     0.56256,     0.56356,     0.56456,     0.56557,     0.56657,     0.56757,     0.56857,     0.56957,     0.57057,     0.57157,     0.57257,     0.57357,     0.57457,     0.57558,\n",
       "           0.57658,     0.57758,     0.57858,     0.57958,     0.58058,     0.58158,     0.58258,     0.58358,     0.58458,     0.58559,     0.58659,     0.58759,     0.58859,     0.58959,     0.59059,     0.59159,     0.59259,     0.59359,     0.59459,      0.5956,      0.5966,      0.5976,      0.5986,      0.5996,\n",
       "            0.6006,      0.6016,      0.6026,      0.6036,      0.6046,     0.60561,     0.60661,     0.60761,     0.60861,     0.60961,     0.61061,     0.61161,     0.61261,     0.61361,     0.61461,     0.61562,     0.61662,     0.61762,     0.61862,     0.61962,     0.62062,     0.62162,     0.62262,     0.62362,\n",
       "           0.62462,     0.62563,     0.62663,     0.62763,     0.62863,     0.62963,     0.63063,     0.63163,     0.63263,     0.63363,     0.63463,     0.63564,     0.63664,     0.63764,     0.63864,     0.63964,     0.64064,     0.64164,     0.64264,     0.64364,     0.64464,     0.64565,     0.64665,     0.64765,\n",
       "           0.64865,     0.64965,     0.65065,     0.65165,     0.65265,     0.65365,     0.65465,     0.65566,     0.65666,     0.65766,     0.65866,     0.65966,     0.66066,     0.66166,     0.66266,     0.66366,     0.66466,     0.66567,     0.66667,     0.66767,     0.66867,     0.66967,     0.67067,     0.67167,\n",
       "           0.67267,     0.67367,     0.67467,     0.67568,     0.67668,     0.67768,     0.67868,     0.67968,     0.68068,     0.68168,     0.68268,     0.68368,     0.68468,     0.68569,     0.68669,     0.68769,     0.68869,     0.68969,     0.69069,     0.69169,     0.69269,     0.69369,     0.69469,      0.6957,\n",
       "            0.6967,      0.6977,      0.6987,      0.6997,      0.7007,      0.7017,      0.7027,      0.7037,      0.7047,     0.70571,     0.70671,     0.70771,     0.70871,     0.70971,     0.71071,     0.71171,     0.71271,     0.71371,     0.71471,     0.71572,     0.71672,     0.71772,     0.71872,     0.71972,\n",
       "           0.72072,     0.72172,     0.72272,     0.72372,     0.72472,     0.72573,     0.72673,     0.72773,     0.72873,     0.72973,     0.73073,     0.73173,     0.73273,     0.73373,     0.73473,     0.73574,     0.73674,     0.73774,     0.73874,     0.73974,     0.74074,     0.74174,     0.74274,     0.74374,\n",
       "           0.74474,     0.74575,     0.74675,     0.74775,     0.74875,     0.74975,     0.75075,     0.75175,     0.75275,     0.75375,     0.75475,     0.75576,     0.75676,     0.75776,     0.75876,     0.75976,     0.76076,     0.76176,     0.76276,     0.76376,     0.76476,     0.76577,     0.76677,     0.76777,\n",
       "           0.76877,     0.76977,     0.77077,     0.77177,     0.77277,     0.77377,     0.77477,     0.77578,     0.77678,     0.77778,     0.77878,     0.77978,     0.78078,     0.78178,     0.78278,     0.78378,     0.78478,     0.78579,     0.78679,     0.78779,     0.78879,     0.78979,     0.79079,     0.79179,\n",
       "           0.79279,     0.79379,     0.79479,      0.7958,      0.7968,      0.7978,      0.7988,      0.7998,      0.8008,      0.8018,      0.8028,      0.8038,      0.8048,     0.80581,     0.80681,     0.80781,     0.80881,     0.80981,     0.81081,     0.81181,     0.81281,     0.81381,     0.81481,     0.81582,\n",
       "           0.81682,     0.81782,     0.81882,     0.81982,     0.82082,     0.82182,     0.82282,     0.82382,     0.82482,     0.82583,     0.82683,     0.82783,     0.82883,     0.82983,     0.83083,     0.83183,     0.83283,     0.83383,     0.83483,     0.83584,     0.83684,     0.83784,     0.83884,     0.83984,\n",
       "           0.84084,     0.84184,     0.84284,     0.84384,     0.84484,     0.84585,     0.84685,     0.84785,     0.84885,     0.84985,     0.85085,     0.85185,     0.85285,     0.85385,     0.85485,     0.85586,     0.85686,     0.85786,     0.85886,     0.85986,     0.86086,     0.86186,     0.86286,     0.86386,\n",
       "           0.86486,     0.86587,     0.86687,     0.86787,     0.86887,     0.86987,     0.87087,     0.87187,     0.87287,     0.87387,     0.87487,     0.87588,     0.87688,     0.87788,     0.87888,     0.87988,     0.88088,     0.88188,     0.88288,     0.88388,     0.88488,     0.88589,     0.88689,     0.88789,\n",
       "           0.88889,     0.88989,     0.89089,     0.89189,     0.89289,     0.89389,     0.89489,      0.8959,      0.8969,      0.8979,      0.8989,      0.8999,      0.9009,      0.9019,      0.9029,      0.9039,      0.9049,     0.90591,     0.90691,     0.90791,     0.90891,     0.90991,     0.91091,     0.91191,\n",
       "           0.91291,     0.91391,     0.91491,     0.91592,     0.91692,     0.91792,     0.91892,     0.91992,     0.92092,     0.92192,     0.92292,     0.92392,     0.92492,     0.92593,     0.92693,     0.92793,     0.92893,     0.92993,     0.93093,     0.93193,     0.93293,     0.93393,     0.93493,     0.93594,\n",
       "           0.93694,     0.93794,     0.93894,     0.93994,     0.94094,     0.94194,     0.94294,     0.94394,     0.94494,     0.94595,     0.94695,     0.94795,     0.94895,     0.94995,     0.95095,     0.95195,     0.95295,     0.95395,     0.95495,     0.95596,     0.95696,     0.95796,     0.95896,     0.95996,\n",
       "           0.96096,     0.96196,     0.96296,     0.96396,     0.96496,     0.96597,     0.96697,     0.96797,     0.96897,     0.96997,     0.97097,     0.97197,     0.97297,     0.97397,     0.97497,     0.97598,     0.97698,     0.97798,     0.97898,     0.97998,     0.98098,     0.98198,     0.98298,     0.98398,\n",
       "           0.98498,     0.98599,     0.98699,     0.98799,     0.98899,     0.98999,     0.99099,     0.99199,     0.99299,     0.99399,     0.99499,       0.996,       0.997,       0.998,       0.999,           1]), array([[    0.32278,     0.32303,     0.47347,     0.55369,     0.60458,     0.63791,     0.66774,     0.68108,     0.69813,     0.70804,     0.72017,      0.7397,     0.75055,     0.76576,     0.78092,      0.7951,     0.79975,     0.80287,     0.81218,     0.81742,     0.82047,     0.82749,     0.83182,\n",
       "            0.83129,     0.83925,     0.85123,      0.8541,      0.8583,     0.85987,     0.86147,     0.86318,     0.86583,     0.86802,     0.86926,     0.87282,     0.87536,     0.88118,     0.88747,     0.88863,     0.88971,     0.89278,     0.89545,     0.89913,     0.90019,     0.90138,     0.90286,\n",
       "            0.90389,     0.90444,     0.90499,     0.90554,     0.90608,     0.90792,     0.90941,     0.90993,     0.91044,     0.91096,     0.91148,     0.91248,     0.91753,     0.92086,     0.92215,     0.92321,      0.9237,      0.9242,     0.92469,     0.92518,     0.92567,     0.92625,     0.92693,\n",
       "             0.9276,     0.92828,     0.92886,     0.92915,     0.92945,     0.92974,     0.93003,     0.93032,     0.93061,      0.9309,     0.93119,     0.93148,     0.93187,     0.93245,     0.93303,     0.93362,      0.9342,     0.93676,     0.93762,     0.93775,     0.93788,     0.93801,     0.93814,\n",
       "            0.93827,      0.9384,     0.93853,     0.93867,      0.9388,     0.93893,     0.93906,     0.93919,     0.93932,     0.93945,     0.93958,     0.93971,     0.93984,     0.93997,      0.9401,     0.94023,     0.94037,     0.94128,      0.9432,     0.94355,     0.94373,      0.9439,     0.94407,\n",
       "            0.94425,     0.94442,     0.94459,     0.94477,     0.94494,     0.94511,     0.94529,     0.94546,     0.94563,     0.94581,     0.94598,     0.94615,     0.94633,     0.94646,     0.94657,     0.94669,     0.94681,     0.94692,     0.94704,     0.94716,     0.94727,     0.94739,      0.9475,\n",
       "            0.94762,     0.94774,     0.94785,     0.94797,     0.94808,      0.9482,     0.94832,     0.94843,     0.94855,     0.94866,     0.94878,      0.9489,     0.94901,     0.94913,     0.94924,     0.94936,     0.94946,     0.94955,     0.94965,     0.94974,     0.94984,     0.94994,     0.95003,\n",
       "            0.95013,     0.95022,     0.95032,     0.95042,     0.95051,     0.95061,      0.9507,      0.9508,      0.9509,     0.95099,     0.95109,     0.95118,     0.95128,     0.95137,     0.95147,     0.95156,     0.95166,     0.95176,     0.95185,     0.95195,     0.95204,     0.95214,     0.95223,\n",
       "            0.95233,     0.95236,     0.95232,     0.95227,     0.95223,     0.95219,     0.95214,      0.9521,     0.95206,     0.95201,     0.95197,     0.95192,     0.95188,     0.95184,     0.95179,     0.95175,     0.95171,     0.95166,     0.95162,     0.95158,     0.95153,     0.95149,     0.95145,\n",
       "             0.9514,     0.95136,     0.95131,     0.95127,     0.95123,     0.95118,     0.95114,      0.9511,     0.95105,     0.95101,     0.95096,     0.95092,     0.95088,     0.95083,     0.95079,     0.95075,      0.9507,     0.95066,     0.95062,     0.95057,     0.95053,     0.95048,     0.95044,\n",
       "             0.9504,     0.95035,     0.95031,     0.95027,     0.95022,     0.95018,     0.95013,     0.95009,     0.95005,        0.95,     0.94996,     0.94992,     0.94987,     0.94983,     0.94978,     0.94974,      0.9497,     0.94965,     0.94961,     0.94957,     0.94952,     0.94948,     0.94943,\n",
       "            0.94939,     0.94935,      0.9493,     0.94926,     0.94921,     0.94917,     0.94913,     0.94908,     0.94841,     0.94559,     0.94538,     0.94518,     0.94497,     0.94477,     0.94457,     0.94436,     0.94416,     0.94395,     0.94375,     0.94355,     0.94334,     0.94314,     0.94293,\n",
       "            0.94273,     0.94252,     0.94232,     0.94246,     0.94261,     0.94277,     0.94293,     0.94308,     0.94324,     0.94339,     0.94355,     0.94371,     0.94386,     0.94402,     0.94417,     0.94433,     0.94449,     0.94464,      0.9448,     0.94495,     0.94511,     0.94527,     0.94575,\n",
       "            0.94651,     0.94727,     0.94802,     0.94845,     0.94857,      0.9487,     0.94882,     0.94894,     0.94906,     0.94918,     0.94931,     0.94943,     0.94955,     0.94967,     0.94979,     0.94992,     0.95004,     0.95016,     0.95028,      0.9504,     0.95052,     0.95065,     0.95077,\n",
       "            0.95089,     0.95101,     0.95113,     0.95125,     0.95138,      0.9515,     0.95162,     0.95174,     0.95186,     0.95199,     0.95211,     0.95223,     0.95235,     0.95248,      0.9526,     0.95272,     0.95284,     0.95297,     0.95309,     0.95321,     0.95333,     0.95345,     0.95358,\n",
       "             0.9537,     0.95382,     0.95394,     0.95406,     0.95418,     0.95431,     0.95443,     0.95455,     0.95465,     0.95474,     0.95484,     0.95494,     0.95503,     0.95513,     0.95523,     0.95532,     0.95542,     0.95552,     0.95561,     0.95571,     0.95581,      0.9559,       0.956,\n",
       "            0.95609,     0.95619,     0.95629,     0.95638,     0.95648,     0.95658,     0.95667,     0.95677,     0.95687,     0.95696,     0.95706,     0.95715,     0.95725,     0.95735,     0.95744,     0.95754,     0.95764,     0.95713,     0.95648,     0.95583,     0.95518,     0.95453,     0.95431,\n",
       "            0.95441,     0.95451,      0.9546,      0.9547,      0.9548,      0.9549,       0.955,      0.9551,      0.9552,      0.9553,      0.9554,      0.9555,      0.9556,      0.9557,      0.9558,      0.9559,       0.956,      0.9561,      0.9562,      0.9563,     0.95639,     0.95649,     0.95659,\n",
       "            0.95669,     0.95679,     0.95689,     0.95699,     0.95709,     0.95719,     0.95729,     0.95736,     0.95723,      0.9571,     0.95697,     0.95684,     0.95671,     0.95658,     0.95645,     0.95632,     0.95619,     0.95606,     0.95592,     0.95579,     0.95566,     0.95553,      0.9554,\n",
       "            0.95527,     0.95514,     0.95501,     0.95487,     0.95474,     0.95461,     0.95448,     0.95435,     0.95422,     0.95409,     0.95395,     0.95399,     0.95403,     0.95408,     0.95412,     0.95416,     0.95421,     0.95425,     0.95429,     0.95434,     0.95438,     0.95443,     0.95447,\n",
       "            0.95451,     0.95456,      0.9546,     0.95464,     0.95469,     0.95473,     0.95477,     0.95482,     0.95486,     0.95491,     0.95495,     0.95499,     0.95504,     0.95508,     0.95512,     0.95517,     0.95521,     0.95525,      0.9553,     0.95534,     0.95538,     0.95543,     0.95547,\n",
       "            0.95551,     0.95556,      0.9556,     0.95565,     0.95569,     0.95573,     0.95578,     0.95582,     0.95586,     0.95591,     0.95595,     0.95599,     0.95604,     0.95608,     0.95612,     0.95617,     0.95621,     0.95625,      0.9563,     0.95634,     0.95638,     0.95643,     0.95647,\n",
       "            0.95651,     0.95656,      0.9566,     0.95664,     0.95669,     0.95673,     0.95678,     0.95682,     0.95686,     0.95691,     0.95695,     0.95699,     0.95704,     0.95708,     0.95713,     0.95719,     0.95725,     0.95731,     0.95736,     0.95742,     0.95748,     0.95754,      0.9576,\n",
       "            0.95765,     0.95771,     0.95777,     0.95783,     0.95789,     0.95794,       0.958,     0.95806,     0.95812,     0.95818,     0.95823,     0.95829,     0.95835,     0.95841,     0.95847,     0.95852,     0.95858,     0.95864,      0.9587,     0.95876,     0.95881,     0.95887,     0.95893,\n",
       "            0.95899,     0.95904,      0.9591,     0.95916,     0.95922,     0.95928,     0.95933,     0.95939,     0.95945,     0.95951,     0.95956,     0.95962,     0.95968,     0.95974,      0.9598,     0.95985,     0.95991,     0.95997,     0.96003,     0.96008,     0.96014,      0.9602,     0.96026,\n",
       "            0.96038,     0.96051,     0.96065,     0.96078,     0.96091,     0.96105,     0.96118,     0.96131,     0.96145,     0.96158,     0.96171,     0.96185,     0.96198,     0.96211,     0.96224,     0.96238,     0.96251,     0.96264,     0.96277,     0.96291,     0.96304,     0.96317,     0.96331,\n",
       "            0.96344,     0.96339,     0.96331,     0.96323,     0.96315,     0.96307,     0.96299,     0.96291,     0.96283,     0.96275,     0.96267,     0.96259,     0.96251,     0.96243,     0.96235,     0.96227,     0.96219,     0.96211,     0.96203,     0.96195,     0.96187,     0.96179,     0.96171,\n",
       "            0.96163,     0.96155,     0.96147,     0.96139,     0.96131,     0.96123,     0.96115,     0.96107,     0.96099,     0.96091,     0.96083,     0.96075,     0.96067,     0.96059,     0.96051,     0.96043,     0.96035,     0.96027,     0.96019,     0.96011,     0.96003,     0.95643,      0.9562,\n",
       "            0.95597,     0.95573,      0.9555,     0.95527,     0.95504,      0.9548,     0.95457,     0.95434,     0.95411,     0.95387,     0.95364,     0.95341,     0.95317,     0.95294,     0.95273,     0.95251,     0.95229,     0.95207,     0.95185,     0.95163,     0.95141,     0.95119,     0.95098,\n",
       "            0.95076,     0.95054,     0.95032,      0.9501,     0.94988,     0.94966,     0.94899,       0.947,     0.94568,      0.9451,     0.94453,     0.94395,     0.94337,      0.9428,     0.94233,     0.94219,     0.94205,      0.9419,     0.94176,     0.94161,     0.94147,     0.94132,     0.94118,\n",
       "            0.94103,     0.94089,     0.94074,      0.9406,     0.94045,     0.94031,     0.94016,     0.94002,     0.93987,     0.93972,     0.93958,     0.93943,     0.93929,     0.93914,       0.939,     0.93885,     0.93688,     0.93506,     0.93489,     0.93472,     0.93455,     0.93438,     0.93421,\n",
       "            0.93404,     0.93386,     0.93369,     0.93352,     0.93335,     0.93318,     0.93301,     0.93284,     0.93267,      0.9325,     0.93233,     0.93216,     0.93199,     0.93181,     0.93164,     0.93145,     0.93118,     0.93091,     0.93063,     0.93036,     0.93009,     0.92981,     0.92954,\n",
       "            0.92927,     0.92899,     0.92872,     0.92844,     0.92817,     0.92789,     0.92762,     0.92734,     0.92707,     0.92679,     0.92651,     0.92624,     0.92596,     0.92569,     0.92541,     0.92513,     0.92486,     0.92458,      0.9243,     0.92406,     0.92388,      0.9237,     0.92351,\n",
       "            0.92333,     0.92315,     0.92296,     0.92278,     0.92259,     0.92241,     0.92223,     0.92204,     0.92186,     0.92168,     0.92149,     0.92131,     0.92112,     0.92094,     0.92076,     0.92057,     0.92017,     0.91858,     0.91699,     0.91499,      0.9129,     0.91326,     0.91362,\n",
       "            0.91398,     0.91434,      0.9147,     0.91506,     0.91541,     0.91577,     0.91595,     0.91491,     0.91387,     0.91283,     0.91209,     0.91169,     0.91129,     0.91088,     0.91048,     0.91008,     0.90967,     0.90927,     0.90886,     0.90846,     0.90797,     0.90748,     0.90699,\n",
       "             0.9065,     0.90601,     0.90552,     0.90502,     0.90425,     0.90161,     0.90053,     0.90025,     0.89998,     0.89971,     0.89943,     0.89916,     0.89888,     0.89861,     0.89833,     0.89806,     0.89778,      0.8975,     0.89723,     0.89695,     0.89392,     0.88404,     0.87792,\n",
       "            0.87109,     0.86858,     0.86729,     0.86599,      0.8647,     0.85911,     0.84826,     0.84032,     0.83694,     0.83339,     0.82078,     0.81536,     0.80756,     0.80614,     0.80471,     0.80328,     0.80106,     0.79871,     0.79565,     0.79081,      0.7834,     0.78185,     0.78029,\n",
       "            0.77827,     0.77581,     0.76999,     0.76319,     0.75841,     0.74661,     0.74277,      0.7403,     0.72839,     0.72482,     0.71145,     0.69832,     0.69081,     0.68875,     0.68668,     0.68029,     0.67365,     0.66094,     0.64957,       0.641,     0.62548,     0.60995,     0.57786,\n",
       "            0.57632,     0.57479,     0.57325,     0.57171,     0.55747,     0.54687,     0.51476,     0.48718,     0.47751,     0.46256,     0.44783,      0.4428,     0.43486,     0.41361,     0.38838,     0.37736,     0.35101,     0.34019,     0.33736,     0.33453,     0.32806,     0.31895,     0.31055,\n",
       "             0.3043,      0.3003,     0.29277,     0.28436,     0.28092,     0.27689,     0.26722,     0.25952,     0.24998,     0.22189,      0.1942,     0.18782,     0.18363,     0.17969,     0.17506,     0.16752,     0.16121,     0.15528,      0.1449,     0.13478,     0.12562,     0.11636,     0.10728,\n",
       "           0.099321,    0.085222,    0.082544,    0.079858,    0.077165,    0.074381,    0.068481,    0.062545,    0.059981,    0.057436,    0.054884,    0.052325,    0.049463,    0.045506,    0.041534,    0.037838,    0.036562,    0.035284,    0.034005,    0.032724,    0.031442,    0.030158,    0.028872,\n",
       "           0.027585,    0.026295,    0.024878,     0.02324,    0.021599,    0.019955,    0.018308,    0.016659,    0.015007,    0.013353,           0,           0,           0,           0,           0,           0,           0,           0,           0,           0,           0,           0,           0,\n",
       "                  0,           0,           0,           0,           0,           0,           0,           0,           0,           0,           0,           0,           0,           0,           0,           0,           0,           0,           0,           0,           0,           0,           0,\n",
       "                  0,           0,           0,           0,           0,           0,           0,           0,           0,           0,           0]]), 'Confidence', 'F1'], [array([          0,    0.001001,    0.002002,    0.003003,    0.004004,    0.005005,    0.006006,    0.007007,    0.008008,    0.009009,     0.01001,    0.011011,    0.012012,    0.013013,    0.014014,    0.015015,    0.016016,    0.017017,    0.018018,    0.019019,     0.02002,    0.021021,    0.022022,    0.023023,\n",
       "          0.024024,    0.025025,    0.026026,    0.027027,    0.028028,    0.029029,     0.03003,    0.031031,    0.032032,    0.033033,    0.034034,    0.035035,    0.036036,    0.037037,    0.038038,    0.039039,     0.04004,    0.041041,    0.042042,    0.043043,    0.044044,    0.045045,    0.046046,    0.047047,\n",
       "          0.048048,    0.049049,     0.05005,    0.051051,    0.052052,    0.053053,    0.054054,    0.055055,    0.056056,    0.057057,    0.058058,    0.059059,     0.06006,    0.061061,    0.062062,    0.063063,    0.064064,    0.065065,    0.066066,    0.067067,    0.068068,    0.069069,     0.07007,    0.071071,\n",
       "          0.072072,    0.073073,    0.074074,    0.075075,    0.076076,    0.077077,    0.078078,    0.079079,     0.08008,    0.081081,    0.082082,    0.083083,    0.084084,    0.085085,    0.086086,    0.087087,    0.088088,    0.089089,     0.09009,    0.091091,    0.092092,    0.093093,    0.094094,    0.095095,\n",
       "          0.096096,    0.097097,    0.098098,    0.099099,      0.1001,      0.1011,      0.1021,      0.1031,      0.1041,     0.10511,     0.10611,     0.10711,     0.10811,     0.10911,     0.11011,     0.11111,     0.11211,     0.11311,     0.11411,     0.11512,     0.11612,     0.11712,     0.11812,     0.11912,\n",
       "           0.12012,     0.12112,     0.12212,     0.12312,     0.12412,     0.12513,     0.12613,     0.12713,     0.12813,     0.12913,     0.13013,     0.13113,     0.13213,     0.13313,     0.13413,     0.13514,     0.13614,     0.13714,     0.13814,     0.13914,     0.14014,     0.14114,     0.14214,     0.14314,\n",
       "           0.14414,     0.14515,     0.14615,     0.14715,     0.14815,     0.14915,     0.15015,     0.15115,     0.15215,     0.15315,     0.15415,     0.15516,     0.15616,     0.15716,     0.15816,     0.15916,     0.16016,     0.16116,     0.16216,     0.16316,     0.16416,     0.16517,     0.16617,     0.16717,\n",
       "           0.16817,     0.16917,     0.17017,     0.17117,     0.17217,     0.17317,     0.17417,     0.17518,     0.17618,     0.17718,     0.17818,     0.17918,     0.18018,     0.18118,     0.18218,     0.18318,     0.18418,     0.18519,     0.18619,     0.18719,     0.18819,     0.18919,     0.19019,     0.19119,\n",
       "           0.19219,     0.19319,     0.19419,      0.1952,      0.1962,      0.1972,      0.1982,      0.1992,      0.2002,      0.2012,      0.2022,      0.2032,      0.2042,     0.20521,     0.20621,     0.20721,     0.20821,     0.20921,     0.21021,     0.21121,     0.21221,     0.21321,     0.21421,     0.21522,\n",
       "           0.21622,     0.21722,     0.21822,     0.21922,     0.22022,     0.22122,     0.22222,     0.22322,     0.22422,     0.22523,     0.22623,     0.22723,     0.22823,     0.22923,     0.23023,     0.23123,     0.23223,     0.23323,     0.23423,     0.23524,     0.23624,     0.23724,     0.23824,     0.23924,\n",
       "           0.24024,     0.24124,     0.24224,     0.24324,     0.24424,     0.24525,     0.24625,     0.24725,     0.24825,     0.24925,     0.25025,     0.25125,     0.25225,     0.25325,     0.25425,     0.25526,     0.25626,     0.25726,     0.25826,     0.25926,     0.26026,     0.26126,     0.26226,     0.26326,\n",
       "           0.26426,     0.26527,     0.26627,     0.26727,     0.26827,     0.26927,     0.27027,     0.27127,     0.27227,     0.27327,     0.27427,     0.27528,     0.27628,     0.27728,     0.27828,     0.27928,     0.28028,     0.28128,     0.28228,     0.28328,     0.28428,     0.28529,     0.28629,     0.28729,\n",
       "           0.28829,     0.28929,     0.29029,     0.29129,     0.29229,     0.29329,     0.29429,      0.2953,      0.2963,      0.2973,      0.2983,      0.2993,      0.3003,      0.3013,      0.3023,      0.3033,      0.3043,     0.30531,     0.30631,     0.30731,     0.30831,     0.30931,     0.31031,     0.31131,\n",
       "           0.31231,     0.31331,     0.31431,     0.31532,     0.31632,     0.31732,     0.31832,     0.31932,     0.32032,     0.32132,     0.32232,     0.32332,     0.32432,     0.32533,     0.32633,     0.32733,     0.32833,     0.32933,     0.33033,     0.33133,     0.33233,     0.33333,     0.33433,     0.33534,\n",
       "           0.33634,     0.33734,     0.33834,     0.33934,     0.34034,     0.34134,     0.34234,     0.34334,     0.34434,     0.34535,     0.34635,     0.34735,     0.34835,     0.34935,     0.35035,     0.35135,     0.35235,     0.35335,     0.35435,     0.35536,     0.35636,     0.35736,     0.35836,     0.35936,\n",
       "           0.36036,     0.36136,     0.36236,     0.36336,     0.36436,     0.36537,     0.36637,     0.36737,     0.36837,     0.36937,     0.37037,     0.37137,     0.37237,     0.37337,     0.37437,     0.37538,     0.37638,     0.37738,     0.37838,     0.37938,     0.38038,     0.38138,     0.38238,     0.38338,\n",
       "           0.38438,     0.38539,     0.38639,     0.38739,     0.38839,     0.38939,     0.39039,     0.39139,     0.39239,     0.39339,     0.39439,      0.3954,      0.3964,      0.3974,      0.3984,      0.3994,      0.4004,      0.4014,      0.4024,      0.4034,      0.4044,     0.40541,     0.40641,     0.40741,\n",
       "           0.40841,     0.40941,     0.41041,     0.41141,     0.41241,     0.41341,     0.41441,     0.41542,     0.41642,     0.41742,     0.41842,     0.41942,     0.42042,     0.42142,     0.42242,     0.42342,     0.42442,     0.42543,     0.42643,     0.42743,     0.42843,     0.42943,     0.43043,     0.43143,\n",
       "           0.43243,     0.43343,     0.43443,     0.43544,     0.43644,     0.43744,     0.43844,     0.43944,     0.44044,     0.44144,     0.44244,     0.44344,     0.44444,     0.44545,     0.44645,     0.44745,     0.44845,     0.44945,     0.45045,     0.45145,     0.45245,     0.45345,     0.45445,     0.45546,\n",
       "           0.45646,     0.45746,     0.45846,     0.45946,     0.46046,     0.46146,     0.46246,     0.46346,     0.46446,     0.46547,     0.46647,     0.46747,     0.46847,     0.46947,     0.47047,     0.47147,     0.47247,     0.47347,     0.47447,     0.47548,     0.47648,     0.47748,     0.47848,     0.47948,\n",
       "           0.48048,     0.48148,     0.48248,     0.48348,     0.48448,     0.48549,     0.48649,     0.48749,     0.48849,     0.48949,     0.49049,     0.49149,     0.49249,     0.49349,     0.49449,      0.4955,      0.4965,      0.4975,      0.4985,      0.4995,      0.5005,      0.5015,      0.5025,      0.5035,\n",
       "            0.5045,     0.50551,     0.50651,     0.50751,     0.50851,     0.50951,     0.51051,     0.51151,     0.51251,     0.51351,     0.51451,     0.51552,     0.51652,     0.51752,     0.51852,     0.51952,     0.52052,     0.52152,     0.52252,     0.52352,     0.52452,     0.52553,     0.52653,     0.52753,\n",
       "           0.52853,     0.52953,     0.53053,     0.53153,     0.53253,     0.53353,     0.53453,     0.53554,     0.53654,     0.53754,     0.53854,     0.53954,     0.54054,     0.54154,     0.54254,     0.54354,     0.54454,     0.54555,     0.54655,     0.54755,     0.54855,     0.54955,     0.55055,     0.55155,\n",
       "           0.55255,     0.55355,     0.55455,     0.55556,     0.55656,     0.55756,     0.55856,     0.55956,     0.56056,     0.56156,     0.56256,     0.56356,     0.56456,     0.56557,     0.56657,     0.56757,     0.56857,     0.56957,     0.57057,     0.57157,     0.57257,     0.57357,     0.57457,     0.57558,\n",
       "           0.57658,     0.57758,     0.57858,     0.57958,     0.58058,     0.58158,     0.58258,     0.58358,     0.58458,     0.58559,     0.58659,     0.58759,     0.58859,     0.58959,     0.59059,     0.59159,     0.59259,     0.59359,     0.59459,      0.5956,      0.5966,      0.5976,      0.5986,      0.5996,\n",
       "            0.6006,      0.6016,      0.6026,      0.6036,      0.6046,     0.60561,     0.60661,     0.60761,     0.60861,     0.60961,     0.61061,     0.61161,     0.61261,     0.61361,     0.61461,     0.61562,     0.61662,     0.61762,     0.61862,     0.61962,     0.62062,     0.62162,     0.62262,     0.62362,\n",
       "           0.62462,     0.62563,     0.62663,     0.62763,     0.62863,     0.62963,     0.63063,     0.63163,     0.63263,     0.63363,     0.63463,     0.63564,     0.63664,     0.63764,     0.63864,     0.63964,     0.64064,     0.64164,     0.64264,     0.64364,     0.64464,     0.64565,     0.64665,     0.64765,\n",
       "           0.64865,     0.64965,     0.65065,     0.65165,     0.65265,     0.65365,     0.65465,     0.65566,     0.65666,     0.65766,     0.65866,     0.65966,     0.66066,     0.66166,     0.66266,     0.66366,     0.66466,     0.66567,     0.66667,     0.66767,     0.66867,     0.66967,     0.67067,     0.67167,\n",
       "           0.67267,     0.67367,     0.67467,     0.67568,     0.67668,     0.67768,     0.67868,     0.67968,     0.68068,     0.68168,     0.68268,     0.68368,     0.68468,     0.68569,     0.68669,     0.68769,     0.68869,     0.68969,     0.69069,     0.69169,     0.69269,     0.69369,     0.69469,      0.6957,\n",
       "            0.6967,      0.6977,      0.6987,      0.6997,      0.7007,      0.7017,      0.7027,      0.7037,      0.7047,     0.70571,     0.70671,     0.70771,     0.70871,     0.70971,     0.71071,     0.71171,     0.71271,     0.71371,     0.71471,     0.71572,     0.71672,     0.71772,     0.71872,     0.71972,\n",
       "           0.72072,     0.72172,     0.72272,     0.72372,     0.72472,     0.72573,     0.72673,     0.72773,     0.72873,     0.72973,     0.73073,     0.73173,     0.73273,     0.73373,     0.73473,     0.73574,     0.73674,     0.73774,     0.73874,     0.73974,     0.74074,     0.74174,     0.74274,     0.74374,\n",
       "           0.74474,     0.74575,     0.74675,     0.74775,     0.74875,     0.74975,     0.75075,     0.75175,     0.75275,     0.75375,     0.75475,     0.75576,     0.75676,     0.75776,     0.75876,     0.75976,     0.76076,     0.76176,     0.76276,     0.76376,     0.76476,     0.76577,     0.76677,     0.76777,\n",
       "           0.76877,     0.76977,     0.77077,     0.77177,     0.77277,     0.77377,     0.77477,     0.77578,     0.77678,     0.77778,     0.77878,     0.77978,     0.78078,     0.78178,     0.78278,     0.78378,     0.78478,     0.78579,     0.78679,     0.78779,     0.78879,     0.78979,     0.79079,     0.79179,\n",
       "           0.79279,     0.79379,     0.79479,      0.7958,      0.7968,      0.7978,      0.7988,      0.7998,      0.8008,      0.8018,      0.8028,      0.8038,      0.8048,     0.80581,     0.80681,     0.80781,     0.80881,     0.80981,     0.81081,     0.81181,     0.81281,     0.81381,     0.81481,     0.81582,\n",
       "           0.81682,     0.81782,     0.81882,     0.81982,     0.82082,     0.82182,     0.82282,     0.82382,     0.82482,     0.82583,     0.82683,     0.82783,     0.82883,     0.82983,     0.83083,     0.83183,     0.83283,     0.83383,     0.83483,     0.83584,     0.83684,     0.83784,     0.83884,     0.83984,\n",
       "           0.84084,     0.84184,     0.84284,     0.84384,     0.84484,     0.84585,     0.84685,     0.84785,     0.84885,     0.84985,     0.85085,     0.85185,     0.85285,     0.85385,     0.85485,     0.85586,     0.85686,     0.85786,     0.85886,     0.85986,     0.86086,     0.86186,     0.86286,     0.86386,\n",
       "           0.86486,     0.86587,     0.86687,     0.86787,     0.86887,     0.86987,     0.87087,     0.87187,     0.87287,     0.87387,     0.87487,     0.87588,     0.87688,     0.87788,     0.87888,     0.87988,     0.88088,     0.88188,     0.88288,     0.88388,     0.88488,     0.88589,     0.88689,     0.88789,\n",
       "           0.88889,     0.88989,     0.89089,     0.89189,     0.89289,     0.89389,     0.89489,      0.8959,      0.8969,      0.8979,      0.8989,      0.8999,      0.9009,      0.9019,      0.9029,      0.9039,      0.9049,     0.90591,     0.90691,     0.90791,     0.90891,     0.90991,     0.91091,     0.91191,\n",
       "           0.91291,     0.91391,     0.91491,     0.91592,     0.91692,     0.91792,     0.91892,     0.91992,     0.92092,     0.92192,     0.92292,     0.92392,     0.92492,     0.92593,     0.92693,     0.92793,     0.92893,     0.92993,     0.93093,     0.93193,     0.93293,     0.93393,     0.93493,     0.93594,\n",
       "           0.93694,     0.93794,     0.93894,     0.93994,     0.94094,     0.94194,     0.94294,     0.94394,     0.94494,     0.94595,     0.94695,     0.94795,     0.94895,     0.94995,     0.95095,     0.95195,     0.95295,     0.95395,     0.95495,     0.95596,     0.95696,     0.95796,     0.95896,     0.95996,\n",
       "           0.96096,     0.96196,     0.96296,     0.96396,     0.96496,     0.96597,     0.96697,     0.96797,     0.96897,     0.96997,     0.97097,     0.97197,     0.97297,     0.97397,     0.97497,     0.97598,     0.97698,     0.97798,     0.97898,     0.97998,     0.98098,     0.98198,     0.98298,     0.98398,\n",
       "           0.98498,     0.98599,     0.98699,     0.98799,     0.98899,     0.98999,     0.99099,     0.99199,     0.99299,     0.99399,     0.99499,       0.996,       0.997,       0.998,       0.999,           1]), array([[    0.19294,     0.19312,     0.31142,     0.38575,     0.43699,      0.4727,     0.50795,     0.52356,     0.54399,     0.55611,     0.57122,      0.5962,     0.61042,      0.6308,     0.65164,     0.67163,     0.67829,     0.68279,     0.69637,     0.70411,     0.70865,     0.71919,     0.72575,\n",
       "            0.72826,     0.74089,     0.75976,     0.76434,     0.77109,     0.77364,     0.77623,     0.77901,     0.78334,     0.78694,     0.78897,     0.79486,     0.79908,     0.80883,      0.8195,     0.82147,     0.82333,      0.8286,     0.83321,      0.8396,     0.84145,     0.84354,     0.84614,\n",
       "            0.84793,      0.8489,     0.84987,     0.85084,     0.85181,     0.85507,     0.85771,     0.85863,     0.85955,     0.86048,      0.8614,     0.86319,     0.87227,     0.87831,     0.88065,      0.8826,      0.8835,      0.8844,      0.8853,      0.8862,      0.8871,     0.88817,     0.88941,\n",
       "            0.89066,     0.89191,     0.89299,     0.89353,     0.89407,      0.8946,     0.89514,     0.89568,     0.89622,     0.89676,      0.8973,     0.89784,     0.89856,     0.89964,     0.90073,     0.90182,      0.9029,      0.9077,     0.90931,     0.90956,      0.9098,     0.91005,      0.9103,\n",
       "            0.91054,     0.91079,     0.91104,     0.91128,     0.91153,     0.91178,     0.91203,     0.91227,     0.91252,     0.91277,     0.91301,     0.91326,     0.91351,     0.91375,       0.914,     0.91425,      0.9145,     0.91623,     0.91987,     0.92054,     0.92087,      0.9212,     0.92154,\n",
       "            0.92187,      0.9222,     0.92253,     0.92286,     0.92319,     0.92352,     0.92385,     0.92418,     0.92452,     0.92485,     0.92518,     0.92551,     0.92584,     0.92609,     0.92631,     0.92654,     0.92676,     0.92698,      0.9272,     0.92743,     0.92765,     0.92787,      0.9281,\n",
       "            0.92832,     0.92854,     0.92876,     0.92899,     0.92921,     0.92943,     0.92966,     0.92988,      0.9301,     0.93032,     0.93055,     0.93077,     0.93099,     0.93122,     0.93144,     0.93166,     0.93185,     0.93203,     0.93222,      0.9324,     0.93259,     0.93277,     0.93296,\n",
       "            0.93314,     0.93333,     0.93351,      0.9337,     0.93388,     0.93407,     0.93425,     0.93444,     0.93462,     0.93481,     0.93499,     0.93518,     0.93536,     0.93555,     0.93573,     0.93592,      0.9361,     0.93629,     0.93647,     0.93666,     0.93684,     0.93703,     0.93721,\n",
       "             0.9374,      0.9375,     0.93749,     0.93749,     0.93748,     0.93748,     0.93747,     0.93747,     0.93746,     0.93746,     0.93745,     0.93745,     0.93744,     0.93744,     0.93743,     0.93743,     0.93742,     0.93742,     0.93741,      0.9374,      0.9374,     0.93739,     0.93739,\n",
       "            0.93738,     0.93738,     0.93737,     0.93737,     0.93736,     0.93736,     0.93735,     0.93735,     0.93734,     0.93734,     0.93733,     0.93733,     0.93732,     0.93732,     0.93731,     0.93731,      0.9373,      0.9373,     0.93729,     0.93729,     0.93728,     0.93728,     0.93727,\n",
       "            0.93727,     0.93726,     0.93726,     0.93725,     0.93725,     0.93724,     0.93724,     0.93723,     0.93722,     0.93722,     0.93721,     0.93721,      0.9372,      0.9372,     0.93719,     0.93719,     0.93718,     0.93718,     0.93717,     0.93717,     0.93716,     0.93716,     0.93715,\n",
       "            0.93715,     0.93714,     0.93714,     0.93713,     0.93713,     0.93712,     0.93712,     0.93711,     0.93703,      0.9367,     0.93667,     0.93665,     0.93662,      0.9366,     0.93657,     0.93655,     0.93653,      0.9365,     0.93648,     0.93645,     0.93643,      0.9364,     0.93638,\n",
       "            0.93636,     0.93633,     0.93631,      0.9366,     0.93691,     0.93722,     0.93753,     0.93784,     0.93814,     0.93845,     0.93876,     0.93907,     0.93938,     0.93969,        0.94,     0.94031,     0.94062,     0.94093,     0.94124,     0.94155,     0.94185,     0.94216,     0.94312,\n",
       "            0.94463,     0.94615,     0.94766,     0.94851,     0.94876,       0.949,     0.94925,     0.94949,     0.94974,     0.94998,     0.95023,     0.95047,     0.95072,     0.95096,      0.9512,     0.95145,     0.95169,     0.95194,     0.95218,     0.95243,     0.95267,     0.95292,     0.95316,\n",
       "             0.9534,     0.95365,     0.95389,     0.95414,     0.95438,     0.95463,     0.95487,     0.95512,     0.95537,     0.95561,     0.95586,     0.95611,     0.95635,      0.9566,     0.95685,     0.95709,     0.95734,     0.95759,     0.95783,     0.95808,     0.95833,     0.95857,     0.95882,\n",
       "            0.95907,     0.95931,     0.95956,     0.95981,     0.96005,      0.9603,     0.96055,     0.96079,     0.96099,     0.96118,     0.96138,     0.96158,     0.96177,     0.96197,     0.96216,     0.96236,     0.96256,     0.96275,     0.96295,     0.96314,     0.96334,     0.96354,     0.96373,\n",
       "            0.96393,     0.96413,     0.96432,     0.96452,     0.96471,     0.96491,     0.96511,      0.9653,      0.9655,     0.96569,     0.96589,     0.96609,     0.96628,     0.96648,     0.96667,     0.96687,     0.96707,     0.96707,     0.96703,     0.96699,     0.96695,     0.96691,     0.96701,\n",
       "            0.96721,     0.96741,     0.96762,     0.96782,     0.96803,     0.96823,     0.96844,     0.96864,     0.96885,     0.96905,     0.96926,     0.96946,     0.96967,     0.96987,     0.97008,     0.97028,     0.97049,     0.97069,      0.9709,      0.9711,     0.97131,     0.97151,     0.97171,\n",
       "            0.97192,     0.97212,     0.97233,     0.97253,     0.97274,     0.97294,     0.97315,     0.97333,     0.97333,     0.97332,     0.97331,     0.97331,      0.9733,     0.97329,     0.97328,     0.97328,     0.97327,     0.97326,     0.97326,     0.97325,     0.97324,     0.97324,     0.97323,\n",
       "            0.97322,     0.97322,     0.97321,      0.9732,      0.9732,     0.97319,     0.97318,     0.97318,     0.97317,     0.97316,     0.97315,     0.97324,     0.97333,     0.97342,     0.97351,      0.9736,      0.9737,     0.97379,     0.97388,     0.97397,     0.97406,     0.97415,     0.97424,\n",
       "            0.97433,     0.97442,     0.97451,      0.9746,      0.9747,     0.97479,     0.97488,     0.97497,     0.97506,     0.97515,     0.97524,     0.97533,     0.97542,     0.97551,      0.9756,      0.9757,     0.97579,     0.97588,     0.97597,     0.97606,     0.97615,     0.97624,     0.97633,\n",
       "            0.97642,     0.97651,      0.9766,     0.97669,     0.97679,     0.97688,     0.97697,     0.97706,     0.97715,     0.97724,     0.97733,     0.97742,     0.97751,      0.9776,     0.97769,     0.97779,     0.97788,     0.97797,     0.97806,     0.97815,     0.97824,     0.97833,     0.97842,\n",
       "            0.97851,      0.9786,     0.97869,     0.97879,     0.97888,     0.97897,     0.97906,     0.97915,     0.97924,     0.97933,     0.97942,     0.97951,      0.9796,     0.97969,      0.9798,     0.97993,     0.98005,     0.98017,     0.98029,     0.98041,     0.98053,     0.98066,     0.98078,\n",
       "             0.9809,     0.98102,     0.98114,     0.98127,     0.98139,     0.98151,     0.98163,     0.98175,     0.98187,       0.982,     0.98212,     0.98224,     0.98236,     0.98248,      0.9826,     0.98273,     0.98285,     0.98297,     0.98309,     0.98321,     0.98334,     0.98346,     0.98358,\n",
       "             0.9837,     0.98382,     0.98394,     0.98407,     0.98419,     0.98431,     0.98443,     0.98455,     0.98467,      0.9848,     0.98492,     0.98504,     0.98516,     0.98528,     0.98541,     0.98553,     0.98565,     0.98577,     0.98589,     0.98601,     0.98614,     0.98626,     0.98638,\n",
       "            0.98664,     0.98692,      0.9872,     0.98749,     0.98777,     0.98805,     0.98833,     0.98861,     0.98889,     0.98917,     0.98945,     0.98974,     0.99002,      0.9903,     0.99058,     0.99086,     0.99114,     0.99142,     0.99171,     0.99199,     0.99227,     0.99255,     0.99283,\n",
       "            0.99311,     0.99315,     0.99315,     0.99315,     0.99315,     0.99315,     0.99314,     0.99314,     0.99314,     0.99314,     0.99314,     0.99314,     0.99314,     0.99314,     0.99314,     0.99313,     0.99313,     0.99313,     0.99313,     0.99313,     0.99313,     0.99313,     0.99313,\n",
       "            0.99313,     0.99312,     0.99312,     0.99312,     0.99312,     0.99312,     0.99312,     0.99312,     0.99312,     0.99312,     0.99311,     0.99311,     0.99311,     0.99311,     0.99311,     0.99311,     0.99311,     0.99311,     0.99311,      0.9931,      0.9931,     0.99305,     0.99305,\n",
       "            0.99305,     0.99304,     0.99304,     0.99304,     0.99303,     0.99303,     0.99303,     0.99303,     0.99302,     0.99302,     0.99302,     0.99301,     0.99301,     0.99301,       0.993,       0.993,       0.993,     0.99299,     0.99299,     0.99299,     0.99298,     0.99298,     0.99298,\n",
       "            0.99298,     0.99297,     0.99297,     0.99297,     0.99296,     0.99296,     0.99295,     0.99292,      0.9929,      0.9929,     0.99289,     0.99288,     0.99287,     0.99286,     0.99286,     0.99285,     0.99285,     0.99285,     0.99285,     0.99285,     0.99284,     0.99284,     0.99284,\n",
       "            0.99284,     0.99284,     0.99283,     0.99283,     0.99283,     0.99283,     0.99283,     0.99282,     0.99282,     0.99282,     0.99282,     0.99282,     0.99281,     0.99281,     0.99281,     0.99281,     0.99278,     0.99275,     0.99275,     0.99275,     0.99274,     0.99274,     0.99274,\n",
       "            0.99274,     0.99273,     0.99273,     0.99273,     0.99273,     0.99272,     0.99272,     0.99272,     0.99272,     0.99272,     0.99271,     0.99271,     0.99271,     0.99271,      0.9927,      0.9927,      0.9927,     0.99269,     0.99269,     0.99268,     0.99268,     0.99268,     0.99267,\n",
       "            0.99267,     0.99266,     0.99266,     0.99266,     0.99265,     0.99265,     0.99264,     0.99264,     0.99264,     0.99263,     0.99263,     0.99262,     0.99262,     0.99262,     0.99261,     0.99261,      0.9926,      0.9926,     0.99259,     0.99259,     0.99259,     0.99259,     0.99258,\n",
       "            0.99258,     0.99258,     0.99258,     0.99257,     0.99257,     0.99257,     0.99256,     0.99256,     0.99256,     0.99256,     0.99255,     0.99255,     0.99255,     0.99255,     0.99254,     0.99254,     0.99253,     0.99251,     0.99249,     0.99246,     0.99243,     0.99329,     0.99414,\n",
       "            0.99499,     0.99585,      0.9967,     0.99755,     0.99841,     0.99926,           1,           1,           1,           1,           1,           1,           1,           1,           1,           1,           1,           1,           1,           1,           1,           1,           1,\n",
       "                  1,           1,           1,           1,           1,           1,           1,           1,           1,           1,           1,           1,           1,           1,           1,           1,           1,           1,           1,           1,           1,           1,           1,\n",
       "                  1,           1,           1,           1,           1,           1,           1,           1,           1,           1,           1,           1,           1,           1,           1,           1,           1,           1,           1,           1,           1,           1,           1,\n",
       "                  1,           1,           1,           1,           1,           1,           1,           1,           1,           1,           1,           1,           1,           1,           1,           1,           1,           1,           1,           1,           1,           1,           1,\n",
       "                  1,           1,           1,           1,           1,           1,           1,           1,           1,           1,           1,           1,           1,           1,           1,           1,           1,           1,           1,           1,           1,           1,           1,\n",
       "                  1,           1,           1,           1,           1,           1,           1,           1,           1,           1,           1,           1,           1,           1,           1,           1,           1,           1,           1,           1,           1,           1,           1,\n",
       "                  1,           1,           1,           1,           1,           1,           1,           1,           1,           1,           1,           1,           1,           1,           1,           1,           1,           1,           1,           1,           1,           1,           1,\n",
       "                  1,           1,           1,           1,           1,           1,           1,           1,           1,           1,           1,           1,           1,           1,           1,           1,           1,           1,           1,           1,           1,           1,           1,\n",
       "                  1,           1,           1,           1,           1,           1,           1,           1,           1,           1,           1,           1,           1,           1,           1,           1,           1,           1,           1,           1,           1,           1,           1,\n",
       "                  1,           1,           1,           1,           1,           1,           1,           1,           1,           1,           1]]), 'Confidence', 'Precision'], [array([          0,    0.001001,    0.002002,    0.003003,    0.004004,    0.005005,    0.006006,    0.007007,    0.008008,    0.009009,     0.01001,    0.011011,    0.012012,    0.013013,    0.014014,    0.015015,    0.016016,    0.017017,    0.018018,    0.019019,     0.02002,    0.021021,    0.022022,    0.023023,\n",
       "          0.024024,    0.025025,    0.026026,    0.027027,    0.028028,    0.029029,     0.03003,    0.031031,    0.032032,    0.033033,    0.034034,    0.035035,    0.036036,    0.037037,    0.038038,    0.039039,     0.04004,    0.041041,    0.042042,    0.043043,    0.044044,    0.045045,    0.046046,    0.047047,\n",
       "          0.048048,    0.049049,     0.05005,    0.051051,    0.052052,    0.053053,    0.054054,    0.055055,    0.056056,    0.057057,    0.058058,    0.059059,     0.06006,    0.061061,    0.062062,    0.063063,    0.064064,    0.065065,    0.066066,    0.067067,    0.068068,    0.069069,     0.07007,    0.071071,\n",
       "          0.072072,    0.073073,    0.074074,    0.075075,    0.076076,    0.077077,    0.078078,    0.079079,     0.08008,    0.081081,    0.082082,    0.083083,    0.084084,    0.085085,    0.086086,    0.087087,    0.088088,    0.089089,     0.09009,    0.091091,    0.092092,    0.093093,    0.094094,    0.095095,\n",
       "          0.096096,    0.097097,    0.098098,    0.099099,      0.1001,      0.1011,      0.1021,      0.1031,      0.1041,     0.10511,     0.10611,     0.10711,     0.10811,     0.10911,     0.11011,     0.11111,     0.11211,     0.11311,     0.11411,     0.11512,     0.11612,     0.11712,     0.11812,     0.11912,\n",
       "           0.12012,     0.12112,     0.12212,     0.12312,     0.12412,     0.12513,     0.12613,     0.12713,     0.12813,     0.12913,     0.13013,     0.13113,     0.13213,     0.13313,     0.13413,     0.13514,     0.13614,     0.13714,     0.13814,     0.13914,     0.14014,     0.14114,     0.14214,     0.14314,\n",
       "           0.14414,     0.14515,     0.14615,     0.14715,     0.14815,     0.14915,     0.15015,     0.15115,     0.15215,     0.15315,     0.15415,     0.15516,     0.15616,     0.15716,     0.15816,     0.15916,     0.16016,     0.16116,     0.16216,     0.16316,     0.16416,     0.16517,     0.16617,     0.16717,\n",
       "           0.16817,     0.16917,     0.17017,     0.17117,     0.17217,     0.17317,     0.17417,     0.17518,     0.17618,     0.17718,     0.17818,     0.17918,     0.18018,     0.18118,     0.18218,     0.18318,     0.18418,     0.18519,     0.18619,     0.18719,     0.18819,     0.18919,     0.19019,     0.19119,\n",
       "           0.19219,     0.19319,     0.19419,      0.1952,      0.1962,      0.1972,      0.1982,      0.1992,      0.2002,      0.2012,      0.2022,      0.2032,      0.2042,     0.20521,     0.20621,     0.20721,     0.20821,     0.20921,     0.21021,     0.21121,     0.21221,     0.21321,     0.21421,     0.21522,\n",
       "           0.21622,     0.21722,     0.21822,     0.21922,     0.22022,     0.22122,     0.22222,     0.22322,     0.22422,     0.22523,     0.22623,     0.22723,     0.22823,     0.22923,     0.23023,     0.23123,     0.23223,     0.23323,     0.23423,     0.23524,     0.23624,     0.23724,     0.23824,     0.23924,\n",
       "           0.24024,     0.24124,     0.24224,     0.24324,     0.24424,     0.24525,     0.24625,     0.24725,     0.24825,     0.24925,     0.25025,     0.25125,     0.25225,     0.25325,     0.25425,     0.25526,     0.25626,     0.25726,     0.25826,     0.25926,     0.26026,     0.26126,     0.26226,     0.26326,\n",
       "           0.26426,     0.26527,     0.26627,     0.26727,     0.26827,     0.26927,     0.27027,     0.27127,     0.27227,     0.27327,     0.27427,     0.27528,     0.27628,     0.27728,     0.27828,     0.27928,     0.28028,     0.28128,     0.28228,     0.28328,     0.28428,     0.28529,     0.28629,     0.28729,\n",
       "           0.28829,     0.28929,     0.29029,     0.29129,     0.29229,     0.29329,     0.29429,      0.2953,      0.2963,      0.2973,      0.2983,      0.2993,      0.3003,      0.3013,      0.3023,      0.3033,      0.3043,     0.30531,     0.30631,     0.30731,     0.30831,     0.30931,     0.31031,     0.31131,\n",
       "           0.31231,     0.31331,     0.31431,     0.31532,     0.31632,     0.31732,     0.31832,     0.31932,     0.32032,     0.32132,     0.32232,     0.32332,     0.32432,     0.32533,     0.32633,     0.32733,     0.32833,     0.32933,     0.33033,     0.33133,     0.33233,     0.33333,     0.33433,     0.33534,\n",
       "           0.33634,     0.33734,     0.33834,     0.33934,     0.34034,     0.34134,     0.34234,     0.34334,     0.34434,     0.34535,     0.34635,     0.34735,     0.34835,     0.34935,     0.35035,     0.35135,     0.35235,     0.35335,     0.35435,     0.35536,     0.35636,     0.35736,     0.35836,     0.35936,\n",
       "           0.36036,     0.36136,     0.36236,     0.36336,     0.36436,     0.36537,     0.36637,     0.36737,     0.36837,     0.36937,     0.37037,     0.37137,     0.37237,     0.37337,     0.37437,     0.37538,     0.37638,     0.37738,     0.37838,     0.37938,     0.38038,     0.38138,     0.38238,     0.38338,\n",
       "           0.38438,     0.38539,     0.38639,     0.38739,     0.38839,     0.38939,     0.39039,     0.39139,     0.39239,     0.39339,     0.39439,      0.3954,      0.3964,      0.3974,      0.3984,      0.3994,      0.4004,      0.4014,      0.4024,      0.4034,      0.4044,     0.40541,     0.40641,     0.40741,\n",
       "           0.40841,     0.40941,     0.41041,     0.41141,     0.41241,     0.41341,     0.41441,     0.41542,     0.41642,     0.41742,     0.41842,     0.41942,     0.42042,     0.42142,     0.42242,     0.42342,     0.42442,     0.42543,     0.42643,     0.42743,     0.42843,     0.42943,     0.43043,     0.43143,\n",
       "           0.43243,     0.43343,     0.43443,     0.43544,     0.43644,     0.43744,     0.43844,     0.43944,     0.44044,     0.44144,     0.44244,     0.44344,     0.44444,     0.44545,     0.44645,     0.44745,     0.44845,     0.44945,     0.45045,     0.45145,     0.45245,     0.45345,     0.45445,     0.45546,\n",
       "           0.45646,     0.45746,     0.45846,     0.45946,     0.46046,     0.46146,     0.46246,     0.46346,     0.46446,     0.46547,     0.46647,     0.46747,     0.46847,     0.46947,     0.47047,     0.47147,     0.47247,     0.47347,     0.47447,     0.47548,     0.47648,     0.47748,     0.47848,     0.47948,\n",
       "           0.48048,     0.48148,     0.48248,     0.48348,     0.48448,     0.48549,     0.48649,     0.48749,     0.48849,     0.48949,     0.49049,     0.49149,     0.49249,     0.49349,     0.49449,      0.4955,      0.4965,      0.4975,      0.4985,      0.4995,      0.5005,      0.5015,      0.5025,      0.5035,\n",
       "            0.5045,     0.50551,     0.50651,     0.50751,     0.50851,     0.50951,     0.51051,     0.51151,     0.51251,     0.51351,     0.51451,     0.51552,     0.51652,     0.51752,     0.51852,     0.51952,     0.52052,     0.52152,     0.52252,     0.52352,     0.52452,     0.52553,     0.52653,     0.52753,\n",
       "           0.52853,     0.52953,     0.53053,     0.53153,     0.53253,     0.53353,     0.53453,     0.53554,     0.53654,     0.53754,     0.53854,     0.53954,     0.54054,     0.54154,     0.54254,     0.54354,     0.54454,     0.54555,     0.54655,     0.54755,     0.54855,     0.54955,     0.55055,     0.55155,\n",
       "           0.55255,     0.55355,     0.55455,     0.55556,     0.55656,     0.55756,     0.55856,     0.55956,     0.56056,     0.56156,     0.56256,     0.56356,     0.56456,     0.56557,     0.56657,     0.56757,     0.56857,     0.56957,     0.57057,     0.57157,     0.57257,     0.57357,     0.57457,     0.57558,\n",
       "           0.57658,     0.57758,     0.57858,     0.57958,     0.58058,     0.58158,     0.58258,     0.58358,     0.58458,     0.58559,     0.58659,     0.58759,     0.58859,     0.58959,     0.59059,     0.59159,     0.59259,     0.59359,     0.59459,      0.5956,      0.5966,      0.5976,      0.5986,      0.5996,\n",
       "            0.6006,      0.6016,      0.6026,      0.6036,      0.6046,     0.60561,     0.60661,     0.60761,     0.60861,     0.60961,     0.61061,     0.61161,     0.61261,     0.61361,     0.61461,     0.61562,     0.61662,     0.61762,     0.61862,     0.61962,     0.62062,     0.62162,     0.62262,     0.62362,\n",
       "           0.62462,     0.62563,     0.62663,     0.62763,     0.62863,     0.62963,     0.63063,     0.63163,     0.63263,     0.63363,     0.63463,     0.63564,     0.63664,     0.63764,     0.63864,     0.63964,     0.64064,     0.64164,     0.64264,     0.64364,     0.64464,     0.64565,     0.64665,     0.64765,\n",
       "           0.64865,     0.64965,     0.65065,     0.65165,     0.65265,     0.65365,     0.65465,     0.65566,     0.65666,     0.65766,     0.65866,     0.65966,     0.66066,     0.66166,     0.66266,     0.66366,     0.66466,     0.66567,     0.66667,     0.66767,     0.66867,     0.66967,     0.67067,     0.67167,\n",
       "           0.67267,     0.67367,     0.67467,     0.67568,     0.67668,     0.67768,     0.67868,     0.67968,     0.68068,     0.68168,     0.68268,     0.68368,     0.68468,     0.68569,     0.68669,     0.68769,     0.68869,     0.68969,     0.69069,     0.69169,     0.69269,     0.69369,     0.69469,      0.6957,\n",
       "            0.6967,      0.6977,      0.6987,      0.6997,      0.7007,      0.7017,      0.7027,      0.7037,      0.7047,     0.70571,     0.70671,     0.70771,     0.70871,     0.70971,     0.71071,     0.71171,     0.71271,     0.71371,     0.71471,     0.71572,     0.71672,     0.71772,     0.71872,     0.71972,\n",
       "           0.72072,     0.72172,     0.72272,     0.72372,     0.72472,     0.72573,     0.72673,     0.72773,     0.72873,     0.72973,     0.73073,     0.73173,     0.73273,     0.73373,     0.73473,     0.73574,     0.73674,     0.73774,     0.73874,     0.73974,     0.74074,     0.74174,     0.74274,     0.74374,\n",
       "           0.74474,     0.74575,     0.74675,     0.74775,     0.74875,     0.74975,     0.75075,     0.75175,     0.75275,     0.75375,     0.75475,     0.75576,     0.75676,     0.75776,     0.75876,     0.75976,     0.76076,     0.76176,     0.76276,     0.76376,     0.76476,     0.76577,     0.76677,     0.76777,\n",
       "           0.76877,     0.76977,     0.77077,     0.77177,     0.77277,     0.77377,     0.77477,     0.77578,     0.77678,     0.77778,     0.77878,     0.77978,     0.78078,     0.78178,     0.78278,     0.78378,     0.78478,     0.78579,     0.78679,     0.78779,     0.78879,     0.78979,     0.79079,     0.79179,\n",
       "           0.79279,     0.79379,     0.79479,      0.7958,      0.7968,      0.7978,      0.7988,      0.7998,      0.8008,      0.8018,      0.8028,      0.8038,      0.8048,     0.80581,     0.80681,     0.80781,     0.80881,     0.80981,     0.81081,     0.81181,     0.81281,     0.81381,     0.81481,     0.81582,\n",
       "           0.81682,     0.81782,     0.81882,     0.81982,     0.82082,     0.82182,     0.82282,     0.82382,     0.82482,     0.82583,     0.82683,     0.82783,     0.82883,     0.82983,     0.83083,     0.83183,     0.83283,     0.83383,     0.83483,     0.83584,     0.83684,     0.83784,     0.83884,     0.83984,\n",
       "           0.84084,     0.84184,     0.84284,     0.84384,     0.84484,     0.84585,     0.84685,     0.84785,     0.84885,     0.84985,     0.85085,     0.85185,     0.85285,     0.85385,     0.85485,     0.85586,     0.85686,     0.85786,     0.85886,     0.85986,     0.86086,     0.86186,     0.86286,     0.86386,\n",
       "           0.86486,     0.86587,     0.86687,     0.86787,     0.86887,     0.86987,     0.87087,     0.87187,     0.87287,     0.87387,     0.87487,     0.87588,     0.87688,     0.87788,     0.87888,     0.87988,     0.88088,     0.88188,     0.88288,     0.88388,     0.88488,     0.88589,     0.88689,     0.88789,\n",
       "           0.88889,     0.88989,     0.89089,     0.89189,     0.89289,     0.89389,     0.89489,      0.8959,      0.8969,      0.8979,      0.8989,      0.8999,      0.9009,      0.9019,      0.9029,      0.9039,      0.9049,     0.90591,     0.90691,     0.90791,     0.90891,     0.90991,     0.91091,     0.91191,\n",
       "           0.91291,     0.91391,     0.91491,     0.91592,     0.91692,     0.91792,     0.91892,     0.91992,     0.92092,     0.92192,     0.92292,     0.92392,     0.92492,     0.92593,     0.92693,     0.92793,     0.92893,     0.92993,     0.93093,     0.93193,     0.93293,     0.93393,     0.93493,     0.93594,\n",
       "           0.93694,     0.93794,     0.93894,     0.93994,     0.94094,     0.94194,     0.94294,     0.94394,     0.94494,     0.94595,     0.94695,     0.94795,     0.94895,     0.94995,     0.95095,     0.95195,     0.95295,     0.95395,     0.95495,     0.95596,     0.95696,     0.95796,     0.95896,     0.95996,\n",
       "           0.96096,     0.96196,     0.96296,     0.96396,     0.96496,     0.96597,     0.96697,     0.96797,     0.96897,     0.96997,     0.97097,     0.97197,     0.97297,     0.97397,     0.97497,     0.97598,     0.97698,     0.97798,     0.97898,     0.97998,     0.98098,     0.98198,     0.98298,     0.98398,\n",
       "           0.98498,     0.98599,     0.98699,     0.98799,     0.98899,     0.98999,     0.99099,     0.99199,     0.99299,     0.99399,     0.99499,       0.996,       0.997,       0.998,       0.999,           1]), array([[     0.9871,      0.9871,      0.9871,     0.98065,     0.98065,     0.98065,     0.97419,     0.97419,     0.97419,     0.97419,     0.97419,     0.97419,     0.97419,     0.97419,     0.97419,     0.97419,     0.97419,     0.97419,     0.97419,     0.97419,     0.97419,     0.97419,     0.97419,\n",
       "            0.96827,     0.96774,     0.96774,     0.96774,     0.96774,     0.96774,     0.96774,     0.96774,     0.96774,     0.96774,     0.96774,     0.96774,     0.96774,     0.96774,     0.96774,     0.96774,     0.96774,     0.96774,     0.96774,     0.96774,     0.96774,     0.96774,     0.96774,\n",
       "            0.96774,     0.96774,     0.96774,     0.96774,     0.96774,     0.96774,     0.96774,     0.96774,     0.96774,     0.96774,     0.96774,     0.96774,     0.96774,     0.96774,     0.96774,     0.96774,     0.96774,     0.96774,     0.96774,     0.96774,     0.96774,     0.96774,     0.96774,\n",
       "            0.96774,     0.96774,     0.96774,     0.96774,     0.96774,     0.96774,     0.96774,     0.96774,     0.96774,     0.96774,     0.96774,     0.96774,     0.96774,     0.96774,     0.96774,     0.96774,     0.96774,     0.96774,     0.96774,     0.96774,     0.96774,     0.96774,     0.96774,\n",
       "            0.96774,     0.96774,     0.96774,     0.96774,     0.96774,     0.96774,     0.96774,     0.96774,     0.96774,     0.96774,     0.96774,     0.96774,     0.96774,     0.96774,     0.96774,     0.96774,     0.96774,     0.96774,     0.96774,     0.96774,     0.96774,     0.96774,     0.96774,\n",
       "            0.96774,     0.96774,     0.96774,     0.96774,     0.96774,     0.96774,     0.96774,     0.96774,     0.96774,     0.96774,     0.96774,     0.96774,     0.96774,     0.96774,     0.96774,     0.96774,     0.96774,     0.96774,     0.96774,     0.96774,     0.96774,     0.96774,     0.96774,\n",
       "            0.96774,     0.96774,     0.96774,     0.96774,     0.96774,     0.96774,     0.96774,     0.96774,     0.96774,     0.96774,     0.96774,     0.96774,     0.96774,     0.96774,     0.96774,     0.96774,     0.96774,     0.96774,     0.96774,     0.96774,     0.96774,     0.96774,     0.96774,\n",
       "            0.96774,     0.96774,     0.96774,     0.96774,     0.96774,     0.96774,     0.96774,     0.96774,     0.96774,     0.96774,     0.96774,     0.96774,     0.96774,     0.96774,     0.96774,     0.96774,     0.96774,     0.96774,     0.96774,     0.96774,     0.96774,     0.96774,     0.96774,\n",
       "            0.96774,      0.9677,     0.96762,     0.96753,     0.96745,     0.96737,     0.96728,      0.9672,     0.96711,     0.96703,     0.96694,     0.96686,     0.96677,     0.96669,      0.9666,     0.96652,     0.96644,     0.96635,     0.96627,     0.96618,      0.9661,     0.96601,     0.96593,\n",
       "            0.96584,     0.96576,     0.96567,     0.96559,     0.96551,     0.96542,     0.96534,     0.96525,     0.96517,     0.96508,       0.965,     0.96491,     0.96483,     0.96475,     0.96466,     0.96458,     0.96449,     0.96441,     0.96432,     0.96424,     0.96415,     0.96407,     0.96398,\n",
       "             0.9639,     0.96382,     0.96373,     0.96365,     0.96356,     0.96348,     0.96339,     0.96331,     0.96322,     0.96314,     0.96306,     0.96297,     0.96289,      0.9628,     0.96272,     0.96263,     0.96255,     0.96246,     0.96238,     0.96229,     0.96221,     0.96213,     0.96204,\n",
       "            0.96196,     0.96187,     0.96179,      0.9617,     0.96162,     0.96153,     0.96145,     0.96136,     0.96006,     0.95465,     0.95426,     0.95387,     0.95348,     0.95309,      0.9527,     0.95231,     0.95192,     0.95153,     0.95114,     0.95075,     0.95036,     0.94997,     0.94958,\n",
       "            0.94919,      0.9488,     0.94841,     0.94839,     0.94839,     0.94839,     0.94839,     0.94839,     0.94839,     0.94839,     0.94839,     0.94839,     0.94839,     0.94839,     0.94839,     0.94839,     0.94839,     0.94839,     0.94839,     0.94839,     0.94839,     0.94839,     0.94839,\n",
       "            0.94839,     0.94839,     0.94839,     0.94839,     0.94839,     0.94839,     0.94839,     0.94839,     0.94839,     0.94839,     0.94839,     0.94839,     0.94839,     0.94839,     0.94839,     0.94839,     0.94839,     0.94839,     0.94839,     0.94839,     0.94839,     0.94839,     0.94839,\n",
       "            0.94839,     0.94839,     0.94839,     0.94839,     0.94839,     0.94839,     0.94839,     0.94839,     0.94839,     0.94839,     0.94839,     0.94839,     0.94839,     0.94839,     0.94839,     0.94839,     0.94839,     0.94839,     0.94839,     0.94839,     0.94839,     0.94839,     0.94839,\n",
       "            0.94839,     0.94839,     0.94839,     0.94839,     0.94839,     0.94839,     0.94839,     0.94839,     0.94839,     0.94839,     0.94839,     0.94839,     0.94839,     0.94839,     0.94839,     0.94839,     0.94839,     0.94839,     0.94839,     0.94839,     0.94839,     0.94839,     0.94839,\n",
       "            0.94839,     0.94839,     0.94839,     0.94839,     0.94839,     0.94839,     0.94839,     0.94839,     0.94839,     0.94839,     0.94839,     0.94839,     0.94839,     0.94839,     0.94839,     0.94839,     0.94839,      0.9474,     0.94616,     0.94493,      0.9437,     0.94246,     0.94194,\n",
       "            0.94194,     0.94194,     0.94194,     0.94194,     0.94194,     0.94194,     0.94194,     0.94194,     0.94194,     0.94194,     0.94194,     0.94194,     0.94194,     0.94194,     0.94194,     0.94194,     0.94194,     0.94194,     0.94194,     0.94194,     0.94194,     0.94194,     0.94194,\n",
       "            0.94194,     0.94194,     0.94194,     0.94194,     0.94194,     0.94194,     0.94194,     0.94191,     0.94167,     0.94142,     0.94117,     0.94093,     0.94068,     0.94043,     0.94018,     0.93994,     0.93969,     0.93944,      0.9392,     0.93895,      0.9387,     0.93846,     0.93821,\n",
       "            0.93796,     0.93772,     0.93747,     0.93722,     0.93698,     0.93673,     0.93648,     0.93624,     0.93599,     0.93574,      0.9355,     0.93548,     0.93548,     0.93548,     0.93548,     0.93548,     0.93548,     0.93548,     0.93548,     0.93548,     0.93548,     0.93548,     0.93548,\n",
       "            0.93548,     0.93548,     0.93548,     0.93548,     0.93548,     0.93548,     0.93548,     0.93548,     0.93548,     0.93548,     0.93548,     0.93548,     0.93548,     0.93548,     0.93548,     0.93548,     0.93548,     0.93548,     0.93548,     0.93548,     0.93548,     0.93548,     0.93548,\n",
       "            0.93548,     0.93548,     0.93548,     0.93548,     0.93548,     0.93548,     0.93548,     0.93548,     0.93548,     0.93548,     0.93548,     0.93548,     0.93548,     0.93548,     0.93548,     0.93548,     0.93548,     0.93548,     0.93548,     0.93548,     0.93548,     0.93548,     0.93548,\n",
       "            0.93548,     0.93548,     0.93548,     0.93548,     0.93548,     0.93548,     0.93548,     0.93548,     0.93548,     0.93548,     0.93548,     0.93548,     0.93548,     0.93548,     0.93548,     0.93548,     0.93548,     0.93548,     0.93548,     0.93548,     0.93548,     0.93548,     0.93548,\n",
       "            0.93548,     0.93548,     0.93548,     0.93548,     0.93548,     0.93548,     0.93548,     0.93548,     0.93548,     0.93548,     0.93548,     0.93548,     0.93548,     0.93548,     0.93548,     0.93548,     0.93548,     0.93548,     0.93548,     0.93548,     0.93548,     0.93548,     0.93548,\n",
       "            0.93548,     0.93548,     0.93548,     0.93548,     0.93548,     0.93548,     0.93548,     0.93548,     0.93548,     0.93548,     0.93548,     0.93548,     0.93548,     0.93548,     0.93548,     0.93548,     0.93548,     0.93548,     0.93548,     0.93548,     0.93548,     0.93548,     0.93548,\n",
       "            0.93548,     0.93548,     0.93548,     0.93548,     0.93548,     0.93548,     0.93548,     0.93548,     0.93548,     0.93548,     0.93548,     0.93548,     0.93548,     0.93548,     0.93548,     0.93548,     0.93548,     0.93548,     0.93548,     0.93548,     0.93548,     0.93548,     0.93548,\n",
       "            0.93548,     0.93535,     0.93521,     0.93506,     0.93491,     0.93476,     0.93461,     0.93446,     0.93431,     0.93416,     0.93401,     0.93386,     0.93371,     0.93356,     0.93342,     0.93327,     0.93312,     0.93297,     0.93282,     0.93267,     0.93252,     0.93237,     0.93222,\n",
       "            0.93207,     0.93192,     0.93177,     0.93163,     0.93148,     0.93133,     0.93118,     0.93103,     0.93088,     0.93073,     0.93058,     0.93043,     0.93028,     0.93013,     0.92998,     0.92984,     0.92969,     0.92954,     0.92939,     0.92924,     0.92909,     0.92241,     0.92198,\n",
       "            0.92155,     0.92113,      0.9207,     0.92027,     0.91984,     0.91941,     0.91898,     0.91855,     0.91812,      0.9177,     0.91727,     0.91684,     0.91641,     0.91599,     0.91559,     0.91519,     0.91479,     0.91439,     0.91399,     0.91358,     0.91318,     0.91278,     0.91238,\n",
       "            0.91198,     0.91158,     0.91118,     0.91078,     0.91038,     0.90998,     0.90875,     0.90514,     0.90274,      0.9017,     0.90066,     0.89962,     0.89858,     0.89754,     0.89671,     0.89645,     0.89619,     0.89592,     0.89566,      0.8954,     0.89514,     0.89488,     0.89462,\n",
       "            0.89436,      0.8941,     0.89384,     0.89358,     0.89332,     0.89306,      0.8928,     0.89254,     0.89228,     0.89202,     0.89176,      0.8915,     0.89124,     0.89098,     0.89072,     0.89046,     0.88694,      0.8837,      0.8834,      0.8831,     0.88279,     0.88249,     0.88219,\n",
       "            0.88189,     0.88159,     0.88128,     0.88098,     0.88068,     0.88038,     0.88008,     0.87977,     0.87947,     0.87917,     0.87887,     0.87857,     0.87826,     0.87796,     0.87766,     0.87732,     0.87684,     0.87636,     0.87588,      0.8754,     0.87492,     0.87444,     0.87396,\n",
       "            0.87348,     0.87299,     0.87251,     0.87203,     0.87155,     0.87107,     0.87059,     0.87011,     0.86962,     0.86914,     0.86866,     0.86818,     0.86769,     0.86721,     0.86673,     0.86625,     0.86576,     0.86528,      0.8648,     0.86438,     0.86407,     0.86375,     0.86343,\n",
       "            0.86311,     0.86279,     0.86247,     0.86216,     0.86184,     0.86152,      0.8612,     0.86088,     0.86056,     0.86024,     0.85993,     0.85961,     0.85929,     0.85897,     0.85865,     0.85833,     0.85764,     0.85491,     0.85218,     0.84874,     0.84516,     0.84516,     0.84516,\n",
       "            0.84516,     0.84516,     0.84516,     0.84516,     0.84516,     0.84516,     0.84493,     0.84316,      0.8414,     0.83964,     0.83839,     0.83771,     0.83703,     0.83635,     0.83567,     0.83499,     0.83431,     0.83363,     0.83295,     0.83227,     0.83145,     0.83063,     0.82981,\n",
       "            0.82899,     0.82817,     0.82734,     0.82652,     0.82524,     0.82085,     0.81906,      0.8186,     0.81815,      0.8177,     0.81724,     0.81679,     0.81633,     0.81588,     0.81543,     0.81497,     0.81452,     0.81407,     0.81361,     0.81316,     0.80818,     0.79218,      0.7824,\n",
       "            0.77163,     0.76769,     0.76567,     0.76366,     0.76164,     0.75302,      0.7365,     0.72461,     0.71961,     0.71437,     0.69604,     0.68828,     0.67724,     0.67523,     0.67323,     0.67123,     0.66814,     0.66488,     0.66065,       0.654,     0.64393,     0.64183,     0.63973,\n",
       "            0.63703,     0.63374,       0.626,     0.61707,     0.61084,     0.59568,      0.5908,     0.58768,     0.57282,     0.56841,     0.55214,     0.53647,     0.52766,     0.52526,     0.52286,     0.51548,      0.5079,     0.49358,     0.48101,     0.47168,     0.45506,      0.4388,     0.40633,\n",
       "            0.40481,      0.4033,     0.40179,     0.40028,     0.38645,     0.37634,     0.34658,     0.32203,     0.31364,     0.30086,     0.28852,     0.28436,     0.27784,     0.26072,     0.24098,     0.23256,     0.21286,     0.20496,     0.20291,     0.20086,     0.19622,     0.18974,     0.18382,\n",
       "            0.17946,     0.17668,     0.17149,     0.16575,     0.16341,     0.16069,     0.15422,     0.14911,     0.14285,     0.12479,     0.10754,     0.10365,      0.1011,    0.098711,    0.095926,    0.091415,    0.087673,    0.084178,    0.078111,    0.072258,    0.067017,    0.061775,    0.056681,\n",
       "           0.052256,    0.044507,    0.043048,     0.04159,    0.040131,    0.038627,    0.035455,    0.032282,    0.030918,    0.029567,    0.028216,    0.026866,    0.025358,    0.023283,    0.021207,    0.019284,    0.018621,    0.017959,    0.017297,    0.016634,    0.015972,     0.01531,    0.014647,\n",
       "           0.013985,    0.013323,    0.012596,    0.011756,    0.010917,    0.010078,   0.0092388,   0.0083996,   0.0075604,   0.0067211,           0,           0,           0,           0,           0,           0,           0,           0,           0,           0,           0,           0,           0,\n",
       "                  0,           0,           0,           0,           0,           0,           0,           0,           0,           0,           0,           0,           0,           0,           0,           0,           0,           0,           0,           0,           0,           0,           0,\n",
       "                  0,           0,           0,           0,           0,           0,           0,           0,           0,           0,           0]]), 'Confidence', 'Recall']]\n",
       "fitness: 0.7540486094400618\n",
       "keys: ['metrics/precision(B)', 'metrics/recall(B)', 'metrics/mAP50(B)', 'metrics/mAP50-95(B)']\n",
       "maps: array([    0.72932])\n",
       "names: {0: 'Ambulance'}\n",
       "plot: True\n",
       "results_dict: {'metrics/precision(B)': 0.9911433999543823, 'metrics/recall(B)': 0.9354838709677419, 'metrics/mAP50(B)': 0.9766241723512652, 'metrics/mAP50-95(B)': 0.729317991338817, 'fitness': 0.7540486094400618}\n",
       "save_dir: WindowsPath('runs/detect/train7')\n",
       "speed: {'preprocess': 4.44633595264741, 'inference': 144.1619431015349, 'loss': 0.0, 'postprocess': 0.5620169813615562}\n",
       "task: 'detect'"
      ]
     },
     "execution_count": 3,
     "metadata": {},
     "output_type": "execute_result"
    }
   ],
   "source": [
    "from ultralytics import YOLO\n",
    "\n",
    "# Loading the YOLOv8 model\n",
    "model = YOLO(\"yolov8n.pt\") \n",
    "\n",
    "# Training the model on your custom dataset\n",
    "model.train(\n",
    "    data=\"Ambulance-3/data.yaml\", \n",
    "    epochs=50,            \n",
    "    imgsz=640              \n",
    ")\n"
   ]
  },
  {
   "cell_type": "code",
   "execution_count": 1,
   "id": "bcb61792",
   "metadata": {},
   "outputs": [
    {
     "name": "stdout",
     "output_type": "stream",
     "text": [
      "\n",
      "\n",
      "WARNING  inference results will accumulate in RAM unless `stream=True` is passed, causing potential out-of-memory\n",
      "errors for large sources or long-running streams and videos. See https://docs.ultralytics.com/modes/predict/ for help.\n",
      "\n",
      "Example:\n",
      "    results = model(source=..., stream=True)  # generator of Results objects\n",
      "    for r in results:\n",
      "        boxes = r.boxes  # Boxes object for bbox outputs\n",
      "        masks = r.masks  # Masks object for segment masks outputs\n",
      "        probs = r.probs  # Class probabilities for classification outputs\n",
      "\n",
      "video 1/1 (frame 1/908) C:\\Users\\ragha\\Amblane.mp4: 640x640 1 Ambulance, 274.0ms\n",
      "video 1/1 (frame 2/908) C:\\Users\\ragha\\Amblane.mp4: 640x640 1 Ambulance, 181.5ms\n",
      "video 1/1 (frame 3/908) C:\\Users\\ragha\\Amblane.mp4: 640x640 1 Ambulance, 177.4ms\n",
      "video 1/1 (frame 4/908) C:\\Users\\ragha\\Amblane.mp4: 640x640 1 Ambulance, 207.1ms\n",
      "video 1/1 (frame 5/908) C:\\Users\\ragha\\Amblane.mp4: 640x640 1 Ambulance, 185.8ms\n",
      "video 1/1 (frame 6/908) C:\\Users\\ragha\\Amblane.mp4: 640x640 1 Ambulance, 185.2ms\n",
      "video 1/1 (frame 7/908) C:\\Users\\ragha\\Amblane.mp4: 640x640 1 Ambulance, 177.2ms\n",
      "video 1/1 (frame 8/908) C:\\Users\\ragha\\Amblane.mp4: 640x640 1 Ambulance, 172.7ms\n",
      "video 1/1 (frame 9/908) C:\\Users\\ragha\\Amblane.mp4: 640x640 1 Ambulance, 188.2ms\n",
      "video 1/1 (frame 10/908) C:\\Users\\ragha\\Amblane.mp4: 640x640 1 Ambulance, 188.8ms\n",
      "video 1/1 (frame 11/908) C:\\Users\\ragha\\Amblane.mp4: 640x640 1 Ambulance, 184.4ms\n",
      "video 1/1 (frame 12/908) C:\\Users\\ragha\\Amblane.mp4: 640x640 1 Ambulance, 180.5ms\n",
      "video 1/1 (frame 13/908) C:\\Users\\ragha\\Amblane.mp4: 640x640 1 Ambulance, 188.1ms\n",
      "video 1/1 (frame 14/908) C:\\Users\\ragha\\Amblane.mp4: 640x640 1 Ambulance, 186.2ms\n",
      "video 1/1 (frame 15/908) C:\\Users\\ragha\\Amblane.mp4: 640x640 1 Ambulance, 182.8ms\n",
      "video 1/1 (frame 16/908) C:\\Users\\ragha\\Amblane.mp4: 640x640 1 Ambulance, 185.5ms\n",
      "video 1/1 (frame 17/908) C:\\Users\\ragha\\Amblane.mp4: 640x640 1 Ambulance, 179.3ms\n",
      "video 1/1 (frame 18/908) C:\\Users\\ragha\\Amblane.mp4: 640x640 1 Ambulance, 182.7ms\n",
      "video 1/1 (frame 19/908) C:\\Users\\ragha\\Amblane.mp4: 640x640 1 Ambulance, 175.7ms\n",
      "video 1/1 (frame 20/908) C:\\Users\\ragha\\Amblane.mp4: 640x640 1 Ambulance, 181.7ms\n",
      "video 1/1 (frame 21/908) C:\\Users\\ragha\\Amblane.mp4: 640x640 1 Ambulance, 181.5ms\n",
      "video 1/1 (frame 22/908) C:\\Users\\ragha\\Amblane.mp4: 640x640 1 Ambulance, 176.3ms\n",
      "video 1/1 (frame 23/908) C:\\Users\\ragha\\Amblane.mp4: 640x640 1 Ambulance, 187.2ms\n",
      "video 1/1 (frame 24/908) C:\\Users\\ragha\\Amblane.mp4: 640x640 1 Ambulance, 178.8ms\n",
      "video 1/1 (frame 25/908) C:\\Users\\ragha\\Amblane.mp4: 640x640 1 Ambulance, 178.4ms\n",
      "video 1/1 (frame 26/908) C:\\Users\\ragha\\Amblane.mp4: 640x640 1 Ambulance, 176.2ms\n",
      "video 1/1 (frame 27/908) C:\\Users\\ragha\\Amblane.mp4: 640x640 1 Ambulance, 176.3ms\n",
      "video 1/1 (frame 28/908) C:\\Users\\ragha\\Amblane.mp4: 640x640 1 Ambulance, 182.7ms\n",
      "video 1/1 (frame 29/908) C:\\Users\\ragha\\Amblane.mp4: 640x640 1 Ambulance, 180.4ms\n",
      "video 1/1 (frame 30/908) C:\\Users\\ragha\\Amblane.mp4: 640x640 1 Ambulance, 178.5ms\n",
      "video 1/1 (frame 31/908) C:\\Users\\ragha\\Amblane.mp4: 640x640 1 Ambulance, 174.4ms\n",
      "video 1/1 (frame 32/908) C:\\Users\\ragha\\Amblane.mp4: 640x640 1 Ambulance, 176.5ms\n",
      "video 1/1 (frame 33/908) C:\\Users\\ragha\\Amblane.mp4: 640x640 1 Ambulance, 176.5ms\n",
      "video 1/1 (frame 34/908) C:\\Users\\ragha\\Amblane.mp4: 640x640 1 Ambulance, 172.1ms\n",
      "video 1/1 (frame 35/908) C:\\Users\\ragha\\Amblane.mp4: 640x640 1 Ambulance, 176.1ms\n",
      "video 1/1 (frame 36/908) C:\\Users\\ragha\\Amblane.mp4: 640x640 1 Ambulance, 177.6ms\n",
      "video 1/1 (frame 37/908) C:\\Users\\ragha\\Amblane.mp4: 640x640 1 Ambulance, 179.8ms\n",
      "video 1/1 (frame 38/908) C:\\Users\\ragha\\Amblane.mp4: 640x640 1 Ambulance, 176.9ms\n",
      "video 1/1 (frame 39/908) C:\\Users\\ragha\\Amblane.mp4: 640x640 (no detections), 174.1ms\n",
      "video 1/1 (frame 40/908) C:\\Users\\ragha\\Amblane.mp4: 640x640 1 Ambulance, 176.1ms\n",
      "video 1/1 (frame 41/908) C:\\Users\\ragha\\Amblane.mp4: 640x640 1 Ambulance, 175.6ms\n",
      "video 1/1 (frame 42/908) C:\\Users\\ragha\\Amblane.mp4: 640x640 1 Ambulance, 182.9ms\n",
      "video 1/1 (frame 43/908) C:\\Users\\ragha\\Amblane.mp4: 640x640 1 Ambulance, 175.1ms\n",
      "video 1/1 (frame 44/908) C:\\Users\\ragha\\Amblane.mp4: 640x640 1 Ambulance, 177.8ms\n",
      "video 1/1 (frame 45/908) C:\\Users\\ragha\\Amblane.mp4: 640x640 1 Ambulance, 177.1ms\n",
      "video 1/1 (frame 46/908) C:\\Users\\ragha\\Amblane.mp4: 640x640 1 Ambulance, 176.2ms\n",
      "video 1/1 (frame 47/908) C:\\Users\\ragha\\Amblane.mp4: 640x640 1 Ambulance, 179.6ms\n",
      "video 1/1 (frame 48/908) C:\\Users\\ragha\\Amblane.mp4: 640x640 1 Ambulance, 175.2ms\n",
      "video 1/1 (frame 49/908) C:\\Users\\ragha\\Amblane.mp4: 640x640 1 Ambulance, 178.4ms\n",
      "video 1/1 (frame 50/908) C:\\Users\\ragha\\Amblane.mp4: 640x640 1 Ambulance, 182.9ms\n",
      "video 1/1 (frame 51/908) C:\\Users\\ragha\\Amblane.mp4: 640x640 1 Ambulance, 172.2ms\n",
      "video 1/1 (frame 52/908) C:\\Users\\ragha\\Amblane.mp4: 640x640 1 Ambulance, 170.4ms\n",
      "video 1/1 (frame 53/908) C:\\Users\\ragha\\Amblane.mp4: 640x640 1 Ambulance, 170.1ms\n",
      "video 1/1 (frame 54/908) C:\\Users\\ragha\\Amblane.mp4: 640x640 1 Ambulance, 178.3ms\n",
      "video 1/1 (frame 55/908) C:\\Users\\ragha\\Amblane.mp4: 640x640 1 Ambulance, 178.2ms\n",
      "video 1/1 (frame 56/908) C:\\Users\\ragha\\Amblane.mp4: 640x640 1 Ambulance, 175.2ms\n",
      "video 1/1 (frame 57/908) C:\\Users\\ragha\\Amblane.mp4: 640x640 1 Ambulance, 174.5ms\n",
      "video 1/1 (frame 58/908) C:\\Users\\ragha\\Amblane.mp4: 640x640 1 Ambulance, 174.8ms\n",
      "video 1/1 (frame 59/908) C:\\Users\\ragha\\Amblane.mp4: 640x640 1 Ambulance, 179.2ms\n",
      "video 1/1 (frame 60/908) C:\\Users\\ragha\\Amblane.mp4: 640x640 1 Ambulance, 169.8ms\n",
      "video 1/1 (frame 61/908) C:\\Users\\ragha\\Amblane.mp4: 640x640 1 Ambulance, 172.1ms\n",
      "video 1/1 (frame 62/908) C:\\Users\\ragha\\Amblane.mp4: 640x640 1 Ambulance, 167.0ms\n",
      "video 1/1 (frame 63/908) C:\\Users\\ragha\\Amblane.mp4: 640x640 1 Ambulance, 170.8ms\n",
      "video 1/1 (frame 64/908) C:\\Users\\ragha\\Amblane.mp4: 640x640 1 Ambulance, 172.5ms\n",
      "video 1/1 (frame 65/908) C:\\Users\\ragha\\Amblane.mp4: 640x640 1 Ambulance, 177.1ms\n",
      "video 1/1 (frame 66/908) C:\\Users\\ragha\\Amblane.mp4: 640x640 1 Ambulance, 168.6ms\n",
      "video 1/1 (frame 67/908) C:\\Users\\ragha\\Amblane.mp4: 640x640 1 Ambulance, 164.4ms\n",
      "video 1/1 (frame 68/908) C:\\Users\\ragha\\Amblane.mp4: 640x640 1 Ambulance, 166.6ms\n",
      "video 1/1 (frame 69/908) C:\\Users\\ragha\\Amblane.mp4: 640x640 1 Ambulance, 175.5ms\n",
      "video 1/1 (frame 70/908) C:\\Users\\ragha\\Amblane.mp4: 640x640 1 Ambulance, 175.0ms\n",
      "video 1/1 (frame 71/908) C:\\Users\\ragha\\Amblane.mp4: 640x640 1 Ambulance, 176.3ms\n",
      "video 1/1 (frame 72/908) C:\\Users\\ragha\\Amblane.mp4: 640x640 1 Ambulance, 177.7ms\n",
      "video 1/1 (frame 73/908) C:\\Users\\ragha\\Amblane.mp4: 640x640 1 Ambulance, 177.2ms\n",
      "video 1/1 (frame 74/908) C:\\Users\\ragha\\Amblane.mp4: 640x640 1 Ambulance, 177.5ms\n",
      "video 1/1 (frame 75/908) C:\\Users\\ragha\\Amblane.mp4: 640x640 1 Ambulance, 181.1ms\n",
      "video 1/1 (frame 76/908) C:\\Users\\ragha\\Amblane.mp4: 640x640 1 Ambulance, 173.1ms\n",
      "video 1/1 (frame 77/908) C:\\Users\\ragha\\Amblane.mp4: 640x640 1 Ambulance, 176.1ms\n",
      "video 1/1 (frame 78/908) C:\\Users\\ragha\\Amblane.mp4: 640x640 1 Ambulance, 171.1ms\n",
      "video 1/1 (frame 79/908) C:\\Users\\ragha\\Amblane.mp4: 640x640 1 Ambulance, 172.0ms\n",
      "video 1/1 (frame 80/908) C:\\Users\\ragha\\Amblane.mp4: 640x640 1 Ambulance, 174.9ms\n",
      "video 1/1 (frame 81/908) C:\\Users\\ragha\\Amblane.mp4: 640x640 1 Ambulance, 170.4ms\n",
      "video 1/1 (frame 82/908) C:\\Users\\ragha\\Amblane.mp4: 640x640 1 Ambulance, 175.6ms\n",
      "video 1/1 (frame 83/908) C:\\Users\\ragha\\Amblane.mp4: 640x640 1 Ambulance, 174.6ms\n",
      "video 1/1 (frame 84/908) C:\\Users\\ragha\\Amblane.mp4: 640x640 1 Ambulance, 174.1ms\n",
      "video 1/1 (frame 85/908) C:\\Users\\ragha\\Amblane.mp4: 640x640 1 Ambulance, 180.3ms\n",
      "video 1/1 (frame 86/908) C:\\Users\\ragha\\Amblane.mp4: 640x640 1 Ambulance, 174.4ms\n",
      "video 1/1 (frame 87/908) C:\\Users\\ragha\\Amblane.mp4: 640x640 1 Ambulance, 173.1ms\n",
      "video 1/1 (frame 88/908) C:\\Users\\ragha\\Amblane.mp4: 640x640 1 Ambulance, 181.6ms\n",
      "video 1/1 (frame 89/908) C:\\Users\\ragha\\Amblane.mp4: 640x640 1 Ambulance, 180.1ms\n",
      "video 1/1 (frame 90/908) C:\\Users\\ragha\\Amblane.mp4: 640x640 1 Ambulance, 181.1ms\n",
      "video 1/1 (frame 91/908) C:\\Users\\ragha\\Amblane.mp4: 640x640 1 Ambulance, 174.5ms\n",
      "video 1/1 (frame 92/908) C:\\Users\\ragha\\Amblane.mp4: 640x640 1 Ambulance, 175.6ms\n",
      "video 1/1 (frame 93/908) C:\\Users\\ragha\\Amblane.mp4: 640x640 1 Ambulance, 175.1ms\n",
      "video 1/1 (frame 94/908) C:\\Users\\ragha\\Amblane.mp4: 640x640 1 Ambulance, 179.1ms\n"
     ]
    },
    {
     "name": "stdout",
     "output_type": "stream",
     "text": [
      "video 1/1 (frame 95/908) C:\\Users\\ragha\\Amblane.mp4: 640x640 1 Ambulance, 172.7ms\n",
      "video 1/1 (frame 96/908) C:\\Users\\ragha\\Amblane.mp4: 640x640 1 Ambulance, 174.1ms\n",
      "video 1/1 (frame 97/908) C:\\Users\\ragha\\Amblane.mp4: 640x640 1 Ambulance, 171.1ms\n",
      "video 1/1 (frame 98/908) C:\\Users\\ragha\\Amblane.mp4: 640x640 1 Ambulance, 173.1ms\n",
      "video 1/1 (frame 99/908) C:\\Users\\ragha\\Amblane.mp4: 640x640 1 Ambulance, 172.4ms\n",
      "video 1/1 (frame 100/908) C:\\Users\\ragha\\Amblane.mp4: 640x640 1 Ambulance, 176.2ms\n",
      "video 1/1 (frame 101/908) C:\\Users\\ragha\\Amblane.mp4: 640x640 1 Ambulance, 175.1ms\n",
      "video 1/1 (frame 102/908) C:\\Users\\ragha\\Amblane.mp4: 640x640 1 Ambulance, 172.1ms\n",
      "video 1/1 (frame 103/908) C:\\Users\\ragha\\Amblane.mp4: 640x640 1 Ambulance, 175.6ms\n",
      "video 1/1 (frame 104/908) C:\\Users\\ragha\\Amblane.mp4: 640x640 1 Ambulance, 176.5ms\n",
      "video 1/1 (frame 105/908) C:\\Users\\ragha\\Amblane.mp4: 640x640 1 Ambulance, 172.5ms\n",
      "video 1/1 (frame 106/908) C:\\Users\\ragha\\Amblane.mp4: 640x640 1 Ambulance, 172.5ms\n",
      "video 1/1 (frame 107/908) C:\\Users\\ragha\\Amblane.mp4: 640x640 1 Ambulance, 173.1ms\n",
      "video 1/1 (frame 108/908) C:\\Users\\ragha\\Amblane.mp4: 640x640 1 Ambulance, 174.5ms\n",
      "video 1/1 (frame 109/908) C:\\Users\\ragha\\Amblane.mp4: 640x640 1 Ambulance, 174.1ms\n",
      "video 1/1 (frame 110/908) C:\\Users\\ragha\\Amblane.mp4: 640x640 1 Ambulance, 170.1ms\n",
      "video 1/1 (frame 111/908) C:\\Users\\ragha\\Amblane.mp4: 640x640 1 Ambulance, 171.1ms\n",
      "video 1/1 (frame 112/908) C:\\Users\\ragha\\Amblane.mp4: 640x640 1 Ambulance, 169.4ms\n",
      "video 1/1 (frame 113/908) C:\\Users\\ragha\\Amblane.mp4: 640x640 1 Ambulance, 182.1ms\n",
      "video 1/1 (frame 114/908) C:\\Users\\ragha\\Amblane.mp4: 640x640 1 Ambulance, 183.1ms\n",
      "video 1/1 (frame 115/908) C:\\Users\\ragha\\Amblane.mp4: 640x640 1 Ambulance, 175.1ms\n",
      "video 1/1 (frame 116/908) C:\\Users\\ragha\\Amblane.mp4: 640x640 1 Ambulance, 175.1ms\n",
      "video 1/1 (frame 117/908) C:\\Users\\ragha\\Amblane.mp4: 640x640 1 Ambulance, 174.5ms\n",
      "video 1/1 (frame 118/908) C:\\Users\\ragha\\Amblane.mp4: 640x640 1 Ambulance, 175.6ms\n",
      "video 1/1 (frame 119/908) C:\\Users\\ragha\\Amblane.mp4: 640x640 1 Ambulance, 174.6ms\n",
      "video 1/1 (frame 120/908) C:\\Users\\ragha\\Amblane.mp4: 640x640 1 Ambulance, 173.2ms\n",
      "video 1/1 (frame 121/908) C:\\Users\\ragha\\Amblane.mp4: 640x640 1 Ambulance, 171.1ms\n",
      "video 1/1 (frame 122/908) C:\\Users\\ragha\\Amblane.mp4: 640x640 1 Ambulance, 180.8ms\n",
      "video 1/1 (frame 123/908) C:\\Users\\ragha\\Amblane.mp4: 640x640 1 Ambulance, 179.1ms\n",
      "video 1/1 (frame 124/908) C:\\Users\\ragha\\Amblane.mp4: 640x640 1 Ambulance, 174.8ms\n",
      "video 1/1 (frame 125/908) C:\\Users\\ragha\\Amblane.mp4: 640x640 1 Ambulance, 176.1ms\n",
      "video 1/1 (frame 126/908) C:\\Users\\ragha\\Amblane.mp4: 640x640 1 Ambulance, 176.2ms\n",
      "video 1/1 (frame 127/908) C:\\Users\\ragha\\Amblane.mp4: 640x640 1 Ambulance, 163.8ms\n",
      "video 1/1 (frame 128/908) C:\\Users\\ragha\\Amblane.mp4: 640x640 1 Ambulance, 166.5ms\n",
      "video 1/1 (frame 129/908) C:\\Users\\ragha\\Amblane.mp4: 640x640 1 Ambulance, 169.1ms\n",
      "video 1/1 (frame 130/908) C:\\Users\\ragha\\Amblane.mp4: 640x640 1 Ambulance, 161.6ms\n",
      "video 1/1 (frame 131/908) C:\\Users\\ragha\\Amblane.mp4: 640x640 1 Ambulance, 163.0ms\n",
      "video 1/1 (frame 132/908) C:\\Users\\ragha\\Amblane.mp4: 640x640 1 Ambulance, 164.0ms\n",
      "video 1/1 (frame 133/908) C:\\Users\\ragha\\Amblane.mp4: 640x640 1 Ambulance, 168.6ms\n",
      "video 1/1 (frame 134/908) C:\\Users\\ragha\\Amblane.mp4: 640x640 1 Ambulance, 163.8ms\n",
      "video 1/1 (frame 135/908) C:\\Users\\ragha\\Amblane.mp4: 640x640 1 Ambulance, 165.4ms\n",
      "video 1/1 (frame 136/908) C:\\Users\\ragha\\Amblane.mp4: 640x640 1 Ambulance, 167.0ms\n",
      "video 1/1 (frame 137/908) C:\\Users\\ragha\\Amblane.mp4: 640x640 1 Ambulance, 170.0ms\n",
      "video 1/1 (frame 138/908) C:\\Users\\ragha\\Amblane.mp4: 640x640 1 Ambulance, 176.6ms\n",
      "video 1/1 (frame 139/908) C:\\Users\\ragha\\Amblane.mp4: 640x640 1 Ambulance, 170.6ms\n",
      "video 1/1 (frame 140/908) C:\\Users\\ragha\\Amblane.mp4: 640x640 1 Ambulance, 160.9ms\n",
      "video 1/1 (frame 141/908) C:\\Users\\ragha\\Amblane.mp4: 640x640 1 Ambulance, 166.5ms\n",
      "video 1/1 (frame 142/908) C:\\Users\\ragha\\Amblane.mp4: 640x640 1 Ambulance, 170.5ms\n",
      "video 1/1 (frame 143/908) C:\\Users\\ragha\\Amblane.mp4: 640x640 1 Ambulance, 170.4ms\n",
      "video 1/1 (frame 144/908) C:\\Users\\ragha\\Amblane.mp4: 640x640 1 Ambulance, 171.4ms\n",
      "video 1/1 (frame 145/908) C:\\Users\\ragha\\Amblane.mp4: 640x640 1 Ambulance, 168.1ms\n",
      "video 1/1 (frame 146/908) C:\\Users\\ragha\\Amblane.mp4: 640x640 1 Ambulance, 168.6ms\n",
      "video 1/1 (frame 147/908) C:\\Users\\ragha\\Amblane.mp4: 640x640 1 Ambulance, 168.5ms\n",
      "video 1/1 (frame 148/908) C:\\Users\\ragha\\Amblane.mp4: 640x640 1 Ambulance, 176.8ms\n",
      "video 1/1 (frame 149/908) C:\\Users\\ragha\\Amblane.mp4: 640x640 1 Ambulance, 175.5ms\n",
      "video 1/1 (frame 150/908) C:\\Users\\ragha\\Amblane.mp4: 640x640 1 Ambulance, 173.6ms\n",
      "video 1/1 (frame 151/908) C:\\Users\\ragha\\Amblane.mp4: 640x640 1 Ambulance, 176.6ms\n",
      "video 1/1 (frame 152/908) C:\\Users\\ragha\\Amblane.mp4: 640x640 1 Ambulance, 171.6ms\n",
      "video 1/1 (frame 153/908) C:\\Users\\ragha\\Amblane.mp4: 640x640 1 Ambulance, 178.2ms\n",
      "video 1/1 (frame 154/908) C:\\Users\\ragha\\Amblane.mp4: 640x640 1 Ambulance, 175.3ms\n",
      "video 1/1 (frame 155/908) C:\\Users\\ragha\\Amblane.mp4: 640x640 1 Ambulance, 176.1ms\n",
      "video 1/1 (frame 156/908) C:\\Users\\ragha\\Amblane.mp4: 640x640 1 Ambulance, 177.1ms\n",
      "video 1/1 (frame 157/908) C:\\Users\\ragha\\Amblane.mp4: 640x640 1 Ambulance, 175.1ms\n",
      "video 1/1 (frame 158/908) C:\\Users\\ragha\\Amblane.mp4: 640x640 1 Ambulance, 171.1ms\n",
      "video 1/1 (frame 159/908) C:\\Users\\ragha\\Amblane.mp4: 640x640 1 Ambulance, 171.3ms\n",
      "video 1/1 (frame 160/908) C:\\Users\\ragha\\Amblane.mp4: 640x640 (no detections), 175.1ms\n",
      "video 1/1 (frame 161/908) C:\\Users\\ragha\\Amblane.mp4: 640x640 (no detections), 173.1ms\n",
      "video 1/1 (frame 162/908) C:\\Users\\ragha\\Amblane.mp4: 640x640 1 Ambulance, 173.1ms\n",
      "video 1/1 (frame 163/908) C:\\Users\\ragha\\Amblane.mp4: 640x640 1 Ambulance, 173.6ms\n",
      "video 1/1 (frame 164/908) C:\\Users\\ragha\\Amblane.mp4: 640x640 1 Ambulance, 171.8ms\n",
      "video 1/1 (frame 165/908) C:\\Users\\ragha\\Amblane.mp4: 640x640 1 Ambulance, 172.6ms\n",
      "video 1/1 (frame 166/908) C:\\Users\\ragha\\Amblane.mp4: 640x640 1 Ambulance, 173.6ms\n",
      "video 1/1 (frame 167/908) C:\\Users\\ragha\\Amblane.mp4: 640x640 1 Ambulance, 174.6ms\n",
      "video 1/1 (frame 168/908) C:\\Users\\ragha\\Amblane.mp4: 640x640 1 Ambulance, 173.5ms\n",
      "video 1/1 (frame 169/908) C:\\Users\\ragha\\Amblane.mp4: 640x640 1 Ambulance, 172.6ms\n",
      "video 1/1 (frame 170/908) C:\\Users\\ragha\\Amblane.mp4: 640x640 1 Ambulance, 172.1ms\n",
      "video 1/1 (frame 171/908) C:\\Users\\ragha\\Amblane.mp4: 640x640 1 Ambulance, 175.1ms\n",
      "video 1/1 (frame 172/908) C:\\Users\\ragha\\Amblane.mp4: 640x640 (no detections), 179.1ms\n",
      "video 1/1 (frame 173/908) C:\\Users\\ragha\\Amblane.mp4: 640x640 1 Ambulance, 173.6ms\n",
      "video 1/1 (frame 174/908) C:\\Users\\ragha\\Amblane.mp4: 640x640 1 Ambulance, 179.1ms\n",
      "video 1/1 (frame 175/908) C:\\Users\\ragha\\Amblane.mp4: 640x640 1 Ambulance, 175.1ms\n",
      "video 1/1 (frame 176/908) C:\\Users\\ragha\\Amblane.mp4: 640x640 1 Ambulance, 171.1ms\n",
      "video 1/1 (frame 177/908) C:\\Users\\ragha\\Amblane.mp4: 640x640 1 Ambulance, 175.6ms\n",
      "video 1/1 (frame 178/908) C:\\Users\\ragha\\Amblane.mp4: 640x640 1 Ambulance, 178.1ms\n",
      "video 1/1 (frame 179/908) C:\\Users\\ragha\\Amblane.mp4: 640x640 1 Ambulance, 177.6ms\n",
      "video 1/1 (frame 180/908) C:\\Users\\ragha\\Amblane.mp4: 640x640 1 Ambulance, 171.6ms\n",
      "video 1/1 (frame 181/908) C:\\Users\\ragha\\Amblane.mp4: 640x640 1 Ambulance, 173.6ms\n",
      "video 1/1 (frame 182/908) C:\\Users\\ragha\\Amblane.mp4: 640x640 1 Ambulance, 178.1ms\n",
      "video 1/1 (frame 183/908) C:\\Users\\ragha\\Amblane.mp4: 640x640 1 Ambulance, 173.1ms\n",
      "video 1/1 (frame 184/908) C:\\Users\\ragha\\Amblane.mp4: 640x640 (no detections), 172.6ms\n",
      "video 1/1 (frame 185/908) C:\\Users\\ragha\\Amblane.mp4: 640x640 1 Ambulance, 172.1ms\n",
      "video 1/1 (frame 186/908) C:\\Users\\ragha\\Amblane.mp4: 640x640 1 Ambulance, 172.1ms\n",
      "video 1/1 (frame 187/908) C:\\Users\\ragha\\Amblane.mp4: 640x640 1 Ambulance, 179.1ms\n",
      "video 1/1 (frame 188/908) C:\\Users\\ragha\\Amblane.mp4: 640x640 1 Ambulance, 173.6ms\n",
      "video 1/1 (frame 189/908) C:\\Users\\ragha\\Amblane.mp4: 640x640 1 Ambulance, 174.3ms\n",
      "video 1/1 (frame 190/908) C:\\Users\\ragha\\Amblane.mp4: 640x640 1 Ambulance, 172.8ms\n",
      "video 1/1 (frame 191/908) C:\\Users\\ragha\\Amblane.mp4: 640x640 1 Ambulance, 177.6ms\n",
      "video 1/1 (frame 192/908) C:\\Users\\ragha\\Amblane.mp4: 640x640 1 Ambulance, 172.6ms\n",
      "video 1/1 (frame 193/908) C:\\Users\\ragha\\Amblane.mp4: 640x640 1 Ambulance, 180.1ms\n"
     ]
    },
    {
     "name": "stdout",
     "output_type": "stream",
     "text": [
      "video 1/1 (frame 194/908) C:\\Users\\ragha\\Amblane.mp4: 640x640 1 Ambulance, 174.1ms\n",
      "video 1/1 (frame 195/908) C:\\Users\\ragha\\Amblane.mp4: 640x640 1 Ambulance, 172.5ms\n",
      "video 1/1 (frame 196/908) C:\\Users\\ragha\\Amblane.mp4: 640x640 1 Ambulance, 173.8ms\n",
      "video 1/1 (frame 197/908) C:\\Users\\ragha\\Amblane.mp4: 640x640 1 Ambulance, 173.7ms\n",
      "video 1/1 (frame 198/908) C:\\Users\\ragha\\Amblane.mp4: 640x640 1 Ambulance, 171.4ms\n",
      "video 1/1 (frame 199/908) C:\\Users\\ragha\\Amblane.mp4: 640x640 1 Ambulance, 169.1ms\n",
      "video 1/1 (frame 200/908) C:\\Users\\ragha\\Amblane.mp4: 640x640 1 Ambulance, 170.1ms\n",
      "video 1/1 (frame 201/908) C:\\Users\\ragha\\Amblane.mp4: 640x640 1 Ambulance, 173.1ms\n",
      "video 1/1 (frame 202/908) C:\\Users\\ragha\\Amblane.mp4: 640x640 1 Ambulance, 173.3ms\n",
      "video 1/1 (frame 203/908) C:\\Users\\ragha\\Amblane.mp4: 640x640 1 Ambulance, 176.7ms\n",
      "video 1/1 (frame 204/908) C:\\Users\\ragha\\Amblane.mp4: 640x640 1 Ambulance, 179.1ms\n",
      "video 1/1 (frame 205/908) C:\\Users\\ragha\\Amblane.mp4: 640x640 1 Ambulance, 167.4ms\n",
      "video 1/1 (frame 206/908) C:\\Users\\ragha\\Amblane.mp4: 640x640 1 Ambulance, 169.6ms\n",
      "video 1/1 (frame 207/908) C:\\Users\\ragha\\Amblane.mp4: 640x640 1 Ambulance, 173.1ms\n",
      "video 1/1 (frame 208/908) C:\\Users\\ragha\\Amblane.mp4: 640x640 1 Ambulance, 170.0ms\n",
      "video 1/1 (frame 209/908) C:\\Users\\ragha\\Amblane.mp4: 640x640 1 Ambulance, 165.0ms\n",
      "video 1/1 (frame 210/908) C:\\Users\\ragha\\Amblane.mp4: 640x640 1 Ambulance, 169.6ms\n",
      "video 1/1 (frame 211/908) C:\\Users\\ragha\\Amblane.mp4: 640x640 1 Ambulance, 175.5ms\n",
      "video 1/1 (frame 212/908) C:\\Users\\ragha\\Amblane.mp4: 640x640 1 Ambulance, 165.4ms\n",
      "video 1/1 (frame 213/908) C:\\Users\\ragha\\Amblane.mp4: 640x640 1 Ambulance, 168.8ms\n",
      "video 1/1 (frame 214/908) C:\\Users\\ragha\\Amblane.mp4: 640x640 1 Ambulance, 167.3ms\n",
      "video 1/1 (frame 215/908) C:\\Users\\ragha\\Amblane.mp4: 640x640 1 Ambulance, 165.2ms\n",
      "video 1/1 (frame 216/908) C:\\Users\\ragha\\Amblane.mp4: 640x640 1 Ambulance, 167.1ms\n",
      "video 1/1 (frame 217/908) C:\\Users\\ragha\\Amblane.mp4: 640x640 1 Ambulance, 166.5ms\n",
      "video 1/1 (frame 218/908) C:\\Users\\ragha\\Amblane.mp4: 640x640 1 Ambulance, 166.5ms\n",
      "video 1/1 (frame 219/908) C:\\Users\\ragha\\Amblane.mp4: 640x640 1 Ambulance, 168.6ms\n",
      "video 1/1 (frame 220/908) C:\\Users\\ragha\\Amblane.mp4: 640x640 1 Ambulance, 164.0ms\n",
      "video 1/1 (frame 221/908) C:\\Users\\ragha\\Amblane.mp4: 640x640 1 Ambulance, 167.2ms\n",
      "video 1/1 (frame 222/908) C:\\Users\\ragha\\Amblane.mp4: 640x640 1 Ambulance, 165.7ms\n",
      "video 1/1 (frame 223/908) C:\\Users\\ragha\\Amblane.mp4: 640x640 1 Ambulance, 164.7ms\n",
      "video 1/1 (frame 224/908) C:\\Users\\ragha\\Amblane.mp4: 640x640 1 Ambulance, 166.5ms\n",
      "video 1/1 (frame 225/908) C:\\Users\\ragha\\Amblane.mp4: 640x640 1 Ambulance, 167.9ms\n",
      "video 1/1 (frame 226/908) C:\\Users\\ragha\\Amblane.mp4: 640x640 1 Ambulance, 173.3ms\n",
      "video 1/1 (frame 227/908) C:\\Users\\ragha\\Amblane.mp4: 640x640 1 Ambulance, 172.1ms\n",
      "video 1/1 (frame 228/908) C:\\Users\\ragha\\Amblane.mp4: 640x640 1 Ambulance, 177.4ms\n",
      "video 1/1 (frame 229/908) C:\\Users\\ragha\\Amblane.mp4: 640x640 1 Ambulance, 172.1ms\n",
      "video 1/1 (frame 230/908) C:\\Users\\ragha\\Amblane.mp4: 640x640 1 Ambulance, 172.5ms\n",
      "video 1/1 (frame 231/908) C:\\Users\\ragha\\Amblane.mp4: 640x640 1 Ambulance, 177.6ms\n",
      "video 1/1 (frame 232/908) C:\\Users\\ragha\\Amblane.mp4: 640x640 1 Ambulance, 173.1ms\n",
      "video 1/1 (frame 233/908) C:\\Users\\ragha\\Amblane.mp4: 640x640 1 Ambulance, 167.6ms\n",
      "video 1/1 (frame 234/908) C:\\Users\\ragha\\Amblane.mp4: 640x640 1 Ambulance, 174.8ms\n",
      "video 1/1 (frame 235/908) C:\\Users\\ragha\\Amblane.mp4: 640x640 1 Ambulance, 184.5ms\n",
      "video 1/1 (frame 236/908) C:\\Users\\ragha\\Amblane.mp4: 640x640 1 Ambulance, 191.4ms\n",
      "video 1/1 (frame 237/908) C:\\Users\\ragha\\Amblane.mp4: 640x640 1 Ambulance, 177.6ms\n",
      "video 1/1 (frame 238/908) C:\\Users\\ragha\\Amblane.mp4: 640x640 1 Ambulance, 172.6ms\n",
      "video 1/1 (frame 239/908) C:\\Users\\ragha\\Amblane.mp4: 640x640 1 Ambulance, 171.1ms\n",
      "video 1/1 (frame 240/908) C:\\Users\\ragha\\Amblane.mp4: 640x640 1 Ambulance, 184.1ms\n",
      "video 1/1 (frame 241/908) C:\\Users\\ragha\\Amblane.mp4: 640x640 1 Ambulance, 174.0ms\n",
      "video 1/1 (frame 242/908) C:\\Users\\ragha\\Amblane.mp4: 640x640 1 Ambulance, 179.9ms\n",
      "video 1/1 (frame 243/908) C:\\Users\\ragha\\Amblane.mp4: 640x640 1 Ambulance, 176.1ms\n",
      "video 1/1 (frame 244/908) C:\\Users\\ragha\\Amblane.mp4: 640x640 1 Ambulance, 180.1ms\n",
      "video 1/1 (frame 245/908) C:\\Users\\ragha\\Amblane.mp4: 640x640 1 Ambulance, 175.2ms\n",
      "video 1/1 (frame 246/908) C:\\Users\\ragha\\Amblane.mp4: 640x640 1 Ambulance, 215.3ms\n",
      "video 1/1 (frame 247/908) C:\\Users\\ragha\\Amblane.mp4: 640x640 1 Ambulance, 173.6ms\n",
      "video 1/1 (frame 248/908) C:\\Users\\ragha\\Amblane.mp4: 640x640 1 Ambulance, 174.5ms\n",
      "video 1/1 (frame 249/908) C:\\Users\\ragha\\Amblane.mp4: 640x640 1 Ambulance, 180.1ms\n",
      "video 1/1 (frame 250/908) C:\\Users\\ragha\\Amblane.mp4: 640x640 1 Ambulance, 200.1ms\n",
      "video 1/1 (frame 251/908) C:\\Users\\ragha\\Amblane.mp4: 640x640 1 Ambulance, 199.1ms\n",
      "video 1/1 (frame 252/908) C:\\Users\\ragha\\Amblane.mp4: 640x640 1 Ambulance, 182.1ms\n",
      "video 1/1 (frame 253/908) C:\\Users\\ragha\\Amblane.mp4: 640x640 1 Ambulance, 174.1ms\n",
      "video 1/1 (frame 254/908) C:\\Users\\ragha\\Amblane.mp4: 640x640 1 Ambulance, 176.0ms\n",
      "video 1/1 (frame 255/908) C:\\Users\\ragha\\Amblane.mp4: 640x640 1 Ambulance, 176.1ms\n",
      "video 1/1 (frame 256/908) C:\\Users\\ragha\\Amblane.mp4: 640x640 1 Ambulance, 175.1ms\n",
      "video 1/1 (frame 257/908) C:\\Users\\ragha\\Amblane.mp4: 640x640 1 Ambulance, 173.6ms\n",
      "video 1/1 (frame 258/908) C:\\Users\\ragha\\Amblane.mp4: 640x640 1 Ambulance, 176.2ms\n",
      "video 1/1 (frame 259/908) C:\\Users\\ragha\\Amblane.mp4: 640x640 1 Ambulance, 178.0ms\n",
      "video 1/1 (frame 260/908) C:\\Users\\ragha\\Amblane.mp4: 640x640 1 Ambulance, 175.2ms\n",
      "video 1/1 (frame 261/908) C:\\Users\\ragha\\Amblane.mp4: 640x640 1 Ambulance, 171.5ms\n",
      "video 1/1 (frame 262/908) C:\\Users\\ragha\\Amblane.mp4: 640x640 1 Ambulance, 177.1ms\n",
      "video 1/1 (frame 263/908) C:\\Users\\ragha\\Amblane.mp4: 640x640 1 Ambulance, 171.1ms\n",
      "video 1/1 (frame 264/908) C:\\Users\\ragha\\Amblane.mp4: 640x640 1 Ambulance, 170.5ms\n",
      "video 1/1 (frame 265/908) C:\\Users\\ragha\\Amblane.mp4: 640x640 1 Ambulance, 172.6ms\n",
      "video 1/1 (frame 266/908) C:\\Users\\ragha\\Amblane.mp4: 640x640 1 Ambulance, 171.1ms\n",
      "video 1/1 (frame 267/908) C:\\Users\\ragha\\Amblane.mp4: 640x640 1 Ambulance, 171.6ms\n",
      "video 1/1 (frame 268/908) C:\\Users\\ragha\\Amblane.mp4: 640x640 1 Ambulance, 170.5ms\n",
      "video 1/1 (frame 269/908) C:\\Users\\ragha\\Amblane.mp4: 640x640 1 Ambulance, 177.1ms\n",
      "video 1/1 (frame 270/908) C:\\Users\\ragha\\Amblane.mp4: 640x640 1 Ambulance, 173.6ms\n",
      "video 1/1 (frame 271/908) C:\\Users\\ragha\\Amblane.mp4: 640x640 1 Ambulance, 172.8ms\n",
      "video 1/1 (frame 272/908) C:\\Users\\ragha\\Amblane.mp4: 640x640 1 Ambulance, 172.0ms\n",
      "video 1/1 (frame 273/908) C:\\Users\\ragha\\Amblane.mp4: 640x640 1 Ambulance, 174.1ms\n",
      "video 1/1 (frame 274/908) C:\\Users\\ragha\\Amblane.mp4: 640x640 1 Ambulance, 174.1ms\n",
      "video 1/1 (frame 275/908) C:\\Users\\ragha\\Amblane.mp4: 640x640 1 Ambulance, 175.1ms\n",
      "video 1/1 (frame 276/908) C:\\Users\\ragha\\Amblane.mp4: 640x640 1 Ambulance, 176.1ms\n",
      "video 1/1 (frame 277/908) C:\\Users\\ragha\\Amblane.mp4: 640x640 1 Ambulance, 174.1ms\n",
      "video 1/1 (frame 278/908) C:\\Users\\ragha\\Amblane.mp4: 640x640 1 Ambulance, 171.5ms\n",
      "video 1/1 (frame 279/908) C:\\Users\\ragha\\Amblane.mp4: 640x640 1 Ambulance, 171.2ms\n",
      "video 1/1 (frame 280/908) C:\\Users\\ragha\\Amblane.mp4: 640x640 1 Ambulance, 172.2ms\n",
      "video 1/1 (frame 281/908) C:\\Users\\ragha\\Amblane.mp4: 640x640 1 Ambulance, 173.6ms\n",
      "video 1/1 (frame 282/908) C:\\Users\\ragha\\Amblane.mp4: 640x640 1 Ambulance, 170.8ms\n",
      "video 1/1 (frame 283/908) C:\\Users\\ragha\\Amblane.mp4: 640x640 1 Ambulance, 174.7ms\n",
      "video 1/1 (frame 284/908) C:\\Users\\ragha\\Amblane.mp4: 640x640 1 Ambulance, 184.1ms\n",
      "video 1/1 (frame 285/908) C:\\Users\\ragha\\Amblane.mp4: 640x640 1 Ambulance, 174.6ms\n",
      "video 1/1 (frame 286/908) C:\\Users\\ragha\\Amblane.mp4: 640x640 1 Ambulance, 172.6ms\n",
      "video 1/1 (frame 287/908) C:\\Users\\ragha\\Amblane.mp4: 640x640 1 Ambulance, 158.1ms\n",
      "video 1/1 (frame 288/908) C:\\Users\\ragha\\Amblane.mp4: 640x640 1 Ambulance, 177.5ms\n",
      "video 1/1 (frame 289/908) C:\\Users\\ragha\\Amblane.mp4: 640x640 1 Ambulance, 183.8ms\n",
      "video 1/1 (frame 290/908) C:\\Users\\ragha\\Amblane.mp4: 640x640 1 Ambulance, 179.4ms\n",
      "video 1/1 (frame 291/908) C:\\Users\\ragha\\Amblane.mp4: 640x640 1 Ambulance, 179.3ms\n",
      "video 1/1 (frame 292/908) C:\\Users\\ragha\\Amblane.mp4: 640x640 1 Ambulance, 179.8ms\n"
     ]
    },
    {
     "name": "stdout",
     "output_type": "stream",
     "text": [
      "video 1/1 (frame 293/908) C:\\Users\\ragha\\Amblane.mp4: 640x640 1 Ambulance, 178.0ms\n",
      "video 1/1 (frame 294/908) C:\\Users\\ragha\\Amblane.mp4: 640x640 1 Ambulance, 230.6ms\n",
      "video 1/1 (frame 295/908) C:\\Users\\ragha\\Amblane.mp4: 640x640 1 Ambulance, 176.5ms\n",
      "video 1/1 (frame 296/908) C:\\Users\\ragha\\Amblane.mp4: 640x640 1 Ambulance, 171.7ms\n",
      "video 1/1 (frame 297/908) C:\\Users\\ragha\\Amblane.mp4: 640x640 1 Ambulance, 166.3ms\n",
      "video 1/1 (frame 298/908) C:\\Users\\ragha\\Amblane.mp4: 640x640 1 Ambulance, 198.6ms\n",
      "video 1/1 (frame 299/908) C:\\Users\\ragha\\Amblane.mp4: 640x640 1 Ambulance, 176.9ms\n",
      "video 1/1 (frame 300/908) C:\\Users\\ragha\\Amblane.mp4: 640x640 1 Ambulance, 170.0ms\n",
      "video 1/1 (frame 301/908) C:\\Users\\ragha\\Amblane.mp4: 640x640 1 Ambulance, 168.8ms\n",
      "video 1/1 (frame 302/908) C:\\Users\\ragha\\Amblane.mp4: 640x640 1 Ambulance, 169.0ms\n",
      "video 1/1 (frame 303/908) C:\\Users\\ragha\\Amblane.mp4: 640x640 1 Ambulance, 175.2ms\n",
      "video 1/1 (frame 304/908) C:\\Users\\ragha\\Amblane.mp4: 640x640 1 Ambulance, 179.5ms\n",
      "video 1/1 (frame 305/908) C:\\Users\\ragha\\Amblane.mp4: 640x640 1 Ambulance, 176.1ms\n",
      "video 1/1 (frame 306/908) C:\\Users\\ragha\\Amblane.mp4: 640x640 1 Ambulance, 173.1ms\n",
      "video 1/1 (frame 307/908) C:\\Users\\ragha\\Amblane.mp4: 640x640 1 Ambulance, 174.1ms\n",
      "video 1/1 (frame 308/908) C:\\Users\\ragha\\Amblane.mp4: 640x640 1 Ambulance, 174.5ms\n",
      "video 1/1 (frame 309/908) C:\\Users\\ragha\\Amblane.mp4: 640x640 1 Ambulance, 175.2ms\n",
      "video 1/1 (frame 310/908) C:\\Users\\ragha\\Amblane.mp4: 640x640 1 Ambulance, 173.1ms\n",
      "video 1/1 (frame 311/908) C:\\Users\\ragha\\Amblane.mp4: 640x640 1 Ambulance, 172.1ms\n",
      "video 1/1 (frame 312/908) C:\\Users\\ragha\\Amblane.mp4: 640x640 1 Ambulance, 175.8ms\n",
      "video 1/1 (frame 313/908) C:\\Users\\ragha\\Amblane.mp4: 640x640 1 Ambulance, 173.9ms\n",
      "video 1/1 (frame 314/908) C:\\Users\\ragha\\Amblane.mp4: 640x640 1 Ambulance, 171.6ms\n",
      "video 1/1 (frame 315/908) C:\\Users\\ragha\\Amblane.mp4: 640x640 1 Ambulance, 175.3ms\n",
      "video 1/1 (frame 316/908) C:\\Users\\ragha\\Amblane.mp4: 640x640 1 Ambulance, 170.1ms\n",
      "video 1/1 (frame 317/908) C:\\Users\\ragha\\Amblane.mp4: 640x640 1 Ambulance, 171.1ms\n",
      "video 1/1 (frame 318/908) C:\\Users\\ragha\\Amblane.mp4: 640x640 1 Ambulance, 174.1ms\n",
      "video 1/1 (frame 319/908) C:\\Users\\ragha\\Amblane.mp4: 640x640 1 Ambulance, 172.2ms\n",
      "video 1/1 (frame 320/908) C:\\Users\\ragha\\Amblane.mp4: 640x640 1 Ambulance, 171.1ms\n",
      "video 1/1 (frame 321/908) C:\\Users\\ragha\\Amblane.mp4: 640x640 1 Ambulance, 173.1ms\n",
      "video 1/1 (frame 322/908) C:\\Users\\ragha\\Amblane.mp4: 640x640 1 Ambulance, 170.1ms\n",
      "video 1/1 (frame 323/908) C:\\Users\\ragha\\Amblane.mp4: 640x640 1 Ambulance, 172.4ms\n",
      "video 1/1 (frame 324/908) C:\\Users\\ragha\\Amblane.mp4: 640x640 1 Ambulance, 175.1ms\n",
      "video 1/1 (frame 325/908) C:\\Users\\ragha\\Amblane.mp4: 640x640 1 Ambulance, 168.8ms\n",
      "video 1/1 (frame 326/908) C:\\Users\\ragha\\Amblane.mp4: 640x640 1 Ambulance, 179.4ms\n",
      "video 1/1 (frame 327/908) C:\\Users\\ragha\\Amblane.mp4: 640x640 1 Ambulance, 178.1ms\n",
      "video 1/1 (frame 328/908) C:\\Users\\ragha\\Amblane.mp4: 640x640 1 Ambulance, 176.1ms\n",
      "video 1/1 (frame 329/908) C:\\Users\\ragha\\Amblane.mp4: 640x640 1 Ambulance, 174.1ms\n",
      "video 1/1 (frame 330/908) C:\\Users\\ragha\\Amblane.mp4: 640x640 1 Ambulance, 169.1ms\n",
      "video 1/1 (frame 331/908) C:\\Users\\ragha\\Amblane.mp4: 640x640 1 Ambulance, 170.1ms\n",
      "video 1/1 (frame 332/908) C:\\Users\\ragha\\Amblane.mp4: 640x640 1 Ambulance, 171.1ms\n",
      "video 1/1 (frame 333/908) C:\\Users\\ragha\\Amblane.mp4: 640x640 1 Ambulance, 174.1ms\n",
      "video 1/1 (frame 334/908) C:\\Users\\ragha\\Amblane.mp4: 640x640 1 Ambulance, 166.6ms\n",
      "video 1/1 (frame 335/908) C:\\Users\\ragha\\Amblane.mp4: 640x640 1 Ambulance, 180.6ms\n",
      "video 1/1 (frame 336/908) C:\\Users\\ragha\\Amblane.mp4: 640x640 1 Ambulance, 168.6ms\n",
      "video 1/1 (frame 337/908) C:\\Users\\ragha\\Amblane.mp4: 640x640 1 Ambulance, 176.6ms\n",
      "video 1/1 (frame 338/908) C:\\Users\\ragha\\Amblane.mp4: 640x640 1 Ambulance, 173.1ms\n",
      "video 1/1 (frame 339/908) C:\\Users\\ragha\\Amblane.mp4: 640x640 1 Ambulance, 173.1ms\n",
      "video 1/1 (frame 340/908) C:\\Users\\ragha\\Amblane.mp4: 640x640 1 Ambulance, 174.1ms\n",
      "video 1/1 (frame 341/908) C:\\Users\\ragha\\Amblane.mp4: 640x640 1 Ambulance, 170.1ms\n",
      "video 1/1 (frame 342/908) C:\\Users\\ragha\\Amblane.mp4: 640x640 1 Ambulance, 180.1ms\n",
      "video 1/1 (frame 343/908) C:\\Users\\ragha\\Amblane.mp4: 640x640 1 Ambulance, 174.1ms\n",
      "video 1/1 (frame 344/908) C:\\Users\\ragha\\Amblane.mp4: 640x640 1 Ambulance, 173.1ms\n",
      "video 1/1 (frame 345/908) C:\\Users\\ragha\\Amblane.mp4: 640x640 1 Ambulance, 172.5ms\n",
      "video 1/1 (frame 346/908) C:\\Users\\ragha\\Amblane.mp4: 640x640 1 Ambulance, 175.1ms\n",
      "video 1/1 (frame 347/908) C:\\Users\\ragha\\Amblane.mp4: 640x640 1 Ambulance, 173.4ms\n",
      "video 1/1 (frame 348/908) C:\\Users\\ragha\\Amblane.mp4: 640x640 1 Ambulance, 174.1ms\n",
      "video 1/1 (frame 349/908) C:\\Users\\ragha\\Amblane.mp4: 640x640 1 Ambulance, 175.6ms\n",
      "video 1/1 (frame 350/908) C:\\Users\\ragha\\Amblane.mp4: 640x640 1 Ambulance, 171.0ms\n",
      "video 1/1 (frame 351/908) C:\\Users\\ragha\\Amblane.mp4: 640x640 1 Ambulance, 175.8ms\n",
      "video 1/1 (frame 352/908) C:\\Users\\ragha\\Amblane.mp4: 640x640 1 Ambulance, 176.1ms\n",
      "video 1/1 (frame 353/908) C:\\Users\\ragha\\Amblane.mp4: 640x640 1 Ambulance, 176.1ms\n",
      "video 1/1 (frame 354/908) C:\\Users\\ragha\\Amblane.mp4: 640x640 1 Ambulance, 175.1ms\n",
      "video 1/1 (frame 355/908) C:\\Users\\ragha\\Amblane.mp4: 640x640 1 Ambulance, 173.1ms\n",
      "video 1/1 (frame 356/908) C:\\Users\\ragha\\Amblane.mp4: 640x640 1 Ambulance, 176.1ms\n",
      "video 1/1 (frame 357/908) C:\\Users\\ragha\\Amblane.mp4: 640x640 1 Ambulance, 176.1ms\n",
      "video 1/1 (frame 358/908) C:\\Users\\ragha\\Amblane.mp4: 640x640 1 Ambulance, 173.1ms\n",
      "video 1/1 (frame 359/908) C:\\Users\\ragha\\Amblane.mp4: 640x640 1 Ambulance, 178.6ms\n",
      "video 1/1 (frame 360/908) C:\\Users\\ragha\\Amblane.mp4: 640x640 1 Ambulance, 173.3ms\n",
      "video 1/1 (frame 361/908) C:\\Users\\ragha\\Amblane.mp4: 640x640 1 Ambulance, 176.1ms\n",
      "video 1/1 (frame 362/908) C:\\Users\\ragha\\Amblane.mp4: 640x640 1 Ambulance, 179.4ms\n",
      "video 1/1 (frame 363/908) C:\\Users\\ragha\\Amblane.mp4: 640x640 1 Ambulance, 173.9ms\n",
      "video 1/1 (frame 364/908) C:\\Users\\ragha\\Amblane.mp4: 640x640 1 Ambulance, 169.4ms\n",
      "video 1/1 (frame 365/908) C:\\Users\\ragha\\Amblane.mp4: 640x640 1 Ambulance, 175.5ms\n",
      "video 1/1 (frame 366/908) C:\\Users\\ragha\\Amblane.mp4: 640x640 1 Ambulance, 175.4ms\n",
      "video 1/1 (frame 367/908) C:\\Users\\ragha\\Amblane.mp4: 640x640 1 Ambulance, 174.0ms\n",
      "video 1/1 (frame 368/908) C:\\Users\\ragha\\Amblane.mp4: 640x640 1 Ambulance, 193.5ms\n",
      "video 1/1 (frame 369/908) C:\\Users\\ragha\\Amblane.mp4: 640x640 1 Ambulance, 198.1ms\n",
      "video 1/1 (frame 370/908) C:\\Users\\ragha\\Amblane.mp4: 640x640 1 Ambulance, 195.0ms\n",
      "video 1/1 (frame 371/908) C:\\Users\\ragha\\Amblane.mp4: 640x640 1 Ambulance, 200.4ms\n",
      "video 1/1 (frame 372/908) C:\\Users\\ragha\\Amblane.mp4: 640x640 1 Ambulance, 197.5ms\n",
      "video 1/1 (frame 373/908) C:\\Users\\ragha\\Amblane.mp4: 640x640 1 Ambulance, 191.4ms\n",
      "video 1/1 (frame 374/908) C:\\Users\\ragha\\Amblane.mp4: 640x640 1 Ambulance, 206.7ms\n",
      "video 1/1 (frame 375/908) C:\\Users\\ragha\\Amblane.mp4: 640x640 1 Ambulance, 206.4ms\n",
      "video 1/1 (frame 376/908) C:\\Users\\ragha\\Amblane.mp4: 640x640 1 Ambulance, 211.5ms\n",
      "video 1/1 (frame 377/908) C:\\Users\\ragha\\Amblane.mp4: 640x640 1 Ambulance, 177.0ms\n",
      "video 1/1 (frame 378/908) C:\\Users\\ragha\\Amblane.mp4: 640x640 1 Ambulance, 174.6ms\n",
      "video 1/1 (frame 379/908) C:\\Users\\ragha\\Amblane.mp4: 640x640 1 Ambulance, 178.1ms\n",
      "video 1/1 (frame 380/908) C:\\Users\\ragha\\Amblane.mp4: 640x640 1 Ambulance, 179.9ms\n",
      "video 1/1 (frame 381/908) C:\\Users\\ragha\\Amblane.mp4: 640x640 1 Ambulance, 183.4ms\n",
      "video 1/1 (frame 382/908) C:\\Users\\ragha\\Amblane.mp4: 640x640 1 Ambulance, 174.6ms\n",
      "video 1/1 (frame 383/908) C:\\Users\\ragha\\Amblane.mp4: 640x640 1 Ambulance, 173.6ms\n",
      "video 1/1 (frame 384/908) C:\\Users\\ragha\\Amblane.mp4: 640x640 1 Ambulance, 174.1ms\n",
      "video 1/1 (frame 385/908) C:\\Users\\ragha\\Amblane.mp4: 640x640 1 Ambulance, 174.1ms\n",
      "video 1/1 (frame 386/908) C:\\Users\\ragha\\Amblane.mp4: 640x640 1 Ambulance, 178.1ms\n",
      "video 1/1 (frame 387/908) C:\\Users\\ragha\\Amblane.mp4: 640x640 1 Ambulance, 171.6ms\n",
      "video 1/1 (frame 388/908) C:\\Users\\ragha\\Amblane.mp4: 640x640 1 Ambulance, 173.6ms\n",
      "video 1/1 (frame 389/908) C:\\Users\\ragha\\Amblane.mp4: 640x640 1 Ambulance, 179.6ms\n",
      "video 1/1 (frame 390/908) C:\\Users\\ragha\\Amblane.mp4: 640x640 1 Ambulance, 174.1ms\n",
      "video 1/1 (frame 391/908) C:\\Users\\ragha\\Amblane.mp4: 640x640 1 Ambulance, 171.1ms\n"
     ]
    },
    {
     "name": "stdout",
     "output_type": "stream",
     "text": [
      "video 1/1 (frame 392/908) C:\\Users\\ragha\\Amblane.mp4: 640x640 1 Ambulance, 176.1ms\n",
      "video 1/1 (frame 393/908) C:\\Users\\ragha\\Amblane.mp4: 640x640 1 Ambulance, 173.6ms\n",
      "video 1/1 (frame 394/908) C:\\Users\\ragha\\Amblane.mp4: 640x640 1 Ambulance, 173.3ms\n",
      "video 1/1 (frame 395/908) C:\\Users\\ragha\\Amblane.mp4: 640x640 1 Ambulance, 175.1ms\n",
      "video 1/1 (frame 396/908) C:\\Users\\ragha\\Amblane.mp4: 640x640 1 Ambulance, 169.0ms\n",
      "video 1/1 (frame 397/908) C:\\Users\\ragha\\Amblane.mp4: 640x640 1 Ambulance, 177.2ms\n",
      "video 1/1 (frame 398/908) C:\\Users\\ragha\\Amblane.mp4: 640x640 1 Ambulance, 174.1ms\n",
      "video 1/1 (frame 399/908) C:\\Users\\ragha\\Amblane.mp4: 640x640 1 Ambulance, 175.1ms\n",
      "video 1/1 (frame 400/908) C:\\Users\\ragha\\Amblane.mp4: 640x640 1 Ambulance, 180.1ms\n",
      "video 1/1 (frame 401/908) C:\\Users\\ragha\\Amblane.mp4: 640x640 1 Ambulance, 176.6ms\n",
      "video 1/1 (frame 402/908) C:\\Users\\ragha\\Amblane.mp4: 640x640 1 Ambulance, 172.6ms\n",
      "video 1/1 (frame 403/908) C:\\Users\\ragha\\Amblane.mp4: 640x640 1 Ambulance, 173.6ms\n",
      "video 1/1 (frame 404/908) C:\\Users\\ragha\\Amblane.mp4: 640x640 1 Ambulance, 185.5ms\n",
      "video 1/1 (frame 405/908) C:\\Users\\ragha\\Amblane.mp4: 640x640 1 Ambulance, 174.6ms\n",
      "video 1/1 (frame 406/908) C:\\Users\\ragha\\Amblane.mp4: 640x640 1 Ambulance, 171.1ms\n",
      "video 1/1 (frame 407/908) C:\\Users\\ragha\\Amblane.mp4: 640x640 1 Ambulance, 171.1ms\n",
      "video 1/1 (frame 408/908) C:\\Users\\ragha\\Amblane.mp4: 640x640 1 Ambulance, 167.4ms\n",
      "video 1/1 (frame 409/908) C:\\Users\\ragha\\Amblane.mp4: 640x640 1 Ambulance, 171.1ms\n",
      "video 1/1 (frame 410/908) C:\\Users\\ragha\\Amblane.mp4: 640x640 1 Ambulance, 170.1ms\n",
      "video 1/1 (frame 411/908) C:\\Users\\ragha\\Amblane.mp4: 640x640 1 Ambulance, 172.6ms\n",
      "video 1/1 (frame 412/908) C:\\Users\\ragha\\Amblane.mp4: 640x640 1 Ambulance, 173.1ms\n",
      "video 1/1 (frame 413/908) C:\\Users\\ragha\\Amblane.mp4: 640x640 1 Ambulance, 169.2ms\n",
      "video 1/1 (frame 414/908) C:\\Users\\ragha\\Amblane.mp4: 640x640 1 Ambulance, 172.1ms\n",
      "video 1/1 (frame 415/908) C:\\Users\\ragha\\Amblane.mp4: 640x640 1 Ambulance, 172.5ms\n",
      "video 1/1 (frame 416/908) C:\\Users\\ragha\\Amblane.mp4: 640x640 1 Ambulance, 174.6ms\n",
      "video 1/1 (frame 417/908) C:\\Users\\ragha\\Amblane.mp4: 640x640 1 Ambulance, 171.5ms\n",
      "video 1/1 (frame 418/908) C:\\Users\\ragha\\Amblane.mp4: 640x640 1 Ambulance, 171.6ms\n",
      "video 1/1 (frame 419/908) C:\\Users\\ragha\\Amblane.mp4: 640x640 1 Ambulance, 174.1ms\n",
      "video 1/1 (frame 420/908) C:\\Users\\ragha\\Amblane.mp4: 640x640 1 Ambulance, 174.6ms\n",
      "video 1/1 (frame 421/908) C:\\Users\\ragha\\Amblane.mp4: 640x640 1 Ambulance, 174.9ms\n",
      "video 1/1 (frame 422/908) C:\\Users\\ragha\\Amblane.mp4: 640x640 1 Ambulance, 172.6ms\n",
      "video 1/1 (frame 423/908) C:\\Users\\ragha\\Amblane.mp4: 640x640 1 Ambulance, 179.7ms\n",
      "video 1/1 (frame 424/908) C:\\Users\\ragha\\Amblane.mp4: 640x640 1 Ambulance, 172.1ms\n",
      "video 1/1 (frame 425/908) C:\\Users\\ragha\\Amblane.mp4: 640x640 1 Ambulance, 175.1ms\n",
      "video 1/1 (frame 426/908) C:\\Users\\ragha\\Amblane.mp4: 640x640 1 Ambulance, 172.7ms\n",
      "video 1/1 (frame 427/908) C:\\Users\\ragha\\Amblane.mp4: 640x640 1 Ambulance, 168.5ms\n",
      "video 1/1 (frame 428/908) C:\\Users\\ragha\\Amblane.mp4: 640x640 1 Ambulance, 172.1ms\n",
      "video 1/1 (frame 429/908) C:\\Users\\ragha\\Amblane.mp4: 640x640 1 Ambulance, 170.1ms\n",
      "video 1/1 (frame 430/908) C:\\Users\\ragha\\Amblane.mp4: 640x640 1 Ambulance, 171.0ms\n",
      "video 1/1 (frame 431/908) C:\\Users\\ragha\\Amblane.mp4: 640x640 1 Ambulance, 174.1ms\n",
      "video 1/1 (frame 432/908) C:\\Users\\ragha\\Amblane.mp4: 640x640 1 Ambulance, 174.1ms\n",
      "video 1/1 (frame 433/908) C:\\Users\\ragha\\Amblane.mp4: 640x640 1 Ambulance, 171.1ms\n",
      "video 1/1 (frame 434/908) C:\\Users\\ragha\\Amblane.mp4: 640x640 1 Ambulance, 171.2ms\n",
      "video 1/1 (frame 435/908) C:\\Users\\ragha\\Amblane.mp4: 640x640 1 Ambulance, 175.6ms\n",
      "video 1/1 (frame 436/908) C:\\Users\\ragha\\Amblane.mp4: 640x640 1 Ambulance, 170.1ms\n",
      "video 1/1 (frame 437/908) C:\\Users\\ragha\\Amblane.mp4: 640x640 1 Ambulance, 170.0ms\n",
      "video 1/1 (frame 438/908) C:\\Users\\ragha\\Amblane.mp4: 640x640 1 Ambulance, 167.7ms\n",
      "video 1/1 (frame 439/908) C:\\Users\\ragha\\Amblane.mp4: 640x640 1 Ambulance, 167.5ms\n",
      "video 1/1 (frame 440/908) C:\\Users\\ragha\\Amblane.mp4: 640x640 1 Ambulance, 157.1ms\n",
      "video 1/1 (frame 441/908) C:\\Users\\ragha\\Amblane.mp4: 640x640 1 Ambulance, 172.7ms\n",
      "video 1/1 (frame 442/908) C:\\Users\\ragha\\Amblane.mp4: 640x640 1 Ambulance, 177.4ms\n",
      "video 1/1 (frame 443/908) C:\\Users\\ragha\\Amblane.mp4: 640x640 1 Ambulance, 169.1ms\n",
      "video 1/1 (frame 444/908) C:\\Users\\ragha\\Amblane.mp4: 640x640 1 Ambulance, 172.2ms\n",
      "video 1/1 (frame 445/908) C:\\Users\\ragha\\Amblane.mp4: 640x640 1 Ambulance, 162.3ms\n",
      "video 1/1 (frame 446/908) C:\\Users\\ragha\\Amblane.mp4: 640x640 1 Ambulance, 172.1ms\n",
      "video 1/1 (frame 447/908) C:\\Users\\ragha\\Amblane.mp4: 640x640 1 Ambulance, 166.1ms\n",
      "video 1/1 (frame 448/908) C:\\Users\\ragha\\Amblane.mp4: 640x640 1 Ambulance, 172.7ms\n",
      "video 1/1 (frame 449/908) C:\\Users\\ragha\\Amblane.mp4: 640x640 1 Ambulance, 169.5ms\n",
      "video 1/1 (frame 450/908) C:\\Users\\ragha\\Amblane.mp4: 640x640 1 Ambulance, 164.7ms\n",
      "video 1/1 (frame 451/908) C:\\Users\\ragha\\Amblane.mp4: 640x640 1 Ambulance, 158.5ms\n",
      "video 1/1 (frame 452/908) C:\\Users\\ragha\\Amblane.mp4: 640x640 1 Ambulance, 160.5ms\n",
      "video 1/1 (frame 453/908) C:\\Users\\ragha\\Amblane.mp4: 640x640 1 Ambulance, 173.8ms\n",
      "video 1/1 (frame 454/908) C:\\Users\\ragha\\Amblane.mp4: 640x640 1 Ambulance, 172.9ms\n",
      "video 1/1 (frame 455/908) C:\\Users\\ragha\\Amblane.mp4: 640x640 1 Ambulance, 164.7ms\n",
      "video 1/1 (frame 456/908) C:\\Users\\ragha\\Amblane.mp4: 640x640 1 Ambulance, 169.3ms\n",
      "video 1/1 (frame 457/908) C:\\Users\\ragha\\Amblane.mp4: 640x640 1 Ambulance, 165.6ms\n",
      "video 1/1 (frame 458/908) C:\\Users\\ragha\\Amblane.mp4: 640x640 1 Ambulance, 173.1ms\n",
      "video 1/1 (frame 459/908) C:\\Users\\ragha\\Amblane.mp4: 640x640 1 Ambulance, 175.6ms\n",
      "video 1/1 (frame 460/908) C:\\Users\\ragha\\Amblane.mp4: 640x640 1 Ambulance, 175.6ms\n",
      "video 1/1 (frame 461/908) C:\\Users\\ragha\\Amblane.mp4: 640x640 1 Ambulance, 176.6ms\n",
      "video 1/1 (frame 462/908) C:\\Users\\ragha\\Amblane.mp4: 640x640 1 Ambulance, 172.6ms\n",
      "video 1/1 (frame 463/908) C:\\Users\\ragha\\Amblane.mp4: 640x640 1 Ambulance, 174.1ms\n",
      "video 1/1 (frame 464/908) C:\\Users\\ragha\\Amblane.mp4: 640x640 1 Ambulance, 174.1ms\n",
      "video 1/1 (frame 465/908) C:\\Users\\ragha\\Amblane.mp4: 640x640 1 Ambulance, 174.4ms\n",
      "video 1/1 (frame 466/908) C:\\Users\\ragha\\Amblane.mp4: 640x640 1 Ambulance, 173.1ms\n",
      "video 1/1 (frame 467/908) C:\\Users\\ragha\\Amblane.mp4: 640x640 1 Ambulance, 174.1ms\n",
      "video 1/1 (frame 468/908) C:\\Users\\ragha\\Amblane.mp4: 640x640 1 Ambulance, 174.1ms\n",
      "video 1/1 (frame 469/908) C:\\Users\\ragha\\Amblane.mp4: 640x640 1 Ambulance, 176.1ms\n",
      "video 1/1 (frame 470/908) C:\\Users\\ragha\\Amblane.mp4: 640x640 1 Ambulance, 173.1ms\n",
      "video 1/1 (frame 471/908) C:\\Users\\ragha\\Amblane.mp4: 640x640 1 Ambulance, 177.1ms\n",
      "video 1/1 (frame 472/908) C:\\Users\\ragha\\Amblane.mp4: 640x640 1 Ambulance, 170.1ms\n",
      "video 1/1 (frame 473/908) C:\\Users\\ragha\\Amblane.mp4: 640x640 1 Ambulance, 173.1ms\n",
      "video 1/1 (frame 474/908) C:\\Users\\ragha\\Amblane.mp4: 640x640 1 Ambulance, 175.1ms\n",
      "video 1/1 (frame 475/908) C:\\Users\\ragha\\Amblane.mp4: 640x640 1 Ambulance, 174.6ms\n",
      "video 1/1 (frame 476/908) C:\\Users\\ragha\\Amblane.mp4: 640x640 1 Ambulance, 172.8ms\n",
      "video 1/1 (frame 477/908) C:\\Users\\ragha\\Amblane.mp4: 640x640 1 Ambulance, 173.6ms\n",
      "video 1/1 (frame 478/908) C:\\Users\\ragha\\Amblane.mp4: 640x640 1 Ambulance, 172.6ms\n",
      "video 1/1 (frame 479/908) C:\\Users\\ragha\\Amblane.mp4: 640x640 1 Ambulance, 172.1ms\n",
      "video 1/1 (frame 480/908) C:\\Users\\ragha\\Amblane.mp4: 640x640 1 Ambulance, 176.4ms\n",
      "video 1/1 (frame 481/908) C:\\Users\\ragha\\Amblane.mp4: 640x640 1 Ambulance, 174.1ms\n",
      "video 1/1 (frame 482/908) C:\\Users\\ragha\\Amblane.mp4: 640x640 1 Ambulance, 178.1ms\n",
      "video 1/1 (frame 483/908) C:\\Users\\ragha\\Amblane.mp4: 640x640 1 Ambulance, 173.1ms\n",
      "video 1/1 (frame 484/908) C:\\Users\\ragha\\Amblane.mp4: 640x640 1 Ambulance, 171.1ms\n",
      "video 1/1 (frame 485/908) C:\\Users\\ragha\\Amblane.mp4: 640x640 1 Ambulance, 174.1ms\n",
      "video 1/1 (frame 486/908) C:\\Users\\ragha\\Amblane.mp4: 640x640 1 Ambulance, 175.6ms\n",
      "video 1/1 (frame 487/908) C:\\Users\\ragha\\Amblane.mp4: 640x640 1 Ambulance, 173.1ms\n",
      "video 1/1 (frame 488/908) C:\\Users\\ragha\\Amblane.mp4: 640x640 1 Ambulance, 174.1ms\n",
      "video 1/1 (frame 489/908) C:\\Users\\ragha\\Amblane.mp4: 640x640 1 Ambulance, 169.1ms\n",
      "video 1/1 (frame 490/908) C:\\Users\\ragha\\Amblane.mp4: 640x640 1 Ambulance, 172.6ms\n"
     ]
    },
    {
     "name": "stdout",
     "output_type": "stream",
     "text": [
      "video 1/1 (frame 491/908) C:\\Users\\ragha\\Amblane.mp4: 640x640 1 Ambulance, 171.5ms\n",
      "video 1/1 (frame 492/908) C:\\Users\\ragha\\Amblane.mp4: 640x640 1 Ambulance, 176.1ms\n",
      "video 1/1 (frame 493/908) C:\\Users\\ragha\\Amblane.mp4: 640x640 1 Ambulance, 171.5ms\n",
      "video 1/1 (frame 494/908) C:\\Users\\ragha\\Amblane.mp4: 640x640 1 Ambulance, 171.9ms\n",
      "video 1/1 (frame 495/908) C:\\Users\\ragha\\Amblane.mp4: 640x640 1 Ambulance, 172.1ms\n",
      "video 1/1 (frame 496/908) C:\\Users\\ragha\\Amblane.mp4: 640x640 1 Ambulance, 171.9ms\n",
      "video 1/1 (frame 497/908) C:\\Users\\ragha\\Amblane.mp4: 640x640 1 Ambulance, 170.7ms\n",
      "video 1/1 (frame 498/908) C:\\Users\\ragha\\Amblane.mp4: 640x640 1 Ambulance, 172.2ms\n",
      "video 1/1 (frame 499/908) C:\\Users\\ragha\\Amblane.mp4: 640x640 1 Ambulance, 170.1ms\n",
      "video 1/1 (frame 500/908) C:\\Users\\ragha\\Amblane.mp4: 640x640 1 Ambulance, 172.5ms\n",
      "video 1/1 (frame 501/908) C:\\Users\\ragha\\Amblane.mp4: 640x640 1 Ambulance, 177.1ms\n",
      "video 1/1 (frame 502/908) C:\\Users\\ragha\\Amblane.mp4: 640x640 1 Ambulance, 172.1ms\n",
      "video 1/1 (frame 503/908) C:\\Users\\ragha\\Amblane.mp4: 640x640 1 Ambulance, 179.1ms\n",
      "video 1/1 (frame 504/908) C:\\Users\\ragha\\Amblane.mp4: 640x640 1 Ambulance, 174.6ms\n",
      "video 1/1 (frame 505/908) C:\\Users\\ragha\\Amblane.mp4: 640x640 1 Ambulance, 171.6ms\n",
      "video 1/1 (frame 506/908) C:\\Users\\ragha\\Amblane.mp4: 640x640 1 Ambulance, 172.1ms\n",
      "video 1/1 (frame 507/908) C:\\Users\\ragha\\Amblane.mp4: 640x640 1 Ambulance, 174.1ms\n",
      "video 1/1 (frame 508/908) C:\\Users\\ragha\\Amblane.mp4: 640x640 1 Ambulance, 176.1ms\n",
      "video 1/1 (frame 509/908) C:\\Users\\ragha\\Amblane.mp4: 640x640 1 Ambulance, 173.2ms\n",
      "video 1/1 (frame 510/908) C:\\Users\\ragha\\Amblane.mp4: 640x640 1 Ambulance, 174.1ms\n",
      "video 1/1 (frame 511/908) C:\\Users\\ragha\\Amblane.mp4: 640x640 1 Ambulance, 187.1ms\n",
      "video 1/1 (frame 512/908) C:\\Users\\ragha\\Amblane.mp4: 640x640 1 Ambulance, 181.7ms\n",
      "video 1/1 (frame 513/908) C:\\Users\\ragha\\Amblane.mp4: 640x640 1 Ambulance, 175.1ms\n",
      "video 1/1 (frame 514/908) C:\\Users\\ragha\\Amblane.mp4: 640x640 1 Ambulance, 173.1ms\n",
      "video 1/1 (frame 515/908) C:\\Users\\ragha\\Amblane.mp4: 640x640 1 Ambulance, 166.0ms\n",
      "video 1/1 (frame 516/908) C:\\Users\\ragha\\Amblane.mp4: 640x640 1 Ambulance, 173.1ms\n",
      "video 1/1 (frame 517/908) C:\\Users\\ragha\\Amblane.mp4: 640x640 1 Ambulance, 178.8ms\n",
      "video 1/1 (frame 518/908) C:\\Users\\ragha\\Amblane.mp4: 640x640 1 Ambulance, 168.3ms\n",
      "video 1/1 (frame 519/908) C:\\Users\\ragha\\Amblane.mp4: 640x640 1 Ambulance, 168.2ms\n",
      "video 1/1 (frame 520/908) C:\\Users\\ragha\\Amblane.mp4: 640x640 1 Ambulance, 172.7ms\n",
      "video 1/1 (frame 521/908) C:\\Users\\ragha\\Amblane.mp4: 640x640 1 Ambulance, 177.6ms\n",
      "video 1/1 (frame 522/908) C:\\Users\\ragha\\Amblane.mp4: 640x640 1 Ambulance, 166.2ms\n",
      "video 1/1 (frame 523/908) C:\\Users\\ragha\\Amblane.mp4: 640x640 1 Ambulance, 165.6ms\n",
      "video 1/1 (frame 524/908) C:\\Users\\ragha\\Amblane.mp4: 640x640 1 Ambulance, 167.7ms\n",
      "video 1/1 (frame 525/908) C:\\Users\\ragha\\Amblane.mp4: 640x640 1 Ambulance, 171.2ms\n",
      "video 1/1 (frame 526/908) C:\\Users\\ragha\\Amblane.mp4: 640x640 1 Ambulance, 174.0ms\n",
      "video 1/1 (frame 527/908) C:\\Users\\ragha\\Amblane.mp4: 640x640 1 Ambulance, 169.3ms\n",
      "video 1/1 (frame 528/908) C:\\Users\\ragha\\Amblane.mp4: 640x640 1 Ambulance, 183.1ms\n",
      "video 1/1 (frame 529/908) C:\\Users\\ragha\\Amblane.mp4: 640x640 1 Ambulance, 166.7ms\n",
      "video 1/1 (frame 530/908) C:\\Users\\ragha\\Amblane.mp4: 640x640 1 Ambulance, 173.1ms\n",
      "video 1/1 (frame 531/908) C:\\Users\\ragha\\Amblane.mp4: 640x640 1 Ambulance, 168.7ms\n",
      "video 1/1 (frame 532/908) C:\\Users\\ragha\\Amblane.mp4: 640x640 1 Ambulance, 172.6ms\n",
      "video 1/1 (frame 533/908) C:\\Users\\ragha\\Amblane.mp4: 640x640 1 Ambulance, 169.7ms\n",
      "video 1/1 (frame 534/908) C:\\Users\\ragha\\Amblane.mp4: 640x640 1 Ambulance, 175.1ms\n",
      "video 1/1 (frame 535/908) C:\\Users\\ragha\\Amblane.mp4: 640x640 1 Ambulance, 174.7ms\n",
      "video 1/1 (frame 536/908) C:\\Users\\ragha\\Amblane.mp4: 640x640 1 Ambulance, 188.1ms\n",
      "video 1/1 (frame 537/908) C:\\Users\\ragha\\Amblane.mp4: 640x640 1 Ambulance, 175.1ms\n",
      "video 1/1 (frame 538/908) C:\\Users\\ragha\\Amblane.mp4: 640x640 1 Ambulance, 173.5ms\n",
      "video 1/1 (frame 539/908) C:\\Users\\ragha\\Amblane.mp4: 640x640 1 Ambulance, 171.1ms\n",
      "video 1/1 (frame 540/908) C:\\Users\\ragha\\Amblane.mp4: 640x640 1 Ambulance, 177.1ms\n",
      "video 1/1 (frame 541/908) C:\\Users\\ragha\\Amblane.mp4: 640x640 1 Ambulance, 177.1ms\n",
      "video 1/1 (frame 542/908) C:\\Users\\ragha\\Amblane.mp4: 640x640 1 Ambulance, 171.1ms\n",
      "video 1/1 (frame 543/908) C:\\Users\\ragha\\Amblane.mp4: 640x640 1 Ambulance, 174.1ms\n",
      "video 1/1 (frame 544/908) C:\\Users\\ragha\\Amblane.mp4: 640x640 1 Ambulance, 172.1ms\n",
      "video 1/1 (frame 545/908) C:\\Users\\ragha\\Amblane.mp4: 640x640 1 Ambulance, 174.6ms\n",
      "video 1/1 (frame 546/908) C:\\Users\\ragha\\Amblane.mp4: 640x640 1 Ambulance, 172.5ms\n",
      "video 1/1 (frame 547/908) C:\\Users\\ragha\\Amblane.mp4: 640x640 1 Ambulance, 173.6ms\n",
      "video 1/1 (frame 548/908) C:\\Users\\ragha\\Amblane.mp4: 640x640 1 Ambulance, 171.9ms\n",
      "video 1/1 (frame 549/908) C:\\Users\\ragha\\Amblane.mp4: 640x640 1 Ambulance, 172.5ms\n",
      "video 1/1 (frame 550/908) C:\\Users\\ragha\\Amblane.mp4: 640x640 1 Ambulance, 173.4ms\n",
      "video 1/1 (frame 551/908) C:\\Users\\ragha\\Amblane.mp4: 640x640 1 Ambulance, 177.5ms\n",
      "video 1/1 (frame 552/908) C:\\Users\\ragha\\Amblane.mp4: 640x640 1 Ambulance, 172.1ms\n",
      "video 1/1 (frame 553/908) C:\\Users\\ragha\\Amblane.mp4: 640x640 1 Ambulance, 176.1ms\n",
      "video 1/1 (frame 554/908) C:\\Users\\ragha\\Amblane.mp4: 640x640 1 Ambulance, 172.6ms\n",
      "video 1/1 (frame 555/908) C:\\Users\\ragha\\Amblane.mp4: 640x640 1 Ambulance, 174.0ms\n",
      "video 1/1 (frame 556/908) C:\\Users\\ragha\\Amblane.mp4: 640x640 1 Ambulance, 173.6ms\n",
      "video 1/1 (frame 557/908) C:\\Users\\ragha\\Amblane.mp4: 640x640 1 Ambulance, 173.1ms\n",
      "video 1/1 (frame 558/908) C:\\Users\\ragha\\Amblane.mp4: 640x640 1 Ambulance, 176.1ms\n",
      "video 1/1 (frame 559/908) C:\\Users\\ragha\\Amblane.mp4: 640x640 1 Ambulance, 173.5ms\n",
      "video 1/1 (frame 560/908) C:\\Users\\ragha\\Amblane.mp4: 640x640 1 Ambulance, 174.5ms\n",
      "video 1/1 (frame 561/908) C:\\Users\\ragha\\Amblane.mp4: 640x640 1 Ambulance, 180.1ms\n",
      "video 1/1 (frame 562/908) C:\\Users\\ragha\\Amblane.mp4: 640x640 1 Ambulance, 171.8ms\n",
      "video 1/1 (frame 563/908) C:\\Users\\ragha\\Amblane.mp4: 640x640 1 Ambulance, 172.4ms\n",
      "video 1/1 (frame 564/908) C:\\Users\\ragha\\Amblane.mp4: 640x640 1 Ambulance, 170.2ms\n",
      "video 1/1 (frame 565/908) C:\\Users\\ragha\\Amblane.mp4: 640x640 1 Ambulance, 172.9ms\n",
      "video 1/1 (frame 566/908) C:\\Users\\ragha\\Amblane.mp4: 640x640 1 Ambulance, 173.1ms\n",
      "video 1/1 (frame 567/908) C:\\Users\\ragha\\Amblane.mp4: 640x640 1 Ambulance, 174.4ms\n",
      "video 1/1 (frame 568/908) C:\\Users\\ragha\\Amblane.mp4: 640x640 1 Ambulance, 171.1ms\n",
      "video 1/1 (frame 569/908) C:\\Users\\ragha\\Amblane.mp4: 640x640 1 Ambulance, 174.4ms\n",
      "video 1/1 (frame 570/908) C:\\Users\\ragha\\Amblane.mp4: 640x640 1 Ambulance, 173.1ms\n",
      "video 1/1 (frame 571/908) C:\\Users\\ragha\\Amblane.mp4: 640x640 1 Ambulance, 169.7ms\n",
      "video 1/1 (frame 572/908) C:\\Users\\ragha\\Amblane.mp4: 640x640 1 Ambulance, 172.3ms\n",
      "video 1/1 (frame 573/908) C:\\Users\\ragha\\Amblane.mp4: 640x640 1 Ambulance, 175.5ms\n",
      "video 1/1 (frame 574/908) C:\\Users\\ragha\\Amblane.mp4: 640x640 1 Ambulance, 173.0ms\n",
      "video 1/1 (frame 575/908) C:\\Users\\ragha\\Amblane.mp4: 640x640 1 Ambulance, 174.1ms\n",
      "video 1/1 (frame 576/908) C:\\Users\\ragha\\Amblane.mp4: 640x640 1 Ambulance, 178.1ms\n",
      "video 1/1 (frame 577/908) C:\\Users\\ragha\\Amblane.mp4: 640x640 1 Ambulance, 173.7ms\n",
      "video 1/1 (frame 578/908) C:\\Users\\ragha\\Amblane.mp4: 640x640 1 Ambulance, 175.2ms\n",
      "video 1/1 (frame 579/908) C:\\Users\\ragha\\Amblane.mp4: 640x640 1 Ambulance, 173.1ms\n",
      "video 1/1 (frame 580/908) C:\\Users\\ragha\\Amblane.mp4: 640x640 1 Ambulance, 173.1ms\n",
      "video 1/1 (frame 581/908) C:\\Users\\ragha\\Amblane.mp4: 640x640 1 Ambulance, 171.1ms\n",
      "video 1/1 (frame 582/908) C:\\Users\\ragha\\Amblane.mp4: 640x640 1 Ambulance, 173.4ms\n",
      "video 1/1 (frame 583/908) C:\\Users\\ragha\\Amblane.mp4: 640x640 1 Ambulance, 171.1ms\n",
      "video 1/1 (frame 584/908) C:\\Users\\ragha\\Amblane.mp4: 640x640 1 Ambulance, 171.1ms\n",
      "video 1/1 (frame 585/908) C:\\Users\\ragha\\Amblane.mp4: 640x640 1 Ambulance, 173.3ms\n",
      "video 1/1 (frame 586/908) C:\\Users\\ragha\\Amblane.mp4: 640x640 1 Ambulance, 170.5ms\n",
      "video 1/1 (frame 587/908) C:\\Users\\ragha\\Amblane.mp4: 640x640 1 Ambulance, 171.9ms\n",
      "video 1/1 (frame 588/908) C:\\Users\\ragha\\Amblane.mp4: 640x640 1 Ambulance, 169.1ms\n",
      "video 1/1 (frame 589/908) C:\\Users\\ragha\\Amblane.mp4: 640x640 1 Ambulance, 172.6ms\n"
     ]
    },
    {
     "name": "stdout",
     "output_type": "stream",
     "text": [
      "video 1/1 (frame 590/908) C:\\Users\\ragha\\Amblane.mp4: 640x640 1 Ambulance, 173.1ms\n",
      "video 1/1 (frame 591/908) C:\\Users\\ragha\\Amblane.mp4: 640x640 1 Ambulance, 171.1ms\n",
      "video 1/1 (frame 592/908) C:\\Users\\ragha\\Amblane.mp4: 640x640 1 Ambulance, 175.0ms\n",
      "video 1/1 (frame 593/908) C:\\Users\\ragha\\Amblane.mp4: 640x640 1 Ambulance, 170.1ms\n",
      "video 1/1 (frame 594/908) C:\\Users\\ragha\\Amblane.mp4: 640x640 1 Ambulance, 171.1ms\n",
      "video 1/1 (frame 595/908) C:\\Users\\ragha\\Amblane.mp4: 640x640 1 Ambulance, 169.1ms\n",
      "video 1/1 (frame 596/908) C:\\Users\\ragha\\Amblane.mp4: 640x640 1 Ambulance, 164.1ms\n",
      "video 1/1 (frame 597/908) C:\\Users\\ragha\\Amblane.mp4: 640x640 1 Ambulance, 173.1ms\n",
      "video 1/1 (frame 598/908) C:\\Users\\ragha\\Amblane.mp4: 640x640 1 Ambulance, 171.9ms\n",
      "video 1/1 (frame 599/908) C:\\Users\\ragha\\Amblane.mp4: 640x640 1 Ambulance, 173.5ms\n",
      "video 1/1 (frame 600/908) C:\\Users\\ragha\\Amblane.mp4: 640x640 1 Ambulance, 169.8ms\n",
      "video 1/1 (frame 601/908) C:\\Users\\ragha\\Amblane.mp4: 640x640 1 Ambulance, 177.5ms\n",
      "video 1/1 (frame 602/908) C:\\Users\\ragha\\Amblane.mp4: 640x640 1 Ambulance, 169.1ms\n",
      "video 1/1 (frame 603/908) C:\\Users\\ragha\\Amblane.mp4: 640x640 1 Ambulance, 169.4ms\n",
      "video 1/1 (frame 604/908) C:\\Users\\ragha\\Amblane.mp4: 640x640 1 Ambulance, 156.9ms\n",
      "video 1/1 (frame 605/908) C:\\Users\\ragha\\Amblane.mp4: 640x640 1 Ambulance, 175.7ms\n",
      "video 1/1 (frame 606/908) C:\\Users\\ragha\\Amblane.mp4: 640x640 1 Ambulance, 162.8ms\n",
      "video 1/1 (frame 607/908) C:\\Users\\ragha\\Amblane.mp4: 640x640 1 Ambulance, 170.5ms\n",
      "video 1/1 (frame 608/908) C:\\Users\\ragha\\Amblane.mp4: 640x640 1 Ambulance, 165.5ms\n",
      "video 1/1 (frame 609/908) C:\\Users\\ragha\\Amblane.mp4: 640x640 1 Ambulance, 162.9ms\n",
      "video 1/1 (frame 610/908) C:\\Users\\ragha\\Amblane.mp4: 640x640 1 Ambulance, 166.3ms\n",
      "video 1/1 (frame 611/908) C:\\Users\\ragha\\Amblane.mp4: 640x640 1 Ambulance, 168.7ms\n",
      "video 1/1 (frame 612/908) C:\\Users\\ragha\\Amblane.mp4: 640x640 1 Ambulance, 188.1ms\n",
      "video 1/1 (frame 613/908) C:\\Users\\ragha\\Amblane.mp4: 640x640 1 Ambulance, 342.8ms\n",
      "video 1/1 (frame 614/908) C:\\Users\\ragha\\Amblane.mp4: 640x640 1 Ambulance, 206.1ms\n",
      "video 1/1 (frame 615/908) C:\\Users\\ragha\\Amblane.mp4: 640x640 1 Ambulance, 187.9ms\n",
      "video 1/1 (frame 616/908) C:\\Users\\ragha\\Amblane.mp4: 640x640 1 Ambulance, 187.1ms\n",
      "video 1/1 (frame 617/908) C:\\Users\\ragha\\Amblane.mp4: 640x640 1 Ambulance, 193.6ms\n",
      "video 1/1 (frame 618/908) C:\\Users\\ragha\\Amblane.mp4: 640x640 1 Ambulance, 191.3ms\n",
      "video 1/1 (frame 619/908) C:\\Users\\ragha\\Amblane.mp4: 640x640 1 Ambulance, 186.1ms\n",
      "video 1/1 (frame 620/908) C:\\Users\\ragha\\Amblane.mp4: 640x640 1 Ambulance, 181.2ms\n",
      "video 1/1 (frame 621/908) C:\\Users\\ragha\\Amblane.mp4: 640x640 1 Ambulance, 175.3ms\n",
      "video 1/1 (frame 622/908) C:\\Users\\ragha\\Amblane.mp4: 640x640 1 Ambulance, 176.1ms\n",
      "video 1/1 (frame 623/908) C:\\Users\\ragha\\Amblane.mp4: 640x640 1 Ambulance, 174.1ms\n",
      "video 1/1 (frame 624/908) C:\\Users\\ragha\\Amblane.mp4: 640x640 1 Ambulance, 173.6ms\n",
      "video 1/1 (frame 625/908) C:\\Users\\ragha\\Amblane.mp4: 640x640 1 Ambulance, 173.6ms\n",
      "video 1/1 (frame 626/908) C:\\Users\\ragha\\Amblane.mp4: 640x640 1 Ambulance, 173.1ms\n",
      "video 1/1 (frame 627/908) C:\\Users\\ragha\\Amblane.mp4: 640x640 1 Ambulance, 172.1ms\n",
      "video 1/1 (frame 628/908) C:\\Users\\ragha\\Amblane.mp4: 640x640 1 Ambulance, 183.1ms\n",
      "video 1/1 (frame 629/908) C:\\Users\\ragha\\Amblane.mp4: 640x640 1 Ambulance, 175.1ms\n",
      "video 1/1 (frame 630/908) C:\\Users\\ragha\\Amblane.mp4: 640x640 1 Ambulance, 174.1ms\n",
      "video 1/1 (frame 631/908) C:\\Users\\ragha\\Amblane.mp4: 640x640 1 Ambulance, 171.1ms\n",
      "video 1/1 (frame 632/908) C:\\Users\\ragha\\Amblane.mp4: 640x640 1 Ambulance, 174.1ms\n",
      "video 1/1 (frame 633/908) C:\\Users\\ragha\\Amblane.mp4: 640x640 1 Ambulance, 173.3ms\n",
      "video 1/1 (frame 634/908) C:\\Users\\ragha\\Amblane.mp4: 640x640 1 Ambulance, 180.6ms\n",
      "video 1/1 (frame 635/908) C:\\Users\\ragha\\Amblane.mp4: 640x640 1 Ambulance, 173.6ms\n",
      "video 1/1 (frame 636/908) C:\\Users\\ragha\\Amblane.mp4: 640x640 1 Ambulance, 180.1ms\n",
      "video 1/1 (frame 637/908) C:\\Users\\ragha\\Amblane.mp4: 640x640 1 Ambulance, 191.4ms\n",
      "video 1/1 (frame 638/908) C:\\Users\\ragha\\Amblane.mp4: 640x640 1 Ambulance, 192.7ms\n",
      "video 1/1 (frame 639/908) C:\\Users\\ragha\\Amblane.mp4: 640x640 1 Ambulance, 176.6ms\n",
      "video 1/1 (frame 640/908) C:\\Users\\ragha\\Amblane.mp4: 640x640 1 Ambulance, 174.6ms\n",
      "video 1/1 (frame 641/908) C:\\Users\\ragha\\Amblane.mp4: 640x640 1 Ambulance, 175.1ms\n",
      "video 1/1 (frame 642/908) C:\\Users\\ragha\\Amblane.mp4: 640x640 1 Ambulance, 171.6ms\n",
      "video 1/1 (frame 643/908) C:\\Users\\ragha\\Amblane.mp4: 640x640 1 Ambulance, 170.1ms\n",
      "video 1/1 (frame 644/908) C:\\Users\\ragha\\Amblane.mp4: 640x640 1 Ambulance, 174.1ms\n",
      "video 1/1 (frame 645/908) C:\\Users\\ragha\\Amblane.mp4: 640x640 1 Ambulance, 173.1ms\n",
      "video 1/1 (frame 646/908) C:\\Users\\ragha\\Amblane.mp4: 640x640 1 Ambulance, 174.1ms\n",
      "video 1/1 (frame 647/908) C:\\Users\\ragha\\Amblane.mp4: 640x640 1 Ambulance, 173.1ms\n",
      "video 1/1 (frame 648/908) C:\\Users\\ragha\\Amblane.mp4: 640x640 1 Ambulance, 172.6ms\n",
      "video 1/1 (frame 649/908) C:\\Users\\ragha\\Amblane.mp4: 640x640 1 Ambulance, 173.6ms\n",
      "video 1/1 (frame 650/908) C:\\Users\\ragha\\Amblane.mp4: 640x640 1 Ambulance, 173.1ms\n",
      "video 1/1 (frame 651/908) C:\\Users\\ragha\\Amblane.mp4: 640x640 1 Ambulance, 175.6ms\n",
      "video 1/1 (frame 652/908) C:\\Users\\ragha\\Amblane.mp4: 640x640 1 Ambulance, 186.2ms\n",
      "video 1/1 (frame 653/908) C:\\Users\\ragha\\Amblane.mp4: 640x640 1 Ambulance, 195.7ms\n",
      "video 1/1 (frame 654/908) C:\\Users\\ragha\\Amblane.mp4: 640x640 1 Ambulance, 175.6ms\n",
      "video 1/1 (frame 655/908) C:\\Users\\ragha\\Amblane.mp4: 640x640 1 Ambulance, 180.1ms\n",
      "video 1/1 (frame 656/908) C:\\Users\\ragha\\Amblane.mp4: 640x640 1 Ambulance, 172.1ms\n",
      "video 1/1 (frame 657/908) C:\\Users\\ragha\\Amblane.mp4: 640x640 1 Ambulance, 171.4ms\n",
      "video 1/1 (frame 658/908) C:\\Users\\ragha\\Amblane.mp4: 640x640 1 Ambulance, 172.1ms\n",
      "video 1/1 (frame 659/908) C:\\Users\\ragha\\Amblane.mp4: 640x640 1 Ambulance, 171.1ms\n",
      "video 1/1 (frame 660/908) C:\\Users\\ragha\\Amblane.mp4: 640x640 1 Ambulance, 176.1ms\n",
      "video 1/1 (frame 661/908) C:\\Users\\ragha\\Amblane.mp4: 640x640 1 Ambulance, 355.7ms\n",
      "video 1/1 (frame 662/908) C:\\Users\\ragha\\Amblane.mp4: 640x640 1 Ambulance, 247.2ms\n",
      "video 1/1 (frame 663/908) C:\\Users\\ragha\\Amblane.mp4: 640x640 1 Ambulance, 205.5ms\n",
      "video 1/1 (frame 664/908) C:\\Users\\ragha\\Amblane.mp4: 640x640 1 Ambulance, 318.0ms\n",
      "video 1/1 (frame 665/908) C:\\Users\\ragha\\Amblane.mp4: 640x640 1 Ambulance, 196.2ms\n",
      "video 1/1 (frame 666/908) C:\\Users\\ragha\\Amblane.mp4: 640x640 1 Ambulance, 203.7ms\n",
      "video 1/1 (frame 667/908) C:\\Users\\ragha\\Amblane.mp4: 640x640 1 Ambulance, 203.9ms\n",
      "video 1/1 (frame 668/908) C:\\Users\\ragha\\Amblane.mp4: 640x640 1 Ambulance, 181.4ms\n",
      "video 1/1 (frame 669/908) C:\\Users\\ragha\\Amblane.mp4: 640x640 1 Ambulance, 172.2ms\n",
      "video 1/1 (frame 670/908) C:\\Users\\ragha\\Amblane.mp4: 640x640 1 Ambulance, 167.7ms\n",
      "video 1/1 (frame 671/908) C:\\Users\\ragha\\Amblane.mp4: 640x640 1 Ambulance, 178.1ms\n",
      "video 1/1 (frame 672/908) C:\\Users\\ragha\\Amblane.mp4: 640x640 1 Ambulance, 178.2ms\n",
      "video 1/1 (frame 673/908) C:\\Users\\ragha\\Amblane.mp4: 640x640 1 Ambulance, 210.0ms\n",
      "video 1/1 (frame 674/908) C:\\Users\\ragha\\Amblane.mp4: 640x640 1 Ambulance, 173.9ms\n",
      "video 1/1 (frame 675/908) C:\\Users\\ragha\\Amblane.mp4: 640x640 1 Ambulance, 171.9ms\n",
      "video 1/1 (frame 676/908) C:\\Users\\ragha\\Amblane.mp4: 640x640 1 Ambulance, 172.8ms\n",
      "video 1/1 (frame 677/908) C:\\Users\\ragha\\Amblane.mp4: 640x640 1 Ambulance, 209.0ms\n",
      "video 1/1 (frame 678/908) C:\\Users\\ragha\\Amblane.mp4: 640x640 1 Ambulance, 190.7ms\n",
      "video 1/1 (frame 679/908) C:\\Users\\ragha\\Amblane.mp4: 640x640 1 Ambulance, 170.1ms\n",
      "video 1/1 (frame 680/908) C:\\Users\\ragha\\Amblane.mp4: 640x640 1 Ambulance, 166.1ms\n",
      "video 1/1 (frame 681/908) C:\\Users\\ragha\\Amblane.mp4: 640x640 1 Ambulance, 174.3ms\n",
      "video 1/1 (frame 682/908) C:\\Users\\ragha\\Amblane.mp4: 640x640 1 Ambulance, 176.3ms\n",
      "video 1/1 (frame 683/908) C:\\Users\\ragha\\Amblane.mp4: 640x640 1 Ambulance, 180.0ms\n",
      "video 1/1 (frame 684/908) C:\\Users\\ragha\\Amblane.mp4: 640x640 1 Ambulance, 168.2ms\n",
      "video 1/1 (frame 685/908) C:\\Users\\ragha\\Amblane.mp4: 640x640 1 Ambulance, 178.4ms\n",
      "video 1/1 (frame 686/908) C:\\Users\\ragha\\Amblane.mp4: 640x640 1 Ambulance, 184.5ms\n",
      "video 1/1 (frame 687/908) C:\\Users\\ragha\\Amblane.mp4: 640x640 1 Ambulance, 188.1ms\n",
      "video 1/1 (frame 688/908) C:\\Users\\ragha\\Amblane.mp4: 640x640 1 Ambulance, 191.6ms\n"
     ]
    },
    {
     "name": "stdout",
     "output_type": "stream",
     "text": [
      "video 1/1 (frame 689/908) C:\\Users\\ragha\\Amblane.mp4: 640x640 1 Ambulance, 191.3ms\n",
      "video 1/1 (frame 690/908) C:\\Users\\ragha\\Amblane.mp4: 640x640 1 Ambulance, 193.7ms\n",
      "video 1/1 (frame 691/908) C:\\Users\\ragha\\Amblane.mp4: 640x640 1 Ambulance, 205.1ms\n",
      "video 1/1 (frame 692/908) C:\\Users\\ragha\\Amblane.mp4: 640x640 1 Ambulance, 186.5ms\n",
      "video 1/1 (frame 693/908) C:\\Users\\ragha\\Amblane.mp4: 640x640 1 Ambulance, 172.0ms\n",
      "video 1/1 (frame 694/908) C:\\Users\\ragha\\Amblane.mp4: 640x640 1 Ambulance, 174.2ms\n",
      "video 1/1 (frame 695/908) C:\\Users\\ragha\\Amblane.mp4: 640x640 1 Ambulance, 179.6ms\n",
      "video 1/1 (frame 696/908) C:\\Users\\ragha\\Amblane.mp4: 640x640 1 Ambulance, 174.1ms\n",
      "video 1/1 (frame 697/908) C:\\Users\\ragha\\Amblane.mp4: 640x640 1 Ambulance, 173.1ms\n",
      "video 1/1 (frame 698/908) C:\\Users\\ragha\\Amblane.mp4: 640x640 1 Ambulance, 174.1ms\n",
      "video 1/1 (frame 699/908) C:\\Users\\ragha\\Amblane.mp4: 640x640 1 Ambulance, 173.1ms\n",
      "video 1/1 (frame 700/908) C:\\Users\\ragha\\Amblane.mp4: 640x640 1 Ambulance, 174.1ms\n",
      "video 1/1 (frame 701/908) C:\\Users\\ragha\\Amblane.mp4: 640x640 1 Ambulance, 174.7ms\n",
      "video 1/1 (frame 702/908) C:\\Users\\ragha\\Amblane.mp4: 640x640 1 Ambulance, 171.5ms\n",
      "video 1/1 (frame 703/908) C:\\Users\\ragha\\Amblane.mp4: 640x640 1 Ambulance, 172.5ms\n",
      "video 1/1 (frame 704/908) C:\\Users\\ragha\\Amblane.mp4: 640x640 1 Ambulance, 179.1ms\n",
      "video 1/1 (frame 705/908) C:\\Users\\ragha\\Amblane.mp4: 640x640 1 Ambulance, 175.2ms\n",
      "video 1/1 (frame 706/908) C:\\Users\\ragha\\Amblane.mp4: 640x640 1 Ambulance, 176.4ms\n",
      "video 1/1 (frame 707/908) C:\\Users\\ragha\\Amblane.mp4: 640x640 1 Ambulance, 177.1ms\n",
      "video 1/1 (frame 708/908) C:\\Users\\ragha\\Amblane.mp4: 640x640 1 Ambulance, 174.2ms\n",
      "video 1/1 (frame 709/908) C:\\Users\\ragha\\Amblane.mp4: 640x640 1 Ambulance, 176.1ms\n",
      "video 1/1 (frame 710/908) C:\\Users\\ragha\\Amblane.mp4: 640x640 1 Ambulance, 178.9ms\n",
      "video 1/1 (frame 711/908) C:\\Users\\ragha\\Amblane.mp4: 640x640 1 Ambulance, 186.9ms\n",
      "video 1/1 (frame 712/908) C:\\Users\\ragha\\Amblane.mp4: 640x640 1 Ambulance, 178.2ms\n",
      "video 1/1 (frame 713/908) C:\\Users\\ragha\\Amblane.mp4: 640x640 1 Ambulance, 180.1ms\n",
      "video 1/1 (frame 714/908) C:\\Users\\ragha\\Amblane.mp4: 640x640 1 Ambulance, 175.6ms\n",
      "video 1/1 (frame 715/908) C:\\Users\\ragha\\Amblane.mp4: 640x640 1 Ambulance, 172.1ms\n",
      "video 1/1 (frame 716/908) C:\\Users\\ragha\\Amblane.mp4: 640x640 1 Ambulance, 173.1ms\n",
      "video 1/1 (frame 717/908) C:\\Users\\ragha\\Amblane.mp4: 640x640 1 Ambulance, 176.2ms\n",
      "video 1/1 (frame 718/908) C:\\Users\\ragha\\Amblane.mp4: 640x640 1 Ambulance, 179.5ms\n",
      "video 1/1 (frame 719/908) C:\\Users\\ragha\\Amblane.mp4: 640x640 1 Ambulance, 183.5ms\n",
      "video 1/1 (frame 720/908) C:\\Users\\ragha\\Amblane.mp4: 640x640 1 Ambulance, 178.0ms\n",
      "video 1/1 (frame 721/908) C:\\Users\\ragha\\Amblane.mp4: 640x640 1 Ambulance, 190.4ms\n",
      "video 1/1 (frame 722/908) C:\\Users\\ragha\\Amblane.mp4: 640x640 1 Ambulance, 191.2ms\n",
      "video 1/1 (frame 723/908) C:\\Users\\ragha\\Amblane.mp4: 640x640 1 Ambulance, 187.6ms\n",
      "video 1/1 (frame 724/908) C:\\Users\\ragha\\Amblane.mp4: 640x640 1 Ambulance, 187.1ms\n",
      "video 1/1 (frame 725/908) C:\\Users\\ragha\\Amblane.mp4: 640x640 1 Ambulance, 183.1ms\n",
      "video 1/1 (frame 726/908) C:\\Users\\ragha\\Amblane.mp4: 640x640 1 Ambulance, 171.3ms\n",
      "video 1/1 (frame 727/908) C:\\Users\\ragha\\Amblane.mp4: 640x640 1 Ambulance, 198.1ms\n",
      "video 1/1 (frame 728/908) C:\\Users\\ragha\\Amblane.mp4: 640x640 1 Ambulance, 188.1ms\n",
      "video 1/1 (frame 729/908) C:\\Users\\ragha\\Amblane.mp4: 640x640 1 Ambulance, 192.8ms\n",
      "video 1/1 (frame 730/908) C:\\Users\\ragha\\Amblane.mp4: 640x640 1 Ambulance, 187.8ms\n",
      "video 1/1 (frame 731/908) C:\\Users\\ragha\\Amblane.mp4: 640x640 1 Ambulance, 190.1ms\n",
      "video 1/1 (frame 732/908) C:\\Users\\ragha\\Amblane.mp4: 640x640 1 Ambulance, 194.3ms\n",
      "video 1/1 (frame 733/908) C:\\Users\\ragha\\Amblane.mp4: 640x640 1 Ambulance, 185.6ms\n",
      "video 1/1 (frame 734/908) C:\\Users\\ragha\\Amblane.mp4: 640x640 1 Ambulance, 172.6ms\n",
      "video 1/1 (frame 735/908) C:\\Users\\ragha\\Amblane.mp4: 640x640 1 Ambulance, 175.5ms\n",
      "video 1/1 (frame 736/908) C:\\Users\\ragha\\Amblane.mp4: 640x640 1 Ambulance, 169.6ms\n",
      "video 1/1 (frame 737/908) C:\\Users\\ragha\\Amblane.mp4: 640x640 1 Ambulance, 175.6ms\n",
      "video 1/1 (frame 738/908) C:\\Users\\ragha\\Amblane.mp4: 640x640 1 Ambulance, 174.6ms\n",
      "video 1/1 (frame 739/908) C:\\Users\\ragha\\Amblane.mp4: 640x640 1 Ambulance, 181.6ms\n",
      "video 1/1 (frame 740/908) C:\\Users\\ragha\\Amblane.mp4: 640x640 1 Ambulance, 175.9ms\n",
      "video 1/1 (frame 741/908) C:\\Users\\ragha\\Amblane.mp4: 640x640 1 Ambulance, 174.3ms\n",
      "video 1/1 (frame 742/908) C:\\Users\\ragha\\Amblane.mp4: 640x640 1 Ambulance, 166.5ms\n",
      "video 1/1 (frame 743/908) C:\\Users\\ragha\\Amblane.mp4: 640x640 1 Ambulance, 165.1ms\n",
      "video 1/1 (frame 744/908) C:\\Users\\ragha\\Amblane.mp4: 640x640 1 Ambulance, 164.1ms\n",
      "video 1/1 (frame 745/908) C:\\Users\\ragha\\Amblane.mp4: 640x640 1 Ambulance, 169.3ms\n",
      "video 1/1 (frame 746/908) C:\\Users\\ragha\\Amblane.mp4: 640x640 1 Ambulance, 166.2ms\n",
      "video 1/1 (frame 747/908) C:\\Users\\ragha\\Amblane.mp4: 640x640 1 Ambulance, 164.0ms\n",
      "video 1/1 (frame 748/908) C:\\Users\\ragha\\Amblane.mp4: 640x640 1 Ambulance, 163.7ms\n",
      "video 1/1 (frame 749/908) C:\\Users\\ragha\\Amblane.mp4: 640x640 1 Ambulance, 165.0ms\n",
      "video 1/1 (frame 750/908) C:\\Users\\ragha\\Amblane.mp4: 640x640 1 Ambulance, 164.8ms\n",
      "video 1/1 (frame 751/908) C:\\Users\\ragha\\Amblane.mp4: 640x640 1 Ambulance, 168.8ms\n",
      "video 1/1 (frame 752/908) C:\\Users\\ragha\\Amblane.mp4: 640x640 1 Ambulance, 159.4ms\n",
      "video 1/1 (frame 753/908) C:\\Users\\ragha\\Amblane.mp4: 640x640 1 Ambulance, 165.7ms\n",
      "video 1/1 (frame 754/908) C:\\Users\\ragha\\Amblane.mp4: 640x640 1 Ambulance, 169.1ms\n",
      "video 1/1 (frame 755/908) C:\\Users\\ragha\\Amblane.mp4: 640x640 1 Ambulance, 164.7ms\n",
      "video 1/1 (frame 756/908) C:\\Users\\ragha\\Amblane.mp4: 640x640 1 Ambulance, 166.2ms\n",
      "video 1/1 (frame 757/908) C:\\Users\\ragha\\Amblane.mp4: 640x640 1 Ambulance, 168.5ms\n",
      "video 1/1 (frame 758/908) C:\\Users\\ragha\\Amblane.mp4: 640x640 1 Ambulance, 172.8ms\n",
      "video 1/1 (frame 759/908) C:\\Users\\ragha\\Amblane.mp4: 640x640 1 Ambulance, 170.5ms\n",
      "video 1/1 (frame 760/908) C:\\Users\\ragha\\Amblane.mp4: 640x640 1 Ambulance, 194.8ms\n",
      "video 1/1 (frame 761/908) C:\\Users\\ragha\\Amblane.mp4: 640x640 1 Ambulance, 185.1ms\n",
      "video 1/1 (frame 762/908) C:\\Users\\ragha\\Amblane.mp4: 640x640 1 Ambulance, 196.1ms\n",
      "video 1/1 (frame 763/908) C:\\Users\\ragha\\Amblane.mp4: 640x640 1 Ambulance, 191.9ms\n",
      "video 1/1 (frame 764/908) C:\\Users\\ragha\\Amblane.mp4: 640x640 1 Ambulance, 183.1ms\n",
      "video 1/1 (frame 765/908) C:\\Users\\ragha\\Amblane.mp4: 640x640 1 Ambulance, 190.1ms\n",
      "video 1/1 (frame 766/908) C:\\Users\\ragha\\Amblane.mp4: 640x640 1 Ambulance, 188.3ms\n",
      "video 1/1 (frame 767/908) C:\\Users\\ragha\\Amblane.mp4: 640x640 1 Ambulance, 172.2ms\n",
      "video 1/1 (frame 768/908) C:\\Users\\ragha\\Amblane.mp4: 640x640 1 Ambulance, 189.1ms\n",
      "video 1/1 (frame 769/908) C:\\Users\\ragha\\Amblane.mp4: 640x640 1 Ambulance, 173.1ms\n",
      "video 1/1 (frame 770/908) C:\\Users\\ragha\\Amblane.mp4: 640x640 1 Ambulance, 172.3ms\n",
      "video 1/1 (frame 771/908) C:\\Users\\ragha\\Amblane.mp4: 640x640 1 Ambulance, 173.1ms\n",
      "video 1/1 (frame 772/908) C:\\Users\\ragha\\Amblane.mp4: 640x640 1 Ambulance, 170.1ms\n",
      "video 1/1 (frame 773/908) C:\\Users\\ragha\\Amblane.mp4: 640x640 1 Ambulance, 174.1ms\n",
      "video 1/1 (frame 774/908) C:\\Users\\ragha\\Amblane.mp4: 640x640 1 Ambulance, 174.1ms\n",
      "video 1/1 (frame 775/908) C:\\Users\\ragha\\Amblane.mp4: 640x640 1 Ambulance, 171.3ms\n",
      "video 1/1 (frame 776/908) C:\\Users\\ragha\\Amblane.mp4: 640x640 1 Ambulance, 174.1ms\n",
      "video 1/1 (frame 777/908) C:\\Users\\ragha\\Amblane.mp4: 640x640 1 Ambulance, 177.8ms\n",
      "video 1/1 (frame 778/908) C:\\Users\\ragha\\Amblane.mp4: 640x640 1 Ambulance, 175.6ms\n",
      "video 1/1 (frame 779/908) C:\\Users\\ragha\\Amblane.mp4: 640x640 (no detections), 174.1ms\n",
      "video 1/1 (frame 780/908) C:\\Users\\ragha\\Amblane.mp4: 640x640 (no detections), 172.6ms\n",
      "video 1/1 (frame 781/908) C:\\Users\\ragha\\Amblane.mp4: 640x640 1 Ambulance, 174.2ms\n",
      "video 1/1 (frame 782/908) C:\\Users\\ragha\\Amblane.mp4: 640x640 1 Ambulance, 175.1ms\n",
      "video 1/1 (frame 783/908) C:\\Users\\ragha\\Amblane.mp4: 640x640 1 Ambulance, 172.9ms\n",
      "video 1/1 (frame 784/908) C:\\Users\\ragha\\Amblane.mp4: 640x640 (no detections), 178.1ms\n",
      "video 1/1 (frame 785/908) C:\\Users\\ragha\\Amblane.mp4: 640x640 (no detections), 176.2ms\n",
      "video 1/1 (frame 786/908) C:\\Users\\ragha\\Amblane.mp4: 640x640 (no detections), 172.5ms\n",
      "video 1/1 (frame 787/908) C:\\Users\\ragha\\Amblane.mp4: 640x640 (no detections), 177.1ms\n"
     ]
    },
    {
     "name": "stdout",
     "output_type": "stream",
     "text": [
      "video 1/1 (frame 788/908) C:\\Users\\ragha\\Amblane.mp4: 640x640 (no detections), 175.1ms\n",
      "video 1/1 (frame 789/908) C:\\Users\\ragha\\Amblane.mp4: 640x640 (no detections), 173.1ms\n",
      "video 1/1 (frame 790/908) C:\\Users\\ragha\\Amblane.mp4: 640x640 (no detections), 171.1ms\n",
      "video 1/1 (frame 791/908) C:\\Users\\ragha\\Amblane.mp4: 640x640 (no detections), 172.1ms\n",
      "video 1/1 (frame 792/908) C:\\Users\\ragha\\Amblane.mp4: 640x640 (no detections), 172.6ms\n",
      "video 1/1 (frame 793/908) C:\\Users\\ragha\\Amblane.mp4: 640x640 (no detections), 171.6ms\n",
      "video 1/1 (frame 794/908) C:\\Users\\ragha\\Amblane.mp4: 640x640 (no detections), 171.8ms\n",
      "video 1/1 (frame 795/908) C:\\Users\\ragha\\Amblane.mp4: 640x640 (no detections), 171.6ms\n",
      "video 1/1 (frame 796/908) C:\\Users\\ragha\\Amblane.mp4: 640x640 (no detections), 169.6ms\n",
      "video 1/1 (frame 797/908) C:\\Users\\ragha\\Amblane.mp4: 640x640 (no detections), 175.1ms\n",
      "video 1/1 (frame 798/908) C:\\Users\\ragha\\Amblane.mp4: 640x640 (no detections), 178.1ms\n",
      "video 1/1 (frame 799/908) C:\\Users\\ragha\\Amblane.mp4: 640x640 (no detections), 173.1ms\n",
      "video 1/1 (frame 800/908) C:\\Users\\ragha\\Amblane.mp4: 640x640 (no detections), 174.1ms\n",
      "video 1/1 (frame 801/908) C:\\Users\\ragha\\Amblane.mp4: 640x640 (no detections), 169.1ms\n",
      "video 1/1 (frame 802/908) C:\\Users\\ragha\\Amblane.mp4: 640x640 (no detections), 170.8ms\n",
      "video 1/1 (frame 803/908) C:\\Users\\ragha\\Amblane.mp4: 640x640 (no detections), 171.1ms\n",
      "video 1/1 (frame 804/908) C:\\Users\\ragha\\Amblane.mp4: 640x640 (no detections), 177.3ms\n",
      "video 1/1 (frame 805/908) C:\\Users\\ragha\\Amblane.mp4: 640x640 (no detections), 172.4ms\n",
      "video 1/1 (frame 806/908) C:\\Users\\ragha\\Amblane.mp4: 640x640 (no detections), 174.1ms\n",
      "video 1/1 (frame 807/908) C:\\Users\\ragha\\Amblane.mp4: 640x640 (no detections), 170.1ms\n",
      "video 1/1 (frame 808/908) C:\\Users\\ragha\\Amblane.mp4: 640x640 (no detections), 170.1ms\n",
      "video 1/1 (frame 809/908) C:\\Users\\ragha\\Amblane.mp4: 640x640 (no detections), 169.1ms\n",
      "video 1/1 (frame 810/908) C:\\Users\\ragha\\Amblane.mp4: 640x640 (no detections), 170.4ms\n",
      "video 1/1 (frame 811/908) C:\\Users\\ragha\\Amblane.mp4: 640x640 (no detections), 174.5ms\n",
      "video 1/1 (frame 812/908) C:\\Users\\ragha\\Amblane.mp4: 640x640 (no detections), 173.1ms\n",
      "video 1/1 (frame 813/908) C:\\Users\\ragha\\Amblane.mp4: 640x640 (no detections), 173.8ms\n",
      "video 1/1 (frame 814/908) C:\\Users\\ragha\\Amblane.mp4: 640x640 (no detections), 174.5ms\n",
      "video 1/1 (frame 815/908) C:\\Users\\ragha\\Amblane.mp4: 640x640 (no detections), 171.1ms\n",
      "video 1/1 (frame 816/908) C:\\Users\\ragha\\Amblane.mp4: 640x640 (no detections), 172.1ms\n",
      "video 1/1 (frame 817/908) C:\\Users\\ragha\\Amblane.mp4: 640x640 (no detections), 169.1ms\n",
      "video 1/1 (frame 818/908) C:\\Users\\ragha\\Amblane.mp4: 640x640 (no detections), 161.8ms\n",
      "video 1/1 (frame 819/908) C:\\Users\\ragha\\Amblane.mp4: 640x640 (no detections), 168.7ms\n",
      "video 1/1 (frame 820/908) C:\\Users\\ragha\\Amblane.mp4: 640x640 (no detections), 163.5ms\n",
      "video 1/1 (frame 821/908) C:\\Users\\ragha\\Amblane.mp4: 640x640 (no detections), 158.0ms\n",
      "video 1/1 (frame 822/908) C:\\Users\\ragha\\Amblane.mp4: 640x640 (no detections), 176.7ms\n",
      "video 1/1 (frame 823/908) C:\\Users\\ragha\\Amblane.mp4: 640x640 (no detections), 166.0ms\n",
      "video 1/1 (frame 824/908) C:\\Users\\ragha\\Amblane.mp4: 640x640 (no detections), 164.4ms\n",
      "video 1/1 (frame 825/908) C:\\Users\\ragha\\Amblane.mp4: 640x640 (no detections), 165.1ms\n",
      "video 1/1 (frame 826/908) C:\\Users\\ragha\\Amblane.mp4: 640x640 (no detections), 163.6ms\n",
      "video 1/1 (frame 827/908) C:\\Users\\ragha\\Amblane.mp4: 640x640 (no detections), 167.8ms\n",
      "video 1/1 (frame 828/908) C:\\Users\\ragha\\Amblane.mp4: 640x640 (no detections), 162.5ms\n",
      "video 1/1 (frame 829/908) C:\\Users\\ragha\\Amblane.mp4: 640x640 (no detections), 165.2ms\n",
      "video 1/1 (frame 830/908) C:\\Users\\ragha\\Amblane.mp4: 640x640 (no detections), 165.1ms\n",
      "video 1/1 (frame 831/908) C:\\Users\\ragha\\Amblane.mp4: 640x640 (no detections), 167.2ms\n",
      "video 1/1 (frame 832/908) C:\\Users\\ragha\\Amblane.mp4: 640x640 (no detections), 164.5ms\n",
      "video 1/1 (frame 833/908) C:\\Users\\ragha\\Amblane.mp4: 640x640 (no detections), 179.7ms\n",
      "video 1/1 (frame 834/908) C:\\Users\\ragha\\Amblane.mp4: 640x640 (no detections), 190.2ms\n",
      "video 1/1 (frame 835/908) C:\\Users\\ragha\\Amblane.mp4: 640x640 (no detections), 187.7ms\n",
      "video 1/1 (frame 836/908) C:\\Users\\ragha\\Amblane.mp4: 640x640 (no detections), 185.6ms\n",
      "video 1/1 (frame 837/908) C:\\Users\\ragha\\Amblane.mp4: 640x640 (no detections), 197.1ms\n",
      "video 1/1 (frame 838/908) C:\\Users\\ragha\\Amblane.mp4: 640x640 (no detections), 177.2ms\n",
      "video 1/1 (frame 839/908) C:\\Users\\ragha\\Amblane.mp4: 640x640 (no detections), 191.1ms\n",
      "video 1/1 (frame 840/908) C:\\Users\\ragha\\Amblane.mp4: 640x640 (no detections), 189.1ms\n",
      "video 1/1 (frame 841/908) C:\\Users\\ragha\\Amblane.mp4: 640x640 (no detections), 187.6ms\n",
      "video 1/1 (frame 842/908) C:\\Users\\ragha\\Amblane.mp4: 640x640 (no detections), 184.6ms\n",
      "video 1/1 (frame 843/908) C:\\Users\\ragha\\Amblane.mp4: 640x640 (no detections), 191.1ms\n",
      "video 1/1 (frame 844/908) C:\\Users\\ragha\\Amblane.mp4: 640x640 (no detections), 191.4ms\n",
      "video 1/1 (frame 845/908) C:\\Users\\ragha\\Amblane.mp4: 640x640 (no detections), 186.4ms\n",
      "video 1/1 (frame 846/908) C:\\Users\\ragha\\Amblane.mp4: 640x640 (no detections), 189.1ms\n",
      "video 1/1 (frame 847/908) C:\\Users\\ragha\\Amblane.mp4: 640x640 (no detections), 176.0ms\n",
      "video 1/1 (frame 848/908) C:\\Users\\ragha\\Amblane.mp4: 640x640 (no detections), 170.6ms\n",
      "video 1/1 (frame 849/908) C:\\Users\\ragha\\Amblane.mp4: 640x640 (no detections), 168.5ms\n",
      "video 1/1 (frame 850/908) C:\\Users\\ragha\\Amblane.mp4: 640x640 (no detections), 175.1ms\n",
      "video 1/1 (frame 851/908) C:\\Users\\ragha\\Amblane.mp4: 640x640 (no detections), 167.6ms\n",
      "video 1/1 (frame 852/908) C:\\Users\\ragha\\Amblane.mp4: 640x640 (no detections), 171.0ms\n",
      "video 1/1 (frame 853/908) C:\\Users\\ragha\\Amblane.mp4: 640x640 (no detections), 172.9ms\n",
      "video 1/1 (frame 854/908) C:\\Users\\ragha\\Amblane.mp4: 640x640 (no detections), 170.6ms\n",
      "video 1/1 (frame 855/908) C:\\Users\\ragha\\Amblane.mp4: 640x640 (no detections), 185.1ms\n",
      "video 1/1 (frame 856/908) C:\\Users\\ragha\\Amblane.mp4: 640x640 (no detections), 173.1ms\n",
      "video 1/1 (frame 857/908) C:\\Users\\ragha\\Amblane.mp4: 640x640 (no detections), 185.1ms\n",
      "video 1/1 (frame 858/908) C:\\Users\\ragha\\Amblane.mp4: 640x640 (no detections), 183.5ms\n",
      "video 1/1 (frame 859/908) C:\\Users\\ragha\\Amblane.mp4: 640x640 (no detections), 185.6ms\n",
      "video 1/1 (frame 860/908) C:\\Users\\ragha\\Amblane.mp4: 640x640 (no detections), 168.1ms\n",
      "video 1/1 (frame 861/908) C:\\Users\\ragha\\Amblane.mp4: 640x640 (no detections), 172.7ms\n",
      "video 1/1 (frame 862/908) C:\\Users\\ragha\\Amblane.mp4: 640x640 (no detections), 175.1ms\n",
      "video 1/1 (frame 863/908) C:\\Users\\ragha\\Amblane.mp4: 640x640 (no detections), 174.2ms\n",
      "video 1/1 (frame 864/908) C:\\Users\\ragha\\Amblane.mp4: 640x640 (no detections), 174.6ms\n",
      "video 1/1 (frame 865/908) C:\\Users\\ragha\\Amblane.mp4: 640x640 (no detections), 174.6ms\n",
      "video 1/1 (frame 866/908) C:\\Users\\ragha\\Amblane.mp4: 640x640 (no detections), 173.6ms\n",
      "video 1/1 (frame 867/908) C:\\Users\\ragha\\Amblane.mp4: 640x640 (no detections), 174.5ms\n",
      "video 1/1 (frame 868/908) C:\\Users\\ragha\\Amblane.mp4: 640x640 (no detections), 174.1ms\n",
      "video 1/1 (frame 869/908) C:\\Users\\ragha\\Amblane.mp4: 640x640 (no detections), 175.1ms\n",
      "video 1/1 (frame 870/908) C:\\Users\\ragha\\Amblane.mp4: 640x640 (no detections), 174.1ms\n",
      "video 1/1 (frame 871/908) C:\\Users\\ragha\\Amblane.mp4: 640x640 (no detections), 172.4ms\n",
      "video 1/1 (frame 872/908) C:\\Users\\ragha\\Amblane.mp4: 640x640 (no detections), 169.2ms\n",
      "video 1/1 (frame 873/908) C:\\Users\\ragha\\Amblane.mp4: 640x640 (no detections), 170.1ms\n",
      "video 1/1 (frame 874/908) C:\\Users\\ragha\\Amblane.mp4: 640x640 (no detections), 168.1ms\n",
      "video 1/1 (frame 875/908) C:\\Users\\ragha\\Amblane.mp4: 640x640 (no detections), 178.1ms\n",
      "video 1/1 (frame 876/908) C:\\Users\\ragha\\Amblane.mp4: 640x640 (no detections), 173.3ms\n",
      "video 1/1 (frame 877/908) C:\\Users\\ragha\\Amblane.mp4: 640x640 (no detections), 172.3ms\n",
      "video 1/1 (frame 878/908) C:\\Users\\ragha\\Amblane.mp4: 640x640 (no detections), 172.3ms\n",
      "video 1/1 (frame 879/908) C:\\Users\\ragha\\Amblane.mp4: 640x640 (no detections), 172.7ms\n",
      "video 1/1 (frame 880/908) C:\\Users\\ragha\\Amblane.mp4: 640x640 (no detections), 171.3ms\n",
      "video 1/1 (frame 881/908) C:\\Users\\ragha\\Amblane.mp4: 640x640 (no detections), 173.4ms\n",
      "video 1/1 (frame 882/908) C:\\Users\\ragha\\Amblane.mp4: 640x640 (no detections), 173.6ms\n"
     ]
    },
    {
     "name": "stdout",
     "output_type": "stream",
     "text": [
      "video 1/1 (frame 883/908) C:\\Users\\ragha\\Amblane.mp4: 640x640 (no detections), 172.1ms\n",
      "video 1/1 (frame 884/908) C:\\Users\\ragha\\Amblane.mp4: 640x640 (no detections), 175.1ms\n",
      "video 1/1 (frame 885/908) C:\\Users\\ragha\\Amblane.mp4: 640x640 (no detections), 178.4ms\n",
      "video 1/1 (frame 886/908) C:\\Users\\ragha\\Amblane.mp4: 640x640 (no detections), 172.6ms\n",
      "video 1/1 (frame 887/908) C:\\Users\\ragha\\Amblane.mp4: 640x640 (no detections), 171.1ms\n",
      "video 1/1 (frame 888/908) C:\\Users\\ragha\\Amblane.mp4: 640x640 (no detections), 168.6ms\n",
      "video 1/1 (frame 889/908) C:\\Users\\ragha\\Amblane.mp4: 640x640 (no detections), 169.6ms\n",
      "video 1/1 (frame 890/908) C:\\Users\\ragha\\Amblane.mp4: 640x640 (no detections), 167.6ms\n",
      "video 1/1 (frame 891/908) C:\\Users\\ragha\\Amblane.mp4: 640x640 (no detections), 173.1ms\n",
      "video 1/1 (frame 892/908) C:\\Users\\ragha\\Amblane.mp4: 640x640 (no detections), 169.9ms\n",
      "video 1/1 (frame 893/908) C:\\Users\\ragha\\Amblane.mp4: 640x640 (no detections), 171.0ms\n",
      "video 1/1 (frame 894/908) C:\\Users\\ragha\\Amblane.mp4: 640x640 (no detections), 171.5ms\n",
      "video 1/1 (frame 895/908) C:\\Users\\ragha\\Amblane.mp4: 640x640 (no detections), 169.7ms\n",
      "video 1/1 (frame 896/908) C:\\Users\\ragha\\Amblane.mp4: 640x640 (no detections), 164.0ms\n",
      "video 1/1 (frame 897/908) C:\\Users\\ragha\\Amblane.mp4: 640x640 (no detections), 171.6ms\n",
      "video 1/1 (frame 898/908) C:\\Users\\ragha\\Amblane.mp4: 640x640 (no detections), 167.1ms\n",
      "video 1/1 (frame 899/908) C:\\Users\\ragha\\Amblane.mp4: 640x640 (no detections), 170.6ms\n",
      "video 1/1 (frame 900/908) C:\\Users\\ragha\\Amblane.mp4: 640x640 (no detections), 169.7ms\n",
      "video 1/1 (frame 901/908) C:\\Users\\ragha\\Amblane.mp4: 640x640 (no detections), 163.4ms\n",
      "video 1/1 (frame 902/908) C:\\Users\\ragha\\Amblane.mp4: 640x640 (no detections), 173.2ms\n",
      "video 1/1 (frame 903/908) C:\\Users\\ragha\\Amblane.mp4: 640x640 (no detections), 179.3ms\n",
      "video 1/1 (frame 904/908) C:\\Users\\ragha\\Amblane.mp4: 640x640 (no detections), 175.1ms\n",
      "video 1/1 (frame 905/908) C:\\Users\\ragha\\Amblane.mp4: 640x640 (no detections), 182.0ms\n",
      "video 1/1 (frame 906/908) C:\\Users\\ragha\\Amblane.mp4: 640x640 (no detections), 179.8ms\n",
      "video 1/1 (frame 907/908) C:\\Users\\ragha\\Amblane.mp4: 640x640 (no detections), 175.8ms\n",
      "video 1/1 (frame 908/908) C:\\Users\\ragha\\Amblane.mp4: 640x640 (no detections), 173.8ms\n",
      "Speed: 12.4ms preprocess, 175.8ms inference, 2.5ms postprocess per image at shape (1, 3, 640, 640)\n",
      "Results saved to \u001b[1mruns\\detect\\predict\u001b[0m\n",
      "Prediction completed. Check the 'runs/predict' directory for output.\n",
      "Error: Could not open the output video file.\n"
     ]
    }
   ],
   "source": [
    "import cv2\n",
    "from ultralytics import YOLO\n",
    "\n",
    "# Load the trained YOLOv8 model\n",
    "model = YOLO(\"C:/Users/ragha/runs/detect/train7/weights/best.pt\")  # Path to your trained model\n",
    "\n",
    "# Perform prediction on a video file\n",
    "results = model.predict(\n",
    "    source=\"Amblane.mp4\",# Path to the input video\n",
    "    conf=0.7,\n",
    "    save=True           # Save the results\n",
    ")\n",
    "\n",
    "# Display the results\n",
    "print(\"Prediction completed. Check the 'runs/predict' directory for output.\")\n",
    "\n",
    "# Path to the saved video with predictions\n",
    "output_video_path = \"C:/Users/ragha/runs/detect/predict1/Amblane.avi\"\n",
    "\n",
    "# Open the video file for playback\n",
    "cap = cv2.VideoCapture(output_video_path)\n",
    "\n",
    "if not cap.isOpened():\n",
    "    print(\"Error: Could not open the output video file.\")\n",
    "else:\n",
    "    while cap.isOpened():\n",
    "        ret, frame = cap.read()\n",
    "        if not ret:\n",
    "            break\n",
    "\n",
    "        # Display the video frame\n",
    "        cv2.imshow( frame)\n",
    "\n",
    "        # Press 'q' to exit the video display\n",
    "        if cv2.waitKey(1) & 0xFF == ord('q'):\n",
    "            break\n",
    "\n",
    "    cap.release()\n",
    "    cv2.destroyAllWindows()\n"
   ]
  },
  {
   "cell_type": "code",
   "execution_count": null,
   "id": "30aac015",
   "metadata": {},
   "outputs": [],
   "source": []
  }
 ],
 "metadata": {
  "kernelspec": {
   "display_name": "Python 3 (ipykernel)",
   "language": "python",
   "name": "python3"
  },
  "language_info": {
   "codemirror_mode": {
    "name": "ipython",
    "version": 3
   },
   "file_extension": ".py",
   "mimetype": "text/x-python",
   "name": "python",
   "nbconvert_exporter": "python",
   "pygments_lexer": "ipython3",
   "version": "3.10.9"
  }
 },
 "nbformat": 4,
 "nbformat_minor": 5
}
